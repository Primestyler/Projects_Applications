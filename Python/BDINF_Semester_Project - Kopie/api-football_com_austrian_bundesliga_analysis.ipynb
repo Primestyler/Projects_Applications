{
 "cells": [
  {
   "cell_type": "code",
   "execution_count": 1,
   "id": "37255c25-84ab-4aa7-824b-ef841e16de05",
   "metadata": {},
   "outputs": [],
   "source": [
    "import requests\n",
    "from datetime import datetime\n",
    "import math\n",
    "import pymongo\n",
    "import pandas as pd\n",
    "import matplotlib.pyplot as plt"
   ]
  },
  {
   "cell_type": "markdown",
   "id": "b17cce85-aa20-4068-a0eb-fa61ff077546",
   "metadata": {},
   "source": [
    "# Übersicht der Struktur von api-football.com\n",
    "https://www.api-football.com/documentation-v3\n",
    "![title](img/api-football-com_overview.png)"
   ]
  },
  {
   "cell_type": "code",
   "execution_count": 2,
   "id": "3b6bb2f2-0823-442f-9f37-4da1e9409317",
   "metadata": {},
   "outputs": [],
   "source": [
    "# Funktion zum Abrufen von Daten über api-football.com\n",
    "def fetch_data(endpoint):\n",
    "    base_url = 'https://v3.football.api-sports.io'\n",
    "    headers = {'x-rapidapi-key': '9042f6002a1d87dba47a9712a79e63c7'}  # Hier den API-Schlüssel einfügen\n",
    "    response = requests.get(base_url + endpoint, headers=headers)\n",
    "    data = response.json()\n",
    "    return data"
   ]
  },
  {
   "cell_type": "code",
   "execution_count": 3,
   "id": "e81f50c1-bc48-416a-bbcf-4e090d503168",
   "metadata": {
    "tags": []
   },
   "outputs": [],
   "source": [
    "# Verbindung zur MongoDB-Datenbank am Azure Server herstellen\n",
    "client = pymongo.MongoClient(\n",
    "    host='20.82.185.108:27017', # <-- IP und Port hier einfügen\n",
    "    serverSelectionTimeoutMS=30000, # 30 Sekunden Timeout\n",
    "    username=\"group3\",\n",
    "    password=\"football\",\n",
    ")\n",
    "\n",
    "# Datenbank auswählen\n",
    "db = client['football_stats'] # Datenbankname hier einfügen"
   ]
  },
  {
   "cell_type": "code",
   "execution_count": 4,
   "id": "3f4dbb82-9504-43be-a747-9f912b941e14",
   "metadata": {
    "tags": []
   },
   "outputs": [
    {
     "ename": "ServerSelectionTimeoutError",
     "evalue": "20.82.185.108:27017: timed out (configured timeouts: socketTimeoutMS: 20000.0ms, connectTimeoutMS: 20000.0ms), Timeout: 30.0s, Topology Description: <TopologyDescription id: 6630ae36f5245483f5fde020, topology_type: Unknown, servers: [<ServerDescription ('20.82.185.108', 27017) server_type: Unknown, rtt: None, error=NetworkTimeout('20.82.185.108:27017: timed out (configured timeouts: socketTimeoutMS: 20000.0ms, connectTimeoutMS: 20000.0ms)')>]>",
     "output_type": "error",
     "traceback": [
      "\u001b[1;31m---------------------------------------------------------------------------\u001b[0m",
      "\u001b[1;31mServerSelectionTimeoutError\u001b[0m               Traceback (most recent call last)",
      "Cell \u001b[1;32mIn[4], line 1\u001b[0m\n\u001b[1;32m----> 1\u001b[0m db\u001b[38;5;241m.\u001b[39mlist_collection_names()\n",
      "File \u001b[1;32m~\\anaconda3\\Lib\\site-packages\\pymongo\\database.py:1147\u001b[0m, in \u001b[0;36mDatabase.list_collection_names\u001b[1;34m(self, session, filter, comment, **kwargs)\u001b[0m\n\u001b[0;32m   1144\u001b[0m     \u001b[38;5;28;01mif\u001b[39;00m \u001b[38;5;129;01mnot\u001b[39;00m \u001b[38;5;28mfilter\u001b[39m \u001b[38;5;129;01mor\u001b[39;00m (\u001b[38;5;28mlen\u001b[39m(\u001b[38;5;28mfilter\u001b[39m) \u001b[38;5;241m==\u001b[39m \u001b[38;5;241m1\u001b[39m \u001b[38;5;129;01mand\u001b[39;00m \u001b[38;5;124m\"\u001b[39m\u001b[38;5;124mname\u001b[39m\u001b[38;5;124m\"\u001b[39m \u001b[38;5;129;01min\u001b[39;00m \u001b[38;5;28mfilter\u001b[39m):\n\u001b[0;32m   1145\u001b[0m         kwargs[\u001b[38;5;124m\"\u001b[39m\u001b[38;5;124mnameOnly\u001b[39m\u001b[38;5;124m\"\u001b[39m] \u001b[38;5;241m=\u001b[39m \u001b[38;5;28;01mTrue\u001b[39;00m\n\u001b[1;32m-> 1147\u001b[0m \u001b[38;5;28;01mreturn\u001b[39;00m [result[\u001b[38;5;124m\"\u001b[39m\u001b[38;5;124mname\u001b[39m\u001b[38;5;124m\"\u001b[39m] \u001b[38;5;28;01mfor\u001b[39;00m result \u001b[38;5;129;01min\u001b[39;00m \u001b[38;5;28mself\u001b[39m\u001b[38;5;241m.\u001b[39mlist_collections(session\u001b[38;5;241m=\u001b[39msession, \u001b[38;5;241m*\u001b[39m\u001b[38;5;241m*\u001b[39mkwargs)]\n",
      "File \u001b[1;32m~\\anaconda3\\Lib\\site-packages\\pymongo\\database.py:1099\u001b[0m, in \u001b[0;36mDatabase.list_collections\u001b[1;34m(self, session, filter, comment, **kwargs)\u001b[0m\n\u001b[0;32m   1091\u001b[0m \u001b[38;5;28;01mdef\u001b[39;00m \u001b[38;5;21m_cmd\u001b[39m(\n\u001b[0;32m   1092\u001b[0m     session: Optional[ClientSession],\n\u001b[0;32m   1093\u001b[0m     _server: Server,\n\u001b[0;32m   1094\u001b[0m     conn: Connection,\n\u001b[0;32m   1095\u001b[0m     read_preference: _ServerMode,\n\u001b[0;32m   1096\u001b[0m ) \u001b[38;5;241m-\u001b[39m\u001b[38;5;241m>\u001b[39m CommandCursor[MutableMapping[\u001b[38;5;28mstr\u001b[39m, Any]]:\n\u001b[0;32m   1097\u001b[0m     \u001b[38;5;28;01mreturn\u001b[39;00m \u001b[38;5;28mself\u001b[39m\u001b[38;5;241m.\u001b[39m_list_collections(conn, session, read_preference\u001b[38;5;241m=\u001b[39mread_preference, \u001b[38;5;241m*\u001b[39m\u001b[38;5;241m*\u001b[39mkwargs)\n\u001b[1;32m-> 1099\u001b[0m \u001b[38;5;28;01mreturn\u001b[39;00m \u001b[38;5;28mself\u001b[39m\u001b[38;5;241m.\u001b[39m__client\u001b[38;5;241m.\u001b[39m_retryable_read(_cmd, read_pref, session)\n",
      "File \u001b[1;32m~\\anaconda3\\Lib\\site-packages\\pymongo\\mongo_client.py:1492\u001b[0m, in \u001b[0;36mMongoClient._retryable_read\u001b[1;34m(self, func, read_pref, session, address, retryable)\u001b[0m\n\u001b[0;32m   1487\u001b[0m \u001b[38;5;66;03m# Ensure that the client supports retrying on reads and there is no session in\u001b[39;00m\n\u001b[0;32m   1488\u001b[0m \u001b[38;5;66;03m# transaction, otherwise, we will not support retry behavior for this call.\u001b[39;00m\n\u001b[0;32m   1489\u001b[0m retryable \u001b[38;5;241m=\u001b[39m \u001b[38;5;28mbool\u001b[39m(\n\u001b[0;32m   1490\u001b[0m     retryable \u001b[38;5;129;01mand\u001b[39;00m \u001b[38;5;28mself\u001b[39m\u001b[38;5;241m.\u001b[39moptions\u001b[38;5;241m.\u001b[39mretry_reads \u001b[38;5;129;01mand\u001b[39;00m \u001b[38;5;129;01mnot\u001b[39;00m (session \u001b[38;5;129;01mand\u001b[39;00m session\u001b[38;5;241m.\u001b[39min_transaction)\n\u001b[0;32m   1491\u001b[0m )\n\u001b[1;32m-> 1492\u001b[0m \u001b[38;5;28;01mreturn\u001b[39;00m \u001b[38;5;28mself\u001b[39m\u001b[38;5;241m.\u001b[39m_retry_internal(\n\u001b[0;32m   1493\u001b[0m     func,\n\u001b[0;32m   1494\u001b[0m     session,\n\u001b[0;32m   1495\u001b[0m     \u001b[38;5;28;01mNone\u001b[39;00m,\n\u001b[0;32m   1496\u001b[0m     is_read\u001b[38;5;241m=\u001b[39m\u001b[38;5;28;01mTrue\u001b[39;00m,\n\u001b[0;32m   1497\u001b[0m     address\u001b[38;5;241m=\u001b[39maddress,\n\u001b[0;32m   1498\u001b[0m     read_pref\u001b[38;5;241m=\u001b[39mread_pref,\n\u001b[0;32m   1499\u001b[0m     retryable\u001b[38;5;241m=\u001b[39mretryable,\n\u001b[0;32m   1500\u001b[0m )\n",
      "File \u001b[1;32m~\\anaconda3\\Lib\\site-packages\\pymongo\\_csot.py:107\u001b[0m, in \u001b[0;36mapply.<locals>.csot_wrapper\u001b[1;34m(self, *args, **kwargs)\u001b[0m\n\u001b[0;32m    105\u001b[0m         \u001b[38;5;28;01mwith\u001b[39;00m _TimeoutContext(timeout):\n\u001b[0;32m    106\u001b[0m             \u001b[38;5;28;01mreturn\u001b[39;00m func(\u001b[38;5;28mself\u001b[39m, \u001b[38;5;241m*\u001b[39margs, \u001b[38;5;241m*\u001b[39m\u001b[38;5;241m*\u001b[39mkwargs)\n\u001b[1;32m--> 107\u001b[0m \u001b[38;5;28;01mreturn\u001b[39;00m func(\u001b[38;5;28mself\u001b[39m, \u001b[38;5;241m*\u001b[39margs, \u001b[38;5;241m*\u001b[39m\u001b[38;5;241m*\u001b[39mkwargs)\n",
      "File \u001b[1;32m~\\anaconda3\\Lib\\site-packages\\pymongo\\mongo_client.py:1462\u001b[0m, in \u001b[0;36mMongoClient._retry_internal\u001b[1;34m(self, func, session, bulk, is_read, address, read_pref, retryable)\u001b[0m\n\u001b[0;32m   1428\u001b[0m \u001b[38;5;129m@_csot\u001b[39m\u001b[38;5;241m.\u001b[39mapply\n\u001b[0;32m   1429\u001b[0m \u001b[38;5;28;01mdef\u001b[39;00m \u001b[38;5;21m_retry_internal\u001b[39m(\n\u001b[0;32m   1430\u001b[0m     \u001b[38;5;28mself\u001b[39m,\n\u001b[1;32m   (...)\u001b[0m\n\u001b[0;32m   1437\u001b[0m     retryable: \u001b[38;5;28mbool\u001b[39m \u001b[38;5;241m=\u001b[39m \u001b[38;5;28;01mFalse\u001b[39;00m,\n\u001b[0;32m   1438\u001b[0m ) \u001b[38;5;241m-\u001b[39m\u001b[38;5;241m>\u001b[39m T:\n\u001b[0;32m   1439\u001b[0m \u001b[38;5;250m    \u001b[39m\u001b[38;5;124;03m\"\"\"Internal retryable helper for all client transactions.\u001b[39;00m\n\u001b[0;32m   1440\u001b[0m \n\u001b[0;32m   1441\u001b[0m \u001b[38;5;124;03m    :Parameters:\u001b[39;00m\n\u001b[1;32m   (...)\u001b[0m\n\u001b[0;32m   1451\u001b[0m \u001b[38;5;124;03m      Output of the calling func()\u001b[39;00m\n\u001b[0;32m   1452\u001b[0m \u001b[38;5;124;03m    \"\"\"\u001b[39;00m\n\u001b[0;32m   1453\u001b[0m     \u001b[38;5;28;01mreturn\u001b[39;00m _ClientConnectionRetryable(\n\u001b[0;32m   1454\u001b[0m         mongo_client\u001b[38;5;241m=\u001b[39m\u001b[38;5;28mself\u001b[39m,\n\u001b[0;32m   1455\u001b[0m         func\u001b[38;5;241m=\u001b[39mfunc,\n\u001b[0;32m   1456\u001b[0m         bulk\u001b[38;5;241m=\u001b[39mbulk,\n\u001b[0;32m   1457\u001b[0m         is_read\u001b[38;5;241m=\u001b[39mis_read,\n\u001b[0;32m   1458\u001b[0m         session\u001b[38;5;241m=\u001b[39msession,\n\u001b[0;32m   1459\u001b[0m         read_pref\u001b[38;5;241m=\u001b[39mread_pref,\n\u001b[0;32m   1460\u001b[0m         address\u001b[38;5;241m=\u001b[39maddress,\n\u001b[0;32m   1461\u001b[0m         retryable\u001b[38;5;241m=\u001b[39mretryable,\n\u001b[1;32m-> 1462\u001b[0m     )\u001b[38;5;241m.\u001b[39mrun()\n",
      "File \u001b[1;32m~\\anaconda3\\Lib\\site-packages\\pymongo\\mongo_client.py:2315\u001b[0m, in \u001b[0;36m_ClientConnectionRetryable.run\u001b[1;34m(self)\u001b[0m\n\u001b[0;32m   2313\u001b[0m \u001b[38;5;28mself\u001b[39m\u001b[38;5;241m.\u001b[39m_check_last_error(check_csot\u001b[38;5;241m=\u001b[39m\u001b[38;5;28;01mTrue\u001b[39;00m)\n\u001b[0;32m   2314\u001b[0m \u001b[38;5;28;01mtry\u001b[39;00m:\n\u001b[1;32m-> 2315\u001b[0m     \u001b[38;5;28;01mreturn\u001b[39;00m \u001b[38;5;28mself\u001b[39m\u001b[38;5;241m.\u001b[39m_read() \u001b[38;5;28;01mif\u001b[39;00m \u001b[38;5;28mself\u001b[39m\u001b[38;5;241m.\u001b[39m_is_read \u001b[38;5;28;01melse\u001b[39;00m \u001b[38;5;28mself\u001b[39m\u001b[38;5;241m.\u001b[39m_write()\n\u001b[0;32m   2316\u001b[0m \u001b[38;5;28;01mexcept\u001b[39;00m ServerSelectionTimeoutError:\n\u001b[0;32m   2317\u001b[0m     \u001b[38;5;66;03m# The application may think the write was never attempted\u001b[39;00m\n\u001b[0;32m   2318\u001b[0m     \u001b[38;5;66;03m# if we raise ServerSelectionTimeoutError on the retry\u001b[39;00m\n\u001b[0;32m   2319\u001b[0m     \u001b[38;5;66;03m# attempt. Raise the original exception instead.\u001b[39;00m\n\u001b[0;32m   2320\u001b[0m     \u001b[38;5;28mself\u001b[39m\u001b[38;5;241m.\u001b[39m_check_last_error()\n",
      "File \u001b[1;32m~\\anaconda3\\Lib\\site-packages\\pymongo\\mongo_client.py:2437\u001b[0m, in \u001b[0;36m_ClientConnectionRetryable._read\u001b[1;34m(self)\u001b[0m\n\u001b[0;32m   2431\u001b[0m \u001b[38;5;28;01mdef\u001b[39;00m \u001b[38;5;21m_read\u001b[39m(\u001b[38;5;28mself\u001b[39m) \u001b[38;5;241m-\u001b[39m\u001b[38;5;241m>\u001b[39m T:\n\u001b[0;32m   2432\u001b[0m \u001b[38;5;250m    \u001b[39m\u001b[38;5;124;03m\"\"\"Wrapper method for read-type retryable client executions\u001b[39;00m\n\u001b[0;32m   2433\u001b[0m \n\u001b[0;32m   2434\u001b[0m \u001b[38;5;124;03m    :Returns:\u001b[39;00m\n\u001b[0;32m   2435\u001b[0m \u001b[38;5;124;03m        Output for func()'s call\u001b[39;00m\n\u001b[0;32m   2436\u001b[0m \u001b[38;5;124;03m    \"\"\"\u001b[39;00m\n\u001b[1;32m-> 2437\u001b[0m     \u001b[38;5;28mself\u001b[39m\u001b[38;5;241m.\u001b[39m_server \u001b[38;5;241m=\u001b[39m \u001b[38;5;28mself\u001b[39m\u001b[38;5;241m.\u001b[39m_get_server()\n\u001b[0;32m   2438\u001b[0m     \u001b[38;5;28;01massert\u001b[39;00m \u001b[38;5;28mself\u001b[39m\u001b[38;5;241m.\u001b[39m_read_pref \u001b[38;5;129;01mis\u001b[39;00m \u001b[38;5;129;01mnot\u001b[39;00m \u001b[38;5;28;01mNone\u001b[39;00m, \u001b[38;5;124m\"\u001b[39m\u001b[38;5;124mRead Preference required on read calls\u001b[39m\u001b[38;5;124m\"\u001b[39m\n\u001b[0;32m   2439\u001b[0m     \u001b[38;5;28;01mwith\u001b[39;00m \u001b[38;5;28mself\u001b[39m\u001b[38;5;241m.\u001b[39m_client\u001b[38;5;241m.\u001b[39m_conn_from_server(\u001b[38;5;28mself\u001b[39m\u001b[38;5;241m.\u001b[39m_read_pref, \u001b[38;5;28mself\u001b[39m\u001b[38;5;241m.\u001b[39m_server, \u001b[38;5;28mself\u001b[39m\u001b[38;5;241m.\u001b[39m_session) \u001b[38;5;28;01mas\u001b[39;00m (\n\u001b[0;32m   2440\u001b[0m         conn,\n\u001b[0;32m   2441\u001b[0m         read_pref,\n\u001b[0;32m   2442\u001b[0m     ):\n",
      "File \u001b[1;32m~\\anaconda3\\Lib\\site-packages\\pymongo\\mongo_client.py:2400\u001b[0m, in \u001b[0;36m_ClientConnectionRetryable._get_server\u001b[1;34m(self)\u001b[0m\n\u001b[0;32m   2394\u001b[0m \u001b[38;5;28;01mdef\u001b[39;00m \u001b[38;5;21m_get_server\u001b[39m(\u001b[38;5;28mself\u001b[39m) \u001b[38;5;241m-\u001b[39m\u001b[38;5;241m>\u001b[39m Server:\n\u001b[0;32m   2395\u001b[0m \u001b[38;5;250m    \u001b[39m\u001b[38;5;124;03m\"\"\"Retrieves a server object based on provided object context\u001b[39;00m\n\u001b[0;32m   2396\u001b[0m \n\u001b[0;32m   2397\u001b[0m \u001b[38;5;124;03m    :Returns:\u001b[39;00m\n\u001b[0;32m   2398\u001b[0m \u001b[38;5;124;03m        Abstraction to connect to server\u001b[39;00m\n\u001b[0;32m   2399\u001b[0m \u001b[38;5;124;03m    \"\"\"\u001b[39;00m\n\u001b[1;32m-> 2400\u001b[0m     \u001b[38;5;28;01mreturn\u001b[39;00m \u001b[38;5;28mself\u001b[39m\u001b[38;5;241m.\u001b[39m_client\u001b[38;5;241m.\u001b[39m_select_server(\n\u001b[0;32m   2401\u001b[0m         \u001b[38;5;28mself\u001b[39m\u001b[38;5;241m.\u001b[39m_server_selector, \u001b[38;5;28mself\u001b[39m\u001b[38;5;241m.\u001b[39m_session, address\u001b[38;5;241m=\u001b[39m\u001b[38;5;28mself\u001b[39m\u001b[38;5;241m.\u001b[39m_address\n\u001b[0;32m   2402\u001b[0m     )\n",
      "File \u001b[1;32m~\\anaconda3\\Lib\\site-packages\\pymongo\\mongo_client.py:1303\u001b[0m, in \u001b[0;36mMongoClient._select_server\u001b[1;34m(self, server_selector, session, address)\u001b[0m\n\u001b[0;32m   1301\u001b[0m             \u001b[38;5;28;01mraise\u001b[39;00m AutoReconnect(\u001b[38;5;124m\"\u001b[39m\u001b[38;5;124mserver \u001b[39m\u001b[38;5;132;01m%s\u001b[39;00m\u001b[38;5;124m:\u001b[39m\u001b[38;5;132;01m%s\u001b[39;00m\u001b[38;5;124m no longer available\u001b[39m\u001b[38;5;124m\"\u001b[39m \u001b[38;5;241m%\u001b[39m address)  \u001b[38;5;66;03m# noqa: UP031\u001b[39;00m\n\u001b[0;32m   1302\u001b[0m     \u001b[38;5;28;01melse\u001b[39;00m:\n\u001b[1;32m-> 1303\u001b[0m         server \u001b[38;5;241m=\u001b[39m topology\u001b[38;5;241m.\u001b[39mselect_server(server_selector)\n\u001b[0;32m   1304\u001b[0m     \u001b[38;5;28;01mreturn\u001b[39;00m server\n\u001b[0;32m   1305\u001b[0m \u001b[38;5;28;01mexcept\u001b[39;00m PyMongoError \u001b[38;5;28;01mas\u001b[39;00m exc:\n\u001b[0;32m   1306\u001b[0m     \u001b[38;5;66;03m# Server selection errors in a transaction are transient.\u001b[39;00m\n",
      "File \u001b[1;32m~\\anaconda3\\Lib\\site-packages\\pymongo\\topology.py:302\u001b[0m, in \u001b[0;36mTopology.select_server\u001b[1;34m(self, selector, server_selection_timeout, address)\u001b[0m\n\u001b[0;32m    295\u001b[0m \u001b[38;5;28;01mdef\u001b[39;00m \u001b[38;5;21mselect_server\u001b[39m(\n\u001b[0;32m    296\u001b[0m     \u001b[38;5;28mself\u001b[39m,\n\u001b[0;32m    297\u001b[0m     selector: Callable[[Selection], Selection],\n\u001b[0;32m    298\u001b[0m     server_selection_timeout: Optional[\u001b[38;5;28mfloat\u001b[39m] \u001b[38;5;241m=\u001b[39m \u001b[38;5;28;01mNone\u001b[39;00m,\n\u001b[0;32m    299\u001b[0m     address: Optional[_Address] \u001b[38;5;241m=\u001b[39m \u001b[38;5;28;01mNone\u001b[39;00m,\n\u001b[0;32m    300\u001b[0m ) \u001b[38;5;241m-\u001b[39m\u001b[38;5;241m>\u001b[39m Server:\n\u001b[0;32m    301\u001b[0m \u001b[38;5;250m    \u001b[39m\u001b[38;5;124;03m\"\"\"Like select_servers, but choose a random server if several match.\"\"\"\u001b[39;00m\n\u001b[1;32m--> 302\u001b[0m     server \u001b[38;5;241m=\u001b[39m \u001b[38;5;28mself\u001b[39m\u001b[38;5;241m.\u001b[39m_select_server(selector, server_selection_timeout, address)\n\u001b[0;32m    303\u001b[0m     \u001b[38;5;28;01mif\u001b[39;00m _csot\u001b[38;5;241m.\u001b[39mget_timeout():\n\u001b[0;32m    304\u001b[0m         _csot\u001b[38;5;241m.\u001b[39mset_rtt(server\u001b[38;5;241m.\u001b[39mdescription\u001b[38;5;241m.\u001b[39mmin_round_trip_time)\n",
      "File \u001b[1;32m~\\anaconda3\\Lib\\site-packages\\pymongo\\topology.py:286\u001b[0m, in \u001b[0;36mTopology._select_server\u001b[1;34m(self, selector, server_selection_timeout, address)\u001b[0m\n\u001b[0;32m    280\u001b[0m \u001b[38;5;28;01mdef\u001b[39;00m \u001b[38;5;21m_select_server\u001b[39m(\n\u001b[0;32m    281\u001b[0m     \u001b[38;5;28mself\u001b[39m,\n\u001b[0;32m    282\u001b[0m     selector: Callable[[Selection], Selection],\n\u001b[0;32m    283\u001b[0m     server_selection_timeout: Optional[\u001b[38;5;28mfloat\u001b[39m] \u001b[38;5;241m=\u001b[39m \u001b[38;5;28;01mNone\u001b[39;00m,\n\u001b[0;32m    284\u001b[0m     address: Optional[_Address] \u001b[38;5;241m=\u001b[39m \u001b[38;5;28;01mNone\u001b[39;00m,\n\u001b[0;32m    285\u001b[0m ) \u001b[38;5;241m-\u001b[39m\u001b[38;5;241m>\u001b[39m Server:\n\u001b[1;32m--> 286\u001b[0m     servers \u001b[38;5;241m=\u001b[39m \u001b[38;5;28mself\u001b[39m\u001b[38;5;241m.\u001b[39mselect_servers(selector, server_selection_timeout, address)\n\u001b[0;32m    287\u001b[0m     \u001b[38;5;28;01mif\u001b[39;00m \u001b[38;5;28mlen\u001b[39m(servers) \u001b[38;5;241m==\u001b[39m \u001b[38;5;241m1\u001b[39m:\n\u001b[0;32m    288\u001b[0m         \u001b[38;5;28;01mreturn\u001b[39;00m servers[\u001b[38;5;241m0\u001b[39m]\n",
      "File \u001b[1;32m~\\anaconda3\\Lib\\site-packages\\pymongo\\topology.py:237\u001b[0m, in \u001b[0;36mTopology.select_servers\u001b[1;34m(self, selector, server_selection_timeout, address)\u001b[0m\n\u001b[0;32m    234\u001b[0m     server_timeout \u001b[38;5;241m=\u001b[39m server_selection_timeout\n\u001b[0;32m    236\u001b[0m \u001b[38;5;28;01mwith\u001b[39;00m \u001b[38;5;28mself\u001b[39m\u001b[38;5;241m.\u001b[39m_lock:\n\u001b[1;32m--> 237\u001b[0m     server_descriptions \u001b[38;5;241m=\u001b[39m \u001b[38;5;28mself\u001b[39m\u001b[38;5;241m.\u001b[39m_select_servers_loop(selector, server_timeout, address)\n\u001b[0;32m    239\u001b[0m     \u001b[38;5;28;01mreturn\u001b[39;00m [\n\u001b[0;32m    240\u001b[0m         cast(Server, \u001b[38;5;28mself\u001b[39m\u001b[38;5;241m.\u001b[39mget_server_by_address(sd\u001b[38;5;241m.\u001b[39maddress)) \u001b[38;5;28;01mfor\u001b[39;00m sd \u001b[38;5;129;01min\u001b[39;00m server_descriptions\n\u001b[0;32m    241\u001b[0m     ]\n",
      "File \u001b[1;32m~\\anaconda3\\Lib\\site-packages\\pymongo\\topology.py:259\u001b[0m, in \u001b[0;36mTopology._select_servers_loop\u001b[1;34m(self, selector, timeout, address)\u001b[0m\n\u001b[0;32m    256\u001b[0m \u001b[38;5;28;01mwhile\u001b[39;00m \u001b[38;5;129;01mnot\u001b[39;00m server_descriptions:\n\u001b[0;32m    257\u001b[0m     \u001b[38;5;66;03m# No suitable servers.\u001b[39;00m\n\u001b[0;32m    258\u001b[0m     \u001b[38;5;28;01mif\u001b[39;00m timeout \u001b[38;5;241m==\u001b[39m \u001b[38;5;241m0\u001b[39m \u001b[38;5;129;01mor\u001b[39;00m now \u001b[38;5;241m>\u001b[39m end_time:\n\u001b[1;32m--> 259\u001b[0m         \u001b[38;5;28;01mraise\u001b[39;00m ServerSelectionTimeoutError(\n\u001b[0;32m    260\u001b[0m             \u001b[38;5;124mf\u001b[39m\u001b[38;5;124m\"\u001b[39m\u001b[38;5;132;01m{\u001b[39;00m\u001b[38;5;28mself\u001b[39m\u001b[38;5;241m.\u001b[39m_error_message(selector)\u001b[38;5;132;01m}\u001b[39;00m\u001b[38;5;124m, Timeout: \u001b[39m\u001b[38;5;132;01m{\u001b[39;00mtimeout\u001b[38;5;132;01m}\u001b[39;00m\u001b[38;5;124ms, Topology Description: \u001b[39m\u001b[38;5;132;01m{\u001b[39;00m\u001b[38;5;28mself\u001b[39m\u001b[38;5;241m.\u001b[39mdescription\u001b[38;5;132;01m!r}\u001b[39;00m\u001b[38;5;124m\"\u001b[39m\n\u001b[0;32m    261\u001b[0m         )\n\u001b[0;32m    263\u001b[0m     \u001b[38;5;28mself\u001b[39m\u001b[38;5;241m.\u001b[39m_ensure_opened()\n\u001b[0;32m    264\u001b[0m     \u001b[38;5;28mself\u001b[39m\u001b[38;5;241m.\u001b[39m_request_check_all()\n",
      "\u001b[1;31mServerSelectionTimeoutError\u001b[0m: 20.82.185.108:27017: timed out (configured timeouts: socketTimeoutMS: 20000.0ms, connectTimeoutMS: 20000.0ms), Timeout: 30.0s, Topology Description: <TopologyDescription id: 6630ae36f5245483f5fde020, topology_type: Unknown, servers: [<ServerDescription ('20.82.185.108', 27017) server_type: Unknown, rtt: None, error=NetworkTimeout('20.82.185.108:27017: timed out (configured timeouts: socketTimeoutMS: 20000.0ms, connectTimeoutMS: 20000.0ms)')>]>"
     ]
    }
   ],
   "source": [
    "db.list_collection_names()"
   ]
  },
  {
   "cell_type": "code",
   "execution_count": 8,
   "id": "384a0e0a-90c2-4997-ad1d-d5bf74ce0c96",
   "metadata": {
    "tags": []
   },
   "outputs": [],
   "source": [
    "# Funktion zum Einfügen einer Liste von Dokumenten in die MongoDB-Datenbank\n",
    "def insert_many_to_database(documents, collection_name):\n",
    "    collection = db[collection_name] # Collection erstellen bzw auswählen\n",
    "    return collection.insert_many(documents)"
   ]
  },
  {
   "cell_type": "code",
   "execution_count": 9,
   "id": "ce4bbab4-1a51-49fd-8319-96b9a40af0d4",
   "metadata": {
    "tags": []
   },
   "outputs": [],
   "source": [
    "# Funktion zum Einfügen eines einzelnen Dokuments in die MongoDB-Datenbank\n",
    "def insert_one_to_database(document, collection_name):\n",
    "    collection = db[collection_name] # Collection erstellen bzw auswählen  \n",
    "    return collection.insert_one(document)"
   ]
  },
  {
   "cell_type": "code",
   "execution_count": 10,
   "id": "96b6f32f-2185-4a95-a947-cbe28d3c24ed",
   "metadata": {
    "tags": []
   },
   "outputs": [],
   "source": [
    "# Funktion zur Extraktion von Daten über die Ligen\n",
    "def extract_leagues_data():\n",
    "    leagues_data = fetch_data(f\"/leagues\")    \n",
    "    return leagues_data"
   ]
  },
  {
   "cell_type": "code",
   "execution_count": 96,
   "id": "7be16c55-f485-49a3-b6ee-ca1346a4aa31",
   "metadata": {
    "tags": []
   },
   "outputs": [
    {
     "name": "stdout",
     "output_type": "stream",
     "text": [
      "Num of leagues: 1094\n",
      "{'id': 4, 'name': 'Euro Championship', 'type': 'Cup', 'logo': 'https://media.api-sports.io/football/leagues/4.png', 'country': 'World', 'last_season_id': 2024}\n",
      "<class 'dict'>\n"
     ]
    }
   ],
   "source": [
    "leagues = extract_leagues_data()\n",
    "\n",
    "print(\"Num of leagues:\", len(leagues[\"response\"]))\n",
    "first_response = leagues[\"response\"][0]\n",
    "# testing to create one league entry\n",
    "league = first_response[\"league\"]\n",
    "league[\"country\"] = first_response[\"country\"][\"name\"]\n",
    "league[\"last_season_id\"] = first_response[\"seasons\"][-1][\"year\"]\n",
    "print(league)\n",
    "print(type(league)) "
   ]
  },
  {
   "cell_type": "code",
   "execution_count": null,
   "id": "4004a757-c761-433d-9020-4d7d16bbee32",
   "metadata": {
    "tags": []
   },
   "outputs": [],
   "source": [
    "# Daten der Ligen in die collection \"api_football_com_leagues\" einfügen\n",
    "i = 1\n",
    "\n",
    "for r in leagues[\"response\"]:\n",
    "    league = r[\"league\"]\n",
    "    league[\"country\"] = r[\"country\"][\"name\"]\n",
    "    league[\"last_season_id\"] = r[\"seasons\"][-1][\"year\"]\n",
    "    insert_result = insert_one_to_database(league, \"api_football_com_leagues\")\n",
    "    print(\"entry_number:\", i, \"inserted_id:\", insert_result.inserted_id)  \n",
    "    i+=1"
   ]
  },
  {
   "cell_type": "code",
   "execution_count": 11,
   "id": "468e2f8e-d83d-4357-a948-c8e76f646730",
   "metadata": {
    "tags": []
   },
   "outputs": [
    {
     "data": {
      "text/plain": [
       "{'_id': ObjectId('66242bf174a7545451a67b9a'),\n",
       " 'id': 4,\n",
       " 'name': 'Euro Championship',\n",
       " 'type': 'Cup',\n",
       " 'logo': 'https://media.api-sports.io/football/leagues/4.png',\n",
       " 'country': 'World',\n",
       " 'last_season_id': 2024}"
      ]
     },
     "execution_count": 11,
     "metadata": {},
     "output_type": "execute_result"
    }
   ],
   "source": [
    "# collection löschen\n",
    "#db.api_football_com_leagues.drop()\n",
    "\n",
    "# Abfrage des ersten Eintrags aus der collection \"api_football_com_leagues\"\n",
    "db.api_football_com_leagues.find_one()"
   ]
  },
  {
   "cell_type": "code",
   "execution_count": 12,
   "id": "4277e02a-ca7d-40ee-9da9-88a5104bc934",
   "metadata": {
    "tags": []
   },
   "outputs": [
    {
     "name": "stdout",
     "output_type": "stream",
     "text": [
      "{'_id': ObjectId('66242c2974a7545451a67bea'), 'id': 218, 'name': 'Bundesliga', 'type': 'League', 'logo': 'https://media.api-sports.io/football/leagues/218.png', 'country': 'Austria', 'last_season_id': 2023}\n"
     ]
    }
   ],
   "source": [
    "# Abfrage der Bundesliga in AT von der MongoDB\n",
    "for x in db.api_football_com_leagues.find({\"name\": \"Bundesliga\", \"country\": \"Austria\"}):\n",
    "  print(x) "
   ]
  },
  {
   "cell_type": "code",
   "execution_count": 12,
   "id": "0f14b56e-c696-4eaa-8931-68ec0fd0be63",
   "metadata": {
    "tags": []
   },
   "outputs": [],
   "source": [
    "# Funktion zur Extraktion der Daten aller Teams, einer bestimmten Saison, einer bestimmten Liga\n",
    "def extract_teams_league_season_data(league_id, season_id):\n",
    "    teams_league_season_data = fetch_data(f\"/teams?league=\" + str(league_id) + \"&season=\" + str(season_id))    \n",
    "    return teams_league_season_data"
   ]
  },
  {
   "cell_type": "code",
   "execution_count": 18,
   "id": "4dcf8d43-2cde-4058-ac71-e611e41d2c05",
   "metadata": {},
   "outputs": [
    {
     "name": "stdout",
     "output_type": "stream",
     "text": [
      "{'team': {'id': 571, 'name': 'Red Bull Salzburg', 'code': 'SAL', 'country': 'Austria', 'founded': 1933, 'national': False, 'logo': 'https://media.api-sports.io/football/teams/571.png'}, 'venue': {'id': 148, 'name': 'Red Bull Arena', 'address': 'Stadionstrasse 2/3', 'city': 'Wals-Siezenheim', 'capacity': 31895, 'surface': 'grass', 'image': 'https://media.api-sports.io/football/venues/148.png'}}\n"
     ]
    }
   ],
   "source": [
    "current_austrian_bundesliga_teams = extract_teams_league_season_data(218, 2023)\n",
    "\n",
    "print(current_austrian_bundesliga_teams[\"response\"][0])"
   ]
  },
  {
   "cell_type": "code",
   "execution_count": 19,
   "id": "8ce53267-08d9-4f47-a06c-57983ef2906c",
   "metadata": {},
   "outputs": [
    {
     "name": "stdout",
     "output_type": "stream",
     "text": [
      "{'team': {'id': 571, 'name': 'Red Bull Salzburg', 'code': 'SAL', 'country': 'Austria', 'founded': 1933, 'national': False, 'logo': 'https://media.api-sports.io/football/teams/571.png'}, 'venue': {'id': 148, 'name': 'Red Bull Arena', 'address': 'Stadionstrasse 2/3', 'city': 'Wals-Siezenheim', 'capacity': 31895, 'surface': 'grass', 'image': 'https://media.api-sports.io/football/venues/148.png'}, 'league_id': 218, 'season_id': 2023}\n"
     ]
    }
   ],
   "source": [
    "current_austrian_bundesliga_teams = current_austrian_bundesliga_teams[\"response\"]\n",
    "\n",
    "for current_austrian_bundesliga_team in current_austrian_bundesliga_teams:\n",
    "    current_austrian_bundesliga_team[\"league_id\"] = 218\n",
    "    current_austrian_bundesliga_team[\"season_id\"] = 2023\n",
    "    \n",
    "print(current_austrian_bundesliga_teams[0])"
   ]
  },
  {
   "cell_type": "code",
   "execution_count": 23,
   "id": "a8b29f9c-3b1e-41dc-9a3d-01f699f8dea2",
   "metadata": {
    "tags": []
   },
   "outputs": [
    {
     "name": "stdout",
     "output_type": "stream",
     "text": [
      "team_id: 571 | team_name: Red Bull Salzburg | inserted_id: 66258d8b8fec5c65f04fe91a\n",
      "team_id: 601 | team_name: Austria Vienna | inserted_id: 66258d8b8fec5c65f04fe91b\n",
      "team_id: 618 | team_name: SCR Altach | inserted_id: 66258d8b8fec5c65f04fe91c\n",
      "team_id: 637 | team_name: Sturm Graz | inserted_id: 66258d8b8fec5c65f04fe91d\n",
      "team_id: 781 | team_name: Rapid Vienna | inserted_id: 66258d8b8fec5c65f04fe91e\n",
      "team_id: 1025 | team_name: Wolfsberger AC | inserted_id: 66258d8b8fec5c65f04fe91f\n",
      "team_id: 1026 | team_name: Lask Linz | inserted_id: 66258d8b8fec5c65f04fe920\n",
      "team_id: 1072 | team_name: TSV Hartberg | inserted_id: 66258d8b8fec5c65f04fe921\n",
      "team_id: 1394 | team_name: FC BW Linz | inserted_id: 66258d8b8fec5c65f04fe922\n",
      "team_id: 1398 | team_name: WSG Wattens | inserted_id: 66258d8c8fec5c65f04fe923\n",
      "team_id: 1399 | team_name: Austria Lustenau | inserted_id: 66258d8c8fec5c65f04fe924\n",
      "team_id: 1405 | team_name: Austria Klagenfurt | inserted_id: 66258d8c8fec5c65f04fe925\n"
     ]
    }
   ],
   "source": [
    "for t in current_austrian_bundesliga_teams:\n",
    "    insert_result = insert_one_to_database(t, \"api_football_com_leagues_seasons_teams\")\n",
    "    team = t[\"team\"]\n",
    "    print(\"team_id:\", team[\"id\"], \"| team_name:\", team[\"name\"], \"| inserted_id:\", insert_result.inserted_id)"
   ]
  },
  {
   "cell_type": "code",
   "execution_count": 26,
   "id": "0d725979-e06d-4e6e-8b6b-d9a72a3f3d55",
   "metadata": {},
   "outputs": [
    {
     "name": "stdout",
     "output_type": "stream",
     "text": [
      "{'_id': ObjectId('66258d8b8fec5c65f04fe91a'), 'team': {'id': 571, 'name': 'Red Bull Salzburg', 'code': 'SAL', 'country': 'Austria', 'founded': 1933, 'national': False, 'logo': 'https://media.api-sports.io/football/teams/571.png'}, 'venue': {'id': 148, 'name': 'Red Bull Arena', 'address': 'Stadionstrasse 2/3', 'city': 'Wals-Siezenheim', 'capacity': 31895, 'surface': 'grass', 'image': 'https://media.api-sports.io/football/venues/148.png'}, 'league_id': 218, 'season_id': 2023}\n",
      "{'_id': ObjectId('66258d8b8fec5c65f04fe91b'), 'team': {'id': 601, 'name': 'Austria Vienna', 'code': 'AUS', 'country': 'Austria', 'founded': 1911, 'national': False, 'logo': 'https://media.api-sports.io/football/teams/601.png'}, 'venue': {'id': 136, 'name': 'Generali Arena', 'address': 'Fischhofgasse 14', 'city': 'Wien', 'capacity': 18944, 'surface': 'grass', 'image': 'https://media.api-sports.io/football/venues/136.png'}, 'league_id': 218, 'season_id': 2023}\n",
      "{'_id': ObjectId('66258d8b8fec5c65f04fe91c'), 'team': {'id': 618, 'name': 'SCR Altach', 'code': 'ALT', 'country': 'Austria', 'founded': 1929, 'national': False, 'logo': 'https://media.api-sports.io/football/teams/618.png'}, 'venue': {'id': 146, 'name': 'CASHPOINT Arena', 'address': 'Schnabelholz 1', 'city': 'Altach', 'capacity': 8500, 'surface': 'grass', 'image': 'https://media.api-sports.io/football/venues/146.png'}, 'league_id': 218, 'season_id': 2023}\n",
      "{'_id': ObjectId('66258d8b8fec5c65f04fe91d'), 'team': {'id': 637, 'name': 'Sturm Graz', 'code': 'STU', 'country': 'Austria', 'founded': 1909, 'national': False, 'logo': 'https://media.api-sports.io/football/teams/637.png'}, 'venue': {'id': 150, 'name': 'Merkur Arena', 'address': 'Stadionplatz 1 A', 'city': 'Graz', 'capacity': 16764, 'surface': 'grass', 'image': 'https://media.api-sports.io/football/venues/150.png'}, 'league_id': 218, 'season_id': 2023}\n",
      "{'_id': ObjectId('66258d8b8fec5c65f04fe91e'), 'team': {'id': 781, 'name': 'Rapid Vienna', 'code': 'RAP', 'country': 'Austria', 'founded': 1899, 'national': False, 'logo': 'https://media.api-sports.io/football/teams/781.png'}, 'venue': {'id': 145, 'name': 'Allianz Stadion', 'address': 'Gerhard Hanappi Platz 1, Hütteldorf', 'city': 'Wien', 'capacity': 28345, 'surface': 'grass', 'image': 'https://media.api-sports.io/football/venues/145.png'}, 'league_id': 218, 'season_id': 2023}\n",
      "{'_id': ObjectId('66258d8b8fec5c65f04fe91f'), 'team': {'id': 1025, 'name': 'Wolfsberger AC', 'code': 'WOL', 'country': 'Austria', 'founded': 1931, 'national': False, 'logo': 'https://media.api-sports.io/football/teams/1025.png'}, 'venue': {'id': 1761, 'name': 'Lavanttal Arena', 'address': 'Don-Bosco-Weg 1', 'city': 'Wolfsberg', 'capacity': 9000, 'surface': 'grass', 'image': 'https://media.api-sports.io/football/venues/1761.png'}, 'league_id': 218, 'season_id': 2023}\n",
      "{'_id': ObjectId('66258d8b8fec5c65f04fe920'), 'team': {'id': 1026, 'name': 'Lask Linz', 'code': 'LAS', 'country': 'Austria', 'founded': 1908, 'national': False, 'logo': 'https://media.api-sports.io/football/teams/1026.png'}, 'venue': {'id': 143, 'name': 'Raiffeisen Arena', 'address': 'Ziegeleistraße 76, Froschberg', 'city': 'Linz', 'capacity': 19080, 'surface': 'grass', 'image': 'https://media.api-sports.io/football/venues/143.png'}, 'league_id': 218, 'season_id': 2023}\n",
      "{'_id': ObjectId('66258d8b8fec5c65f04fe921'), 'team': {'id': 1072, 'name': 'TSV Hartberg', 'code': 'HAR', 'country': 'Austria', 'founded': 1946, 'national': False, 'logo': 'https://media.api-sports.io/football/teams/1072.png'}, 'venue': {'id': 140, 'name': 'PROfertil ARENA', 'address': 'Stefan-Seedoch-Allee 26', 'city': 'Hartberg', 'capacity': 5420, 'surface': 'grass', 'image': 'https://media.api-sports.io/football/venues/140.png'}, 'league_id': 218, 'season_id': 2023}\n",
      "{'_id': ObjectId('66258d8b8fec5c65f04fe922'), 'team': {'id': 1394, 'name': 'FC BW Linz', 'code': 'LIN', 'country': 'Austria', 'founded': 1997, 'national': False, 'logo': 'https://media.api-sports.io/football/teams/1394.png'}, 'venue': {'id': 11873, 'name': 'Hofmann Personal Stadion', 'address': 'Straßerau 3', 'city': 'Linz', 'capacity': 5600, 'surface': 'grass', 'image': 'https://media.api-sports.io/football/venues/11873.png'}, 'league_id': 218, 'season_id': 2023}\n",
      "{'_id': ObjectId('66258d8c8fec5c65f04fe923'), 'team': {'id': 1398, 'name': 'WSG Wattens', 'code': 'WAT', 'country': 'Austria', 'founded': 1930, 'national': False, 'logo': 'https://media.api-sports.io/football/teams/1398.png'}, 'venue': {'id': 152, 'name': 'Tivoli Stadion Tirol', 'address': 'Stadionstrasse 1b', 'city': 'Innsbruck', 'capacity': 16008, 'surface': 'grass', 'image': 'https://media.api-sports.io/football/venues/152.png'}, 'league_id': 218, 'season_id': 2023}\n",
      "{'_id': ObjectId('66258d8c8fec5c65f04fe924'), 'team': {'id': 1399, 'name': 'Austria Lustenau', 'code': 'LUS', 'country': 'Austria', 'founded': 1914, 'national': False, 'logo': 'https://media.api-sports.io/football/teams/1399.png'}, 'venue': {'id': 135, 'name': 'Planet Pure Stadion', 'address': 'Schützengartenstraße 21', 'city': 'Lustenau', 'capacity': 8800, 'surface': 'grass', 'image': 'https://media.api-sports.io/football/venues/135.png'}, 'league_id': 218, 'season_id': 2023}\n",
      "{'_id': ObjectId('66258d8c8fec5c65f04fe925'), 'team': {'id': 1405, 'name': 'Austria Klagenfurt', 'code': None, 'country': 'Austria', 'founded': None, 'national': False, 'logo': 'https://media.api-sports.io/football/teams/1405.png'}, 'venue': {'id': 19258, 'name': '28 Black Arena', 'address': 'Südring 207', 'city': 'Klagenfurt am Wörthersee', 'capacity': 32000, 'surface': 'grass', 'image': 'https://media.api-sports.io/football/venues/19258.png'}, 'league_id': 218, 'season_id': 2023}\n"
     ]
    }
   ],
   "source": [
    "# Abfrage der Teams der Bundesliga in AT von der MongoDB\n",
    "for x in db.api_football_com_leagues_seasons_teams.find({\"league_id\": 218, \"season_id\": 2023}):\n",
    "  print(x) "
   ]
  },
  {
   "cell_type": "code",
   "execution_count": 13,
   "id": "18b3f2f5-1e61-484e-b354-0d7da7b3b464",
   "metadata": {
    "tags": []
   },
   "outputs": [],
   "source": [
    "# Funktion zur Extraktion von Daten über ein bestimmtes Team, einer bestimmten Saison, einer bestimmten Liga\n",
    "def extract_team_data(season_id, team_id, league_id):\n",
    "    team_data = fetch_data(f\"/teams/statistics?season=\" + str(season_id) + \"&team=\" + str(team_id) + \"&league=\" + str(league_id))\n",
    "    #top_scorers = scorers_data[\"scorers\"][:num_players]  # Die ersten num_players Top-Torschützen\n",
    "    return team_data"
   ]
  },
  {
   "cell_type": "code",
   "execution_count": 14,
   "id": "93ed9308-82ad-41f1-86a7-306ec38d7fcf",
   "metadata": {
    "tags": []
   },
   "outputs": [
    {
     "name": "stdout",
     "output_type": "stream",
     "text": [
      "{'get': 'teams/statistics', 'parameters': {'season': '2023', 'team': '781', 'league': '218'}, 'errors': [], 'results': 11, 'paging': {'current': 1, 'total': 1}, 'response': {'league': {'id': 218, 'name': 'Bundesliga', 'country': 'Austria', 'logo': 'https://media.api-sports.io/football/leagues/218.png', 'flag': 'https://media.api-sports.io/flags/at.svg', 'season': 2023}, 'team': {'id': 781, 'name': 'Rapid Vienna', 'logo': 'https://media.api-sports.io/football/teams/781.png'}, 'form': 'DWLWDLDDDWLDWLWWLWDWDDDWDDLLL', 'fixtures': {'played': {'home': 14, 'away': 15, 'total': 29}, 'wins': {'home': 3, 'away': 6, 'total': 9}, 'draws': {'home': 7, 'away': 5, 'total': 12}, 'loses': {'home': 4, 'away': 4, 'total': 8}}, 'goals': {'for': {'total': {'home': 21, 'away': 23, 'total': 44}, 'average': {'home': '1.5', 'away': '1.5', 'total': '1.5'}, 'minute': {'0-15': {'total': 8, 'percentage': '18.60%'}, '16-30': {'total': 8, 'percentage': '18.60%'}, '31-45': {'total': 6, 'percentage': '13.95%'}, '46-60': {'total': 4, 'percentage': '9.30%'}, '61-75': {'total': 6, 'percentage': '13.95%'}, '76-90': {'total': 5, 'percentage': '11.63%'}, '91-105': {'total': 6, 'percentage': '13.95%'}, '106-120': {'total': None, 'percentage': None}}}, 'against': {'total': {'home': 18, 'away': 14, 'total': 32}, 'average': {'home': '1.3', 'away': '0.9', 'total': '1.1'}, 'minute': {'0-15': {'total': 5, 'percentage': '15.15%'}, '16-30': {'total': 5, 'percentage': '15.15%'}, '31-45': {'total': 5, 'percentage': '15.15%'}, '46-60': {'total': 5, 'percentage': '15.15%'}, '61-75': {'total': 7, 'percentage': '21.21%'}, '76-90': {'total': 3, 'percentage': '9.09%'}, '91-105': {'total': 3, 'percentage': '9.09%'}, '106-120': {'total': None, 'percentage': None}}}}, 'biggest': {'streak': {'wins': 2, 'draws': 3, 'loses': 1}, 'wins': {'home': '4-0', 'away': '0-5'}, 'loses': {'home': '1-3', 'away': '5-0'}, 'goals': {'for': {'home': 4, 'away': 5}, 'against': {'home': 3, 'away': 5}}}, 'clean_sheet': {'home': 4, 'away': 6, 'total': 10}, 'failed_to_score': {'home': 3, 'away': 5, 'total': 8}, 'penalty': {'scored': {'total': 7, 'percentage': '100.00%'}, 'missed': {'total': 0, 'percentage': '0%'}, 'total': 7}, 'lineups': [{'formation': '4-2-3-1', 'played': 28}, {'formation': '5-4-1', 'played': 1}], 'cards': {'yellow': {'0-15': {'total': 3, 'percentage': '4.76%'}, '16-30': {'total': 6, 'percentage': '9.52%'}, '31-45': {'total': 5, 'percentage': '7.94%'}, '46-60': {'total': 10, 'percentage': '15.87%'}, '61-75': {'total': 8, 'percentage': '12.70%'}, '76-90': {'total': 21, 'percentage': '33.33%'}, '91-105': {'total': 10, 'percentage': '15.87%'}, '106-120': {'total': None, 'percentage': None}}, 'red': {'0-15': {'total': None, 'percentage': None}, '16-30': {'total': None, 'percentage': None}, '31-45': {'total': None, 'percentage': None}, '46-60': {'total': None, 'percentage': None}, '61-75': {'total': 1, 'percentage': '33.33%'}, '76-90': {'total': 2, 'percentage': '66.67%'}, '91-105': {'total': None, 'percentage': None}, '106-120': {'total': None, 'percentage': None}}}}}\n"
     ]
    }
   ],
   "source": [
    "# Beispiel \n",
    "team = extract_team_data(2023, 781, 218)\n",
    "print(team)"
   ]
  },
  {
   "cell_type": "code",
   "execution_count": 15,
   "id": "eed75185-8e41-457f-8a7c-29bb85415cc1",
   "metadata": {
    "tags": []
   },
   "outputs": [],
   "source": [
    "# Funktion zur Extraktion von Daten der Spieler eines Teams\n",
    "def extract_squad_data(team_id):\n",
    "    squad_data = fetch_data(f\"/players/squads?team=\" + str(team_id))\n",
    "    #top_scorers = scorers_data[\"scorers\"][:num_players]  # Die ersten num_players Top-Torschützen\n",
    "    return squad_data"
   ]
  },
  {
   "cell_type": "code",
   "execution_count": 16,
   "id": "189fc24c-dd64-4665-bcdb-03b2f7bf02a3",
   "metadata": {
    "tags": []
   },
   "outputs": [],
   "source": [
    "squad = extract_squad_data(781)"
   ]
  },
  {
   "cell_type": "code",
   "execution_count": 17,
   "id": "495ca056-5389-440f-ac92-803d751e1677",
   "metadata": {
    "tags": []
   },
   "outputs": [
    {
     "name": "stdout",
     "output_type": "stream",
     "text": [
      "<class 'dict'>\n",
      "{'team': {'id': 781, 'name': 'Rapid Vienna', 'logo': 'https://media.api-sports.io/football/teams/781.png'}, 'players': [{'id': 78400, 'name': 'B. Unger', 'age': 24, 'number': 21, 'position': 'Goalkeeper', 'photo': 'https://media.api-sports.io/football/players/78400.png'}, {'id': 1710, 'name': 'P. Gartler', 'age': 26, 'number': 25, 'position': 'Goalkeeper', 'photo': 'https://media.api-sports.io/football/players/1710.png'}, {'id': 169346, 'name': 'N. Hedl', 'age': 22, 'number': 45, 'position': 'Goalkeeper', 'photo': 'https://media.api-sports.io/football/players/169346.png'}, {'id': 302866, 'name': 'L. Orgler', 'age': 19, 'number': 50, 'position': 'Goalkeeper', 'photo': 'https://media.api-sports.io/football/players/302866.png'}, {'id': 134756, 'name': 'N. Kasanwirjo', 'age': 21, 'number': 6, 'position': 'Defender', 'photo': 'https://media.api-sports.io/football/players/134756.png'}, {'id': 19043, 'name': 'T. Kongolo', 'age': 29, 'number': 15, 'position': 'Defender', 'photo': 'https://media.api-sports.io/football/players/19043.png'}, {'id': 7554, 'name': 'M. Sollbauer', 'age': 33, 'number': 19, 'position': 'Defender', 'photo': 'https://media.api-sports.io/football/players/7554.png'}, {'id': 1718, 'name': 'M. Hofmann', 'age': 30, 'number': 20, 'position': 'Defender', 'photo': 'https://media.api-sports.io/football/players/1718.png'}, {'id': 66728, 'name': 'J. Auer', 'age': 23, 'number': 23, 'position': 'Defender', 'photo': 'https://media.api-sports.io/football/players/66728.png'}, {'id': 169335, 'name': 'M. Moormann', 'age': 22, 'number': 26, 'position': 'Defender', 'photo': 'https://media.api-sports.io/football/players/169335.png'}, {'id': 288206, 'name': 'L. Querfeld', 'age': 20, 'number': 43, 'position': 'Defender', 'photo': 'https://media.api-sports.io/football/players/288206.png'}, {'id': 46160, 'name': 'N. Cvetković', 'age': 27, 'number': 55, 'position': 'Defender', 'photo': 'https://media.api-sports.io/football/players/46160.png'}, {'id': 334028, 'name': 'D. Vincze', 'age': 19, 'number': None, 'position': 'Defender', 'photo': 'https://media.api-sports.io/football/players/334028.png'}, {'id': 7152, 'name': 'R. Kerschbaum', 'age': 29, 'number': 5, 'position': 'Midfielder', 'photo': 'https://media.api-sports.io/football/players/7152.png'}, {'id': 7072, 'name': 'L. Grgić', 'age': 28, 'number': 8, 'position': 'Midfielder', 'photo': 'https://media.api-sports.io/football/players/7072.png'}, {'id': 956, 'name': 'T. Schick', 'age': 33, 'number': 13, 'position': 'Midfielder', 'photo': 'https://media.api-sports.io/football/players/956.png'}, {'id': 176022, 'name': 'M. Seidl', 'age': 22, 'number': 18, 'position': 'Midfielder', 'photo': 'https://media.api-sports.io/football/players/176022.png'}, {'id': 328226, 'name': 'D. Kaygin', 'age': 19, 'number': 24, 'position': 'Midfielder', 'photo': 'https://media.api-sports.io/football/players/328226.png'}, {'id': 7073, 'name': 'M. Grüll', 'age': 25, 'number': 27, 'position': 'Midfielder', 'photo': 'https://media.api-sports.io/football/players/7073.png'}, {'id': 169420, 'name': 'M. Oswald', 'age': 21, 'number': 28, 'position': 'Midfielder', 'photo': 'https://media.api-sports.io/football/players/169420.png'}, {'id': 338189, 'name': 'N. Bajlicz', 'age': 19, 'number': 30, 'position': 'Midfielder', 'photo': 'https://media.api-sports.io/football/players/338189.png'}, {'id': 287790, 'name': 'N. Sattlberger', 'age': 19, 'number': 34, 'position': 'Midfielder', 'photo': 'https://media.api-sports.io/football/players/287790.png'}, {'id': 382966, 'name': 'I. Seydi', 'age': 22, 'number': 57, 'position': 'Midfielder', 'photo': 'https://media.api-sports.io/football/players/382966.png'}, {'id': 169412, 'name': 'O. Strunz', 'age': 23, 'number': 7, 'position': 'Attacker', 'photo': 'https://media.api-sports.io/football/players/169412.png'}, {'id': 420, 'name': 'G. Burgstaller', 'age': 34, 'number': 9, 'position': 'Attacker', 'photo': 'https://media.api-sports.io/football/players/420.png'}, {'id': 271327, 'name': 'C. Lang', 'age': 21, 'number': 10, 'position': 'Attacker', 'photo': 'https://media.api-sports.io/football/players/271327.png'}, {'id': 123610, 'name': 'T. Gale', 'age': 21, 'number': 16, 'position': 'Attacker', 'photo': 'https://media.api-sports.io/football/players/123610.png'}, {'id': 287590, 'name': 'F. Mayulu', 'age': 21, 'number': 17, 'position': 'Attacker', 'photo': 'https://media.api-sports.io/football/players/287590.png'}, {'id': 105154, 'name': 'I. Jansson', 'age': 21, 'number': 22, 'position': 'Attacker', 'photo': 'https://media.api-sports.io/football/players/105154.png'}, {'id': 394681, 'name': 'J. Živković', 'age': 17, 'number': 49, 'position': 'Attacker', 'photo': 'https://media.api-sports.io/football/players/394681.png'}, {'id': 339922, 'name': 'F. Dursun', 'age': 18, 'number': 58, 'position': 'Attacker', 'photo': 'https://media.api-sports.io/football/players/339922.png'}]}\n"
     ]
    }
   ],
   "source": [
    "#print(type(squad))\n",
    "#print(type(squad[\"response\"]))\n",
    "#print(len(squad[\"response\"]))\n",
    "\n",
    "rapid_vienna_squad = squad[\"response\"][0]\n",
    "print(type(rapid_vienna_squad))\n",
    "print(rapid_vienna_squad)"
   ]
  },
  {
   "cell_type": "code",
   "execution_count": 18,
   "id": "39328bcf-215e-42ba-bab2-6a2668b75846",
   "metadata": {},
   "outputs": [
    {
     "name": "stdout",
     "output_type": "stream",
     "text": [
      "        id            name  age  number    position  \\\n",
      "0    78400        B. Unger   24    21.0  Goalkeeper   \n",
      "1     1710      P. Gartler   26    25.0  Goalkeeper   \n",
      "2   169346         N. Hedl   22    45.0  Goalkeeper   \n",
      "3   302866       L. Orgler   19    50.0  Goalkeeper   \n",
      "4   134756   N. Kasanwirjo   21     6.0    Defender   \n",
      "5    19043      T. Kongolo   29    15.0    Defender   \n",
      "6     7554    M. Sollbauer   33    19.0    Defender   \n",
      "7     1718      M. Hofmann   30    20.0    Defender   \n",
      "8    66728         J. Auer   23    23.0    Defender   \n",
      "9   169335     M. Moormann   22    26.0    Defender   \n",
      "10  288206     L. Querfeld   20    43.0    Defender   \n",
      "11   46160    N. Cvetković   27    55.0    Defender   \n",
      "12  334028       D. Vincze   19     NaN    Defender   \n",
      "13    7152   R. Kerschbaum   29     5.0  Midfielder   \n",
      "14    7072        L. Grgić   28     8.0  Midfielder   \n",
      "15     956       T. Schick   33    13.0  Midfielder   \n",
      "16  176022        M. Seidl   22    18.0  Midfielder   \n",
      "17  328226       D. Kaygin   19    24.0  Midfielder   \n",
      "18    7073        M. Grüll   25    27.0  Midfielder   \n",
      "19  169420       M. Oswald   21    28.0  Midfielder   \n",
      "20  338189      N. Bajlicz   19    30.0  Midfielder   \n",
      "21  287790  N. Sattlberger   19    34.0  Midfielder   \n",
      "22  382966        I. Seydi   22    57.0  Midfielder   \n",
      "23  169412       O. Strunz   23     7.0    Attacker   \n",
      "24     420  G. Burgstaller   34     9.0    Attacker   \n",
      "25  271327         C. Lang   21    10.0    Attacker   \n",
      "26  123610         T. Gale   21    16.0    Attacker   \n",
      "27  287590       F. Mayulu   21    17.0    Attacker   \n",
      "28  105154      I. Jansson   21    22.0    Attacker   \n",
      "29  394681     J. Živković   17    49.0    Attacker   \n",
      "30  339922       F. Dursun   18    58.0    Attacker   \n",
      "\n",
      "                                                photo  \n",
      "0   https://media.api-sports.io/football/players/7...  \n",
      "1   https://media.api-sports.io/football/players/1...  \n",
      "2   https://media.api-sports.io/football/players/1...  \n",
      "3   https://media.api-sports.io/football/players/3...  \n",
      "4   https://media.api-sports.io/football/players/1...  \n",
      "5   https://media.api-sports.io/football/players/1...  \n",
      "6   https://media.api-sports.io/football/players/7...  \n",
      "7   https://media.api-sports.io/football/players/1...  \n",
      "8   https://media.api-sports.io/football/players/6...  \n",
      "9   https://media.api-sports.io/football/players/1...  \n",
      "10  https://media.api-sports.io/football/players/2...  \n",
      "11  https://media.api-sports.io/football/players/4...  \n",
      "12  https://media.api-sports.io/football/players/3...  \n",
      "13  https://media.api-sports.io/football/players/7...  \n",
      "14  https://media.api-sports.io/football/players/7...  \n",
      "15  https://media.api-sports.io/football/players/9...  \n",
      "16  https://media.api-sports.io/football/players/1...  \n",
      "17  https://media.api-sports.io/football/players/3...  \n",
      "18  https://media.api-sports.io/football/players/7...  \n",
      "19  https://media.api-sports.io/football/players/1...  \n",
      "20  https://media.api-sports.io/football/players/3...  \n",
      "21  https://media.api-sports.io/football/players/2...  \n",
      "22  https://media.api-sports.io/football/players/3...  \n",
      "23  https://media.api-sports.io/football/players/1...  \n",
      "24  https://media.api-sports.io/football/players/4...  \n",
      "25  https://media.api-sports.io/football/players/2...  \n",
      "26  https://media.api-sports.io/football/players/1...  \n",
      "27  https://media.api-sports.io/football/players/2...  \n",
      "28  https://media.api-sports.io/football/players/1...  \n",
      "29  https://media.api-sports.io/football/players/3...  \n",
      "30  https://media.api-sports.io/football/players/3...  \n",
      "average age: 23.483870967741936\n"
     ]
    }
   ],
   "source": [
    "# Create DataFrame\n",
    "df = pd.DataFrame(squad[\"response\"][0][\"players\"])\n",
    "\n",
    "# Print DataFrame\n",
    "print(df)\n",
    "\n",
    "from statistics import mean\n",
    "\n",
    "# Mittelwert des Alters der Spieler ausgeben\n",
    "print(\"average age:\", mean(df[\"age\"]))"
   ]
  },
  {
   "cell_type": "code",
   "execution_count": null,
   "id": "83fca270-3bd9-4e1a-bd08-2b6e242fc2bf",
   "metadata": {},
   "outputs": [],
   "source": [
    "# Abfrage der Teams der Bundesliga in AT von der MongoDB und jeweils der zugehörigen Mannschaften, um diese auch in die MongoDB zu speichern\n",
    "for x in db.api_football_com_leagues_seasons_teams.find({\"league_id\": 218, \"season_id\": 2023}):\n",
    "    team_id = x[\"team\"][\"id\"]\n",
    "    squad = extract_squad_data(team_id)\n",
    "    insert_result = insert_one_to_database(squad[\"response\"][0], \"api_football_com_teams_squads\")\n",
    "    print(\"team_name:\", x[\"team\"][\"name\"], \"| inserted_id:\", insert_result.inserted_id) "
   ]
  },
  {
   "cell_type": "code",
   "execution_count": 44,
   "id": "669760b2-7f59-4903-ac4d-c110d2447015",
   "metadata": {},
   "outputs": [
    {
     "name": "stdout",
     "output_type": "stream",
     "text": [
      "team_id: 33 team_name: Manchester United\n",
      "team_id: 571 team_name: Red Bull Salzburg\n",
      "team_id: 601 team_name: Austria Vienna\n",
      "team_id: 618 team_name: SCR Altach\n",
      "team_id: 637 team_name: Sturm Graz\n",
      "team_id: 781 team_name: Rapid Vienna\n",
      "team_id: 1025 team_name: Wolfsberger AC\n",
      "team_id: 1026 team_name: Lask Linz\n",
      "team_id: 1072 team_name: TSV Hartberg\n",
      "team_id: 1394 team_name: FC BW Linz\n",
      "team_id: 1398 team_name: WSG Wattens\n",
      "team_id: 1399 team_name: Austria Lustenau\n",
      "team_id: 1405 team_name: Austria Klagenfurt\n"
     ]
    }
   ],
   "source": [
    "# Abfrage der Teams aus der Collection der Mannschaften von der MongoDB\n",
    "for x in db.api_football_com_teams_squads.find():\n",
    "  team = x[\"team\"]\n",
    "  print(\"team_id:\", team[\"id\"], \"team_name:\", team[\"name\"])"
   ]
  },
  {
   "cell_type": "code",
   "execution_count": 21,
   "id": "55f569a3-bb28-4204-99cf-518d5c8cb09c",
   "metadata": {
    "tags": []
   },
   "outputs": [],
   "source": [
    "# Funktion zur Extraktion von Daten über einen bestimmten Spieler in einer bestimmten Saison\n",
    "def extract_player_data(player_id, season_id):\n",
    "    player_data = fetch_data(f\"/players?id=\" + str(player_id) + \"&season=\" + str(season_id))    \n",
    "    return player_data"
   ]
  },
  {
   "cell_type": "code",
   "execution_count": 22,
   "id": "4139dd08-b389-429c-b636-cd9ba54ca595",
   "metadata": {
    "tags": []
   },
   "outputs": [
    {
     "name": "stdout",
     "output_type": "stream",
     "text": [
      "{'get': 'players', 'parameters': {'id': '7073', 'season': '2023'}, 'errors': [], 'results': 1, 'paging': {'current': 1, 'total': 1}, 'response': [{'player': {'id': 7073, 'name': 'M. Grüll', 'firstname': 'Marco', 'lastname': 'Grüll', 'age': 26, 'birth': {'date': '1998-07-06', 'place': 'Schwarzach im Pongau', 'country': 'Austria'}, 'nationality': 'Austria', 'height': '182 cm', 'weight': '74 kg', 'injured': False, 'photo': 'https://media.api-sports.io/football/players/7073.png'}, 'statistics': [{'team': {'id': 781, 'name': 'Rapid Vienna', 'logo': 'https://media.api-sports.io/football/teams/781.png'}, 'league': {'id': 218, 'name': 'Bundesliga', 'country': 'Austria', 'logo': 'https://media.api-sports.io/football/leagues/218.png', 'flag': 'https://media.api-sports.io/flags/at.svg', 'season': 2023}, 'games': {'appearences': 25, 'lineups': 22, 'minutes': 1951, 'number': None, 'position': 'Midfielder', 'rating': '7.600000', 'captain': False}, 'substitutes': {'in': 3, 'out': 9, 'bench': 3}, 'shots': {'total': 54, 'on': 39}, 'goals': {'total': 12, 'conceded': 0, 'assists': 5, 'saves': None}, 'passes': {'total': 643, 'key': 59, 'accuracy': 18}, 'tackles': {'total': 17, 'blocks': 2, 'interceptions': 9}, 'duels': {'total': 300, 'won': 139}, 'dribbles': {'attempts': 112, 'success': 62, 'past': None}, 'fouls': {'drawn': 49, 'committed': 32}, 'cards': {'yellow': 3, 'yellowred': 0, 'red': 0}, 'penalty': {'won': None, 'commited': None, 'scored': 6, 'missed': 0, 'saved': None}}, {'team': {'id': 781, 'name': 'Rapid Vienna', 'logo': 'https://media.api-sports.io/football/teams/781.png'}, 'league': {'id': 220, 'name': 'Cup', 'country': 'Austria', 'logo': 'https://media.api-sports.io/football/leagues/220.png', 'flag': 'https://media.api-sports.io/flags/at.svg', 'season': 2023}, 'games': {'appearences': 5, 'lineups': 4, 'minutes': 364, 'number': None, 'position': 'Midfielder', 'rating': None, 'captain': False}, 'substitutes': {'in': 1, 'out': 2, 'bench': 1}, 'shots': {'total': None, 'on': None}, 'goals': {'total': 6, 'conceded': None, 'assists': None, 'saves': None}, 'passes': {'total': None, 'key': None, 'accuracy': None}, 'tackles': {'total': None, 'blocks': None, 'interceptions': None}, 'duels': {'total': None, 'won': None}, 'dribbles': {'attempts': None, 'success': None, 'past': None}, 'fouls': {'drawn': None, 'committed': None}, 'cards': {'yellow': 0, 'yellowred': 0, 'red': 0}, 'penalty': {'won': None, 'commited': None, 'scored': None, 'missed': None, 'saved': None}}, {'team': {'id': 781, 'name': 'Rapid Vienna', 'logo': 'https://media.api-sports.io/football/teams/781.png'}, 'league': {'id': 848, 'name': 'UEFA Europa Conference League', 'country': 'World', 'logo': 'https://media.api-sports.io/football/leagues/848.png', 'flag': None, 'season': 2023}, 'games': {'appearences': 4, 'lineups': 4, 'minutes': 340, 'number': None, 'position': 'Midfielder', 'rating': '7.200000', 'captain': False}, 'substitutes': {'in': 0, 'out': 3, 'bench': 0}, 'shots': {'total': 9, 'on': 4}, 'goals': {'total': 2, 'conceded': 0, 'assists': None, 'saves': None}, 'passes': {'total': 94, 'key': 4, 'accuracy': 17}, 'tackles': {'total': 3, 'blocks': 2, 'interceptions': 2}, 'duels': {'total': 51, 'won': 22}, 'dribbles': {'attempts': 17, 'success': 8, 'past': None}, 'fouls': {'drawn': 8, 'committed': 5}, 'cards': {'yellow': 1, 'yellowred': 0, 'red': 0}, 'penalty': {'won': None, 'commited': None, 'scored': 1, 'missed': 0, 'saved': None}}, {'team': {'id': 775, 'name': 'Austria', 'logo': 'https://media.api-sports.io/football/teams/775.png'}, 'league': {'id': 960, 'name': 'Euro Championship - Qualification', 'country': 'World', 'logo': 'https://media.api-sports.io/football/leagues/960.png', 'flag': None, 'season': 2023}, 'games': {'appearences': 0, 'lineups': 0, 'minutes': 0, 'number': None, 'position': 'Midfielder', 'rating': None, 'captain': False}, 'substitutes': {'in': 0, 'out': 0, 'bench': 2}, 'shots': {'total': None, 'on': None}, 'goals': {'total': 0, 'conceded': 0, 'assists': None, 'saves': None}, 'passes': {'total': None, 'key': None, 'accuracy': None}, 'tackles': {'total': None, 'blocks': None, 'interceptions': None}, 'duels': {'total': None, 'won': None}, 'dribbles': {'attempts': None, 'success': None, 'past': None}, 'fouls': {'drawn': None, 'committed': None}, 'cards': {'yellow': 0, 'yellowred': 0, 'red': 0}, 'penalty': {'won': None, 'commited': None, 'scored': 0, 'missed': 0, 'saved': None}}, {'team': {'id': 775, 'name': 'Austria', 'logo': 'https://media.api-sports.io/football/teams/775.png'}, 'league': {'id': 10, 'name': 'Friendlies', 'country': 'World', 'logo': 'https://media.api-sports.io/football/leagues/10.png', 'flag': None, 'season': 2023}, 'games': {'appearences': 0, 'lineups': 0, 'minutes': 0, 'number': None, 'position': 'Midfielder', 'rating': None, 'captain': False}, 'substitutes': {'in': 0, 'out': 0, 'bench': 0}, 'shots': {'total': None, 'on': None}, 'goals': {'total': 0, 'conceded': None, 'assists': None, 'saves': None}, 'passes': {'total': None, 'key': None, 'accuracy': None}, 'tackles': {'total': None, 'blocks': None, 'interceptions': None}, 'duels': {'total': None, 'won': None}, 'dribbles': {'attempts': None, 'success': None, 'past': None}, 'fouls': {'drawn': None, 'committed': None}, 'cards': {'yellow': 0, 'yellowred': 0, 'red': 0}, 'penalty': {'won': None, 'commited': None, 'scored': None, 'missed': None, 'saved': None}}]}]}\n"
     ]
    }
   ],
   "source": [
    "player = extract_player_data(7073, 2023)\n",
    "print(player)"
   ]
  },
  {
   "cell_type": "code",
   "execution_count": 24,
   "id": "a7d57e13-5cf2-468c-b68b-6261b38798f5",
   "metadata": {
    "tags": []
   },
   "outputs": [],
   "source": [
    "# Funktion zur Extraktion von Daten über den Tabellenstand einer bestimmten Liga, einer bestimmten Saison, eines bestimmten Teams\n",
    "def extract_standing_data(league_id, season_id, team_id):\n",
    "    standing_data = fetch_data(f\"/standings?league=\" + str(league_id) + \"&season=\" + str(season_id) + \"&team=\" + str(team_id))\n",
    "    #top_scorers = scorers_data[\"scorers\"][:num_players]  # Die ersten num_players Top-Torschützen\n",
    "    return standing_data"
   ]
  },
  {
   "cell_type": "code",
   "execution_count": 25,
   "id": "7f42f144-b7ff-4d90-a057-1e3a2d8a7ef4",
   "metadata": {},
   "outputs": [
    {
     "name": "stdout",
     "output_type": "stream",
     "text": [
      "{'get': 'standings', 'parameters': {'league': '218', 'season': '2023', 'team': '781'}, 'errors': [], 'results': 1, 'paging': {'current': 1, 'total': 1}, 'response': [{'league': {'id': 218, 'name': 'Bundesliga', 'country': 'Austria', 'logo': 'https://media.api-sports.io/football/leagues/218.png', 'flag': 'https://media.api-sports.io/flags/at.svg', 'season': 2023, 'standings': [[{'rank': 4, 'team': {'id': 781, 'name': 'Rapid Vienna', 'logo': 'https://media.api-sports.io/football/teams/781.png'}, 'points': 22, 'goalsDiff': 17, 'group': 'Bundesliga: Championship Round', 'form': 'LLDDW', 'status': 'same', 'description': 'UEFA Europa League Qualifiers', 'all': {'played': 28, 'win': 9, 'draw': 12, 'lose': 7, 'goals': {'for': 44, 'against': 27}}, 'home': {'played': 3, 'win': 0, 'draw': 2, 'lose': 1, 'goals': {'for': 2, 'against': 4}}, 'away': {'played': 3, 'win': 1, 'draw': 1, 'lose': 1, 'goals': {'for': 4, 'against': 2}}, 'update': '2024-04-26T00:00:00+00:00'}], [{'rank': 6, 'team': {'id': 781, 'name': 'Rapid Vienna', 'logo': 'https://media.api-sports.io/football/teams/781.png'}, 'points': 33, 'goalsDiff': 17, 'group': 'Bundesliga: Regular Season', 'form': 'DDWDW', 'status': 'down', 'description': 'Championship Round', 'all': {'played': 22, 'win': 8, 'draw': 9, 'lose': 5, 'goals': {'for': 38, 'against': 21}}, 'home': {'played': 11, 'win': 3, 'draw': 5, 'lose': 3, 'goals': {'for': 19, 'against': 14}}, 'away': {'played': 11, 'win': 5, 'draw': 4, 'lose': 2, 'goals': {'for': 19, 'against': 7}}, 'update': '2024-04-26T00:00:00+00:00'}]]}}]}\n"
     ]
    }
   ],
   "source": [
    "standing = extract_standing_data(218, 2023, 781)\n",
    "print(standing)"
   ]
  },
  {
   "cell_type": "code",
   "execution_count": 27,
   "id": "c5d97a63-fc06-4db1-8f85-ec9089873696",
   "metadata": {
    "tags": []
   },
   "outputs": [],
   "source": [
    "# Funktion zur Extraktion von Daten über den Tabellenstand einer bestimmten Liga, einer bestimmten Saison\n",
    "def extract_standings_data(league_id, season_id):\n",
    "    standings_data = fetch_data(f\"/standings?league=\" + str(league_id) + \"&season=\" + str(season_id))   \n",
    "    return standings_data"
   ]
  },
  {
   "cell_type": "code",
   "execution_count": null,
   "id": "c9930694-3393-4c89-bd51-dda520071a54",
   "metadata": {},
   "outputs": [],
   "source": [
    "standings = extract_standings_data(218, 2023)\n",
    "\n",
    "print(type(standings[\"response\"]))\n",
    "print(len(standings[\"response\"]))\n",
    "print(type(standings[\"response\"][0]))\n",
    "print(standings[\"response\"][0])\n",
    "\n",
    "austrian_bundesliga_current_standings = standings[\"response\"][0]\n",
    "\n",
    "insert_result = insert_one_to_database(austrian_bundesliga_current_standings, \"api_football_com_leagues_seasons_standings\")\n",
    "print(\"inserted_id:\", insert_result.inserted_id) "
   ]
  },
  {
   "cell_type": "code",
   "execution_count": null,
   "id": "f95b4a07-6fe1-4253-9e0d-bfbab2b0ddc4",
   "metadata": {},
   "outputs": [],
   "source": [
    "db.api_football_com_leagues_seasons_standings.find_one()"
   ]
  },
  {
   "cell_type": "code",
   "execution_count": 30,
   "id": "65aacb94-965b-46c5-b371-40368dda03f4",
   "metadata": {},
   "outputs": [
    {
     "name": "stdout",
     "output_type": "stream",
     "text": [
      "    team_id           team_name\n",
      "0       571   Red Bull Salzburg\n",
      "1       601      Austria Vienna\n",
      "2       618          SCR Altach\n",
      "3       637          Sturm Graz\n",
      "4       781        Rapid Vienna\n",
      "5      1025      Wolfsberger AC\n",
      "6      1026           Lask Linz\n",
      "7      1072        TSV Hartberg\n",
      "8      1394          FC BW Linz\n",
      "9      1398         WSG Wattens\n",
      "10     1399    Austria Lustenau\n",
      "11     1405  Austria Klagenfurt\n"
     ]
    }
   ],
   "source": [
    "austrian_bundesliga_team_ids = []\n",
    "austrian_bundesliga_team_names = []\n",
    "\n",
    "for x in db.api_football_com_leagues_seasons_teams.find({\"league_id\": 218, \"season_id\": 2023}):\n",
    "    team_id = x[\"team\"][\"id\"]\n",
    "    austrian_bundesliga_team_ids.append(team_id)\n",
    "    team_name = x[\"team\"][\"name\"]\n",
    "    austrian_bundesliga_team_names.append(team_name)\n",
    "\n",
    "austrian_bundesliga_teams_data = {\n",
    "    \"team_id\" : austrian_bundesliga_team_ids,\n",
    "    \"team_name\" : austrian_bundesliga_team_names    \n",
    "}\n",
    "\n",
    "austrian_bundesliga_teams = pd.DataFrame(austrian_bundesliga_teams_data)\n",
    "\n",
    "print(austrian_bundesliga_teams)"
   ]
  },
  {
   "cell_type": "code",
   "execution_count": 31,
   "id": "97a89fda-7576-42b4-b042-c82aeda621a3",
   "metadata": {
    "tags": []
   },
   "outputs": [
    {
     "name": "stdout",
     "output_type": "stream",
     "text": [
      "     _id  average_player_age\n",
      "0    571           21.903226\n",
      "1    618           25.214286\n",
      "2    601           24.107143\n",
      "3   1025           24.296296\n",
      "4   1026           25.310345\n",
      "5    637           22.133333\n",
      "6    781           23.633333\n",
      "7   1394           25.115385\n",
      "8   1398           23.629630\n",
      "9   1405           24.925926\n",
      "10  1072           23.687500\n",
      "11  1399           23.777778\n"
     ]
    }
   ],
   "source": [
    "# map_reduce() is deprecated and not supported by the latest version of pymongo library anymore\n",
    "# instead the aggregate() method with an aggregation pipeline should be used\n",
    "\n",
    "pipeline = [\n",
    "    {\"$match\": { \"team.id\" :{\"$in\":austrian_bundesliga_team_ids}} },    \n",
    "    {\"$unwind\": \"$players\"},    \n",
    "    {\"$group\": {\"_id\": \"$team.id\", \"average_player_age\": {\"$avg\": \"$players.age\"}}}\n",
    "]\n",
    "\n",
    "# Create DataFrame\n",
    "avg_player_age_per_team = pd.DataFrame(db.api_football_com_teams_squads.aggregate(pipeline))\n",
    "# Print DataFrame\n",
    "print(avg_player_age_per_team)"
   ]
  },
  {
   "cell_type": "code",
   "execution_count": 36,
   "id": "eda17541-e4b1-46b1-8060-1f4a9cb8889c",
   "metadata": {},
   "outputs": [
    {
     "name": "stdout",
     "output_type": "stream",
     "text": [
      "Bundesliga: Championship Round - Points:  22\n",
      "Bundesliga: Regular Season - Points:  33\n"
     ]
    }
   ],
   "source": [
    "# Get points of Team Rapid Vienna\n",
    "for s in db.api_football_com_leagues_seasons_standings.find_one()[\"league\"][\"standings\"]:\n",
    "    for g in s:\n",
    "        if(g[\"team\"][\"id\"]==781):\n",
    "            print(g[\"group\"], \"- Points: \", g[\"points\"])    "
   ]
  },
  {
   "cell_type": "markdown",
   "id": "bf64b921-0bd8-4f71-b4eb-fbce2be5189f",
   "metadata": {},
   "source": [
    "https://www.bundesliga.at/de/spielplan/\n",
    "\n",
    "![title](img/AustrianBundesligaRoundsOverview.png)\n",
    "![title](img/AustrianBundesligaGroupsOverview.png)\n",
    "![title](img/AustrianBundesligaRegularSeasonOverview.png)"
   ]
  },
  {
   "cell_type": "code",
   "execution_count": 30,
   "id": "fc61c0a5-c533-4a0a-8399-bb68548b3a13",
   "metadata": {},
   "outputs": [
    {
     "name": "stdout",
     "output_type": "stream",
     "text": [
      "     _id  points\n",
      "0    601      25\n",
      "1   1025      19\n",
      "2   1394      13\n",
      "3   1399       8\n",
      "4   1026      24\n",
      "5    781      22\n",
      "6   1072      21\n",
      "7   1405      19\n",
      "8    637      35\n",
      "9    618      16\n",
      "10   571      35\n",
      "11  1398      15\n"
     ]
    }
   ],
   "source": [
    "# There are values of different groups of austrian Bundesliga!\n",
    "# 1. Regular Season\n",
    "# 2. Relegation Round OR Championship Round\n",
    "# Get only points of second phase - therefore use a match stage in the aggregation pipeline\n",
    "pipeline = [\n",
    "    {\"$match\": { \"league.id\" : 218, \"league.season\" : 2023} },    \n",
    "    {\"$unwind\": \"$league.standings\"},\n",
    "    {\"$unwind\": \"$league.standings\"},      \n",
    "    {\"$match\": {\"$or\" : [{\"league.standings.group\" : \"Bundesliga: Relegation Round\"},{\"league.standings.group\" : \"Bundesliga: Championship Round\"}]}}, \n",
    "    {\"$group\": {\"_id\": \"$league.standings.team.id\", \"points\": {\"$max\": \"$league.standings.points\"}}}\n",
    "]\n",
    "\n",
    "league_points_per_team = pd.DataFrame(db.api_football_com_leagues_seasons_standings.aggregate(pipeline))\n",
    "print(league_points_per_team)"
   ]
  },
  {
   "cell_type": "code",
   "execution_count": 31,
   "id": "b6b0b5ae-7dfb-4b00-90fa-5626f0ad9eea",
   "metadata": {},
   "outputs": [
    {
     "name": "stdout",
     "output_type": "stream",
     "text": [
      "    team_id           team_name  average_player_age  points\n",
      "10     1399    Austria Lustenau           23.777778       8\n",
      "8      1394          FC BW Linz           25.115385      13\n",
      "9      1398         WSG Wattens           23.629630      15\n",
      "2       618          SCR Altach           25.214286      16\n",
      "5      1025      Wolfsberger AC           24.296296      19\n",
      "11     1405  Austria Klagenfurt           24.925926      19\n",
      "7      1072        TSV Hartberg           23.687500      21\n",
      "4       781        Rapid Vienna           23.633333      22\n",
      "6      1026           Lask Linz           25.310345      24\n",
      "1       601      Austria Vienna           24.107143      25\n",
      "0       571   Red Bull Salzburg           21.903226      35\n",
      "3       637          Sturm Graz           22.133333      35\n"
     ]
    }
   ],
   "source": [
    "avg_player_age_and_league_points_per_team = pd.merge(avg_player_age_per_team, league_points_per_team)\n",
    "avg_player_age_and_league_points_per_team = pd.merge(austrian_bundesliga_teams, avg_player_age_and_league_points_per_team, how='left', left_on='team_id', right_on='_id')\n",
    "avg_player_age_and_league_points_per_team = avg_player_age_and_league_points_per_team.sort_values('points')\n",
    "print(avg_player_age_and_league_points_per_team[[\"team_id\", \"team_name\", \"average_player_age\", \"points\"]])"
   ]
  },
  {
   "cell_type": "code",
   "execution_count": 32,
   "id": "efe6f727-56d7-41c7-9c60-35a36e2f9694",
   "metadata": {},
   "outputs": [
    {
     "data": {
      "image/png": "[encoded data removed]",
      "text/plain": [
       "<Figure size 1000x600 with 1 Axes>"
      ]
     },
     "metadata": {},
     "output_type": "display_data"
    }
   ],
   "source": [
    "# Visualisierung der Daten\n",
    "plt.figure(figsize=(10, 6))\n",
    "x = avg_player_age_and_league_points_per_team[\"team_name\"]\n",
    "y = avg_player_age_and_league_points_per_team[\"points\"]\n",
    "\n",
    "plt.bar(x, y, color='blue')\n",
    "plt.xlabel('Team')\n",
    "plt.ylabel('Points')\n",
    "plt.title('Current points per team in Bundesliga (AT) of season 2023/24')\n",
    "plt.xticks(rotation=45)\n",
    "plt.tight_layout()\n",
    "plt.show()"
   ]
  },
  {
   "cell_type": "code",
   "execution_count": 35,
   "id": "8f5f1ace-ff83-45b4-9ee8-f20c8d3197cc",
   "metadata": {},
   "outputs": [
    {
     "data": {
      "image/png": "[encoded data removed]",
      "text/plain": [
       "<Figure size 640x480 with 1 Axes>"
      ]
     },
     "metadata": {},
     "output_type": "display_data"
    }
   ],
   "source": [
    "x = avg_player_age_and_league_points_per_team[\"average_player_age\"]\n",
    "y = avg_player_age_and_league_points_per_team[\"points\"]\n",
    "\n",
    "# plot\n",
    "fig, ax = plt.subplots()\n",
    "\n",
    "ax.scatter(x, y)\n",
    "ax.set_xlabel('average player\\'s age')\n",
    "ax.set_ylabel('points')\n",
    "ax.set_title('Scatter plot of points over average player\\'s age')\n",
    "\n",
    "plt.show()"
   ]
  },
  {
   "cell_type": "markdown",
   "id": "018284fe-74ed-4b7e-a1a4-2b5c531c888f",
   "metadata": {},
   "source": [
    "Auffallend ist, dass die beiden Teams, die mit Abstand die meisten Punkten haben, auch jene sind, die das geringste mittlere Alter der Mannschaft aufweisen."
   ]
  }
 ],
 "metadata": {
  "kernelspec": {
   "display_name": "Python 3 (ipykernel)",
   "language": "python",
   "name": "python3"
  },
  "language_info": {
   "codemirror_mode": {
    "name": "ipython",
    "version": 3
   },
   "file_extension": ".py",
   "mimetype": "text/x-python",
   "name": "python",
   "nbconvert_exporter": "python",
   "pygments_lexer": "ipython3",
   "version": "3.11.5"
  }
 },
 "nbformat": 4,
 "nbformat_minor": 5
}
