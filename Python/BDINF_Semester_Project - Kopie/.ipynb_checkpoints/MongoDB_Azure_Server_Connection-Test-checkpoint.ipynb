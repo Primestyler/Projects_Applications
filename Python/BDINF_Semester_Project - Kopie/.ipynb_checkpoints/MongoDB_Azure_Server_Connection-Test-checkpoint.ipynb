{
 "cells": [
  {
   "cell_type": "code",
   "execution_count": 1,
   "id": "c6b7f94b-3053-4ea8-a759-5bb4b3e18b6d",
   "metadata": {},
   "outputs": [
    {
     "name": "stdout",
     "output_type": "stream",
     "text": [
      "Collecting pymongo\n",
      "  Downloading pymongo-4.6.3-cp311-cp311-win_amd64.whl.metadata (22 kB)\n",
      "Collecting dnspython<3.0.0,>=1.16.0 (from pymongo)\n",
      "  Downloading dnspython-2.6.1-py3-none-any.whl.metadata (5.8 kB)\n",
      "Downloading pymongo-4.6.3-cp311-cp311-win_amd64.whl (472 kB)\n",
      "   ---------------------------------------- 0.0/472.9 kB ? eta -:--:--\n",
      "   -- ------------------------------------ 30.7/472.9 kB 660.6 kB/s eta 0:00:01\n",
      "   ---------------- ----------------------- 194.6/472.9 kB 2.4 MB/s eta 0:00:01\n",
      "   --------------------------------- ------ 399.4/472.9 kB 3.1 MB/s eta 0:00:01\n",
      "   ---------------------------------------- 472.9/472.9 kB 3.0 MB/s eta 0:00:00\n",
      "Downloading dnspython-2.6.1-py3-none-any.whl (307 kB)\n",
      "   ---------------------------------------- 0.0/307.7 kB ? eta -:--:--\n",
      "   ------------------------------- -------- 245.8/307.7 kB 7.4 MB/s eta 0:00:01\n",
      "   ---------------------------------------- 307.7/307.7 kB 4.7 MB/s eta 0:00:00\n",
      "Installing collected packages: dnspython, pymongo\n",
      "Successfully installed dnspython-2.6.1 pymongo-4.6.3\n",
      "Note: you may need to restart the kernel to use updated packages.\n"
     ]
    }
   ],
   "source": [
    "pip install pymongo"
   ]
  },
  {
   "cell_type": "code",
   "execution_count": 18,
   "id": "3180d069-b443-449d-b23d-7e218abc3af9",
   "metadata": {},
   "outputs": [],
   "source": [
    "import pymongo\n",
    "\n",
    "# Verbindung zur MongoDB-Datenbank am Azure Server herstellen\n",
    "client = pymongo.MongoClient(\n",
    "    host = '20.82.185.108:27017', # <-- IP and port go here\n",
    "    serverSelectionTimeoutMS = 30000, # 30 seconds timeout\n",
    "    username=\"group3\",\n",
    "    password=\"football\",\n",
    ")"
   ]
  },
  {
   "cell_type": "code",
   "execution_count": 19,
   "id": "012744e9-eded-4441-8968-92b83b9e7195",
   "metadata": {},
   "outputs": [
    {
     "name": "stdout",
     "output_type": "stream",
     "text": [
      "['admin', 'config', 'local']\n"
     ]
    }
   ],
   "source": [
    "print(client.list_database_names())"
   ]
  },
  {
   "cell_type": "code",
   "execution_count": null,
   "id": "f8ca741c-9fe2-4db2-a04b-0fa4c1bca8a6",
   "metadata": {},
   "outputs": [],
   "source": []
  }
 ],
 "metadata": {
  "kernelspec": {
   "display_name": "Python 3 (ipykernel)",
   "language": "python",
   "name": "python3"
  },
  "language_info": {
   "codemirror_mode": {
    "name": "ipython",
    "version": 3
   },
   "file_extension": ".py",
   "mimetype": "text/x-python",
   "name": "python",
   "nbconvert_exporter": "python",
   "pygments_lexer": "ipython3",
   "version": "3.11.7"
  }
 },
 "nbformat": 4,
 "nbformat_minor": 5
}
