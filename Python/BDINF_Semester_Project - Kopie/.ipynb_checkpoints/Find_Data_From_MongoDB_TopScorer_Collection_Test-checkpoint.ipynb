{
 "cells": [
  {
   "cell_type": "code",
   "execution_count": 1,
   "id": "3b9ea112",
   "metadata": {
    "tags": []
   },
   "outputs": [],
   "source": [
    "import requests\n",
    "from datetime import datetime\n",
    "import math\n",
    "import pymongo\n",
    "\n",
    "# Verbindung zur MongoDB-Datenbank am Azure Server herstellen\n",
    "client = pymongo.MongoClient(\n",
    "    host='20.82.185.108:27017', # <-- IP und Port hier einfügen\n",
    "    serverSelectionTimeoutMS=30000, # 30 Sekunden Timeout\n",
    "    username=\"group3\",\n",
    "    password=\"football\",\n",
    ")\n",
    "\n",
    "# Datenbank auswählen\n",
    "db = client['football_stats'] # Datenbankname hier einfügen\n",
    "\n",
    "# Funktion zur Abrufung von Daten über die football-data.org API\n",
    "def fetch_data(endpoint):\n",
    "    base_url = 'https://api.football-data.org/v4'\n",
    "    headers = {'X-Auth-Token': 'e2ccc8d2448146f5b4576abf56a7b811'}  # Hier deine API-Schlüssel einfügen\n",
    "    response = requests.get(base_url + endpoint, headers=headers)\n",
    "    data = response.json()\n",
    "    return data\n",
    "\n",
    "# Funktion zur Extraktion von Daten über die Top-Torschützen eines Wettbewerbs\n",
    "def extract_top_scorers_data(competition_id, num_players):\n",
    "    scorers_data = fetch_data(f\"/competitions/{competition_id}/scorers\")\n",
    "    top_scorers = scorers_data[\"scorers\"][:num_players]  # Die ersten num_players Top-Torschützen\n",
    "    return top_scorers\n",
    "\n",
    "# Funktion zum Einfügen von Daten in die MongoDB-Datenbank\n",
    "def insert_data_to_database(data, collection_name):\n",
    "    collection = db[collection_name] # Kollektionsname hier einfügen\n",
    "    documents = [{\"player_name\": scorer[\"player\"][\"name\"], \"goals\": scorer[\"goals\"]} for scorer in data]\n",
    "    collection.insert_many(documents)"
   ]
  },
  {
   "cell_type": "code",
   "execution_count": 20,
   "id": "97c33c7b-1089-453f-ac3a-b828ea285bc2",
   "metadata": {},
   "outputs": [],
   "source": [
    "# drop existing collection before inserting data\n",
    "#db.top_scorers_collection.drop()"
   ]
  },
  {
   "cell_type": "code",
   "execution_count": 15,
   "id": "d2c88a14-3d64-4615-89ec-d61886ef1bbb",
   "metadata": {},
   "outputs": [
    {
     "name": "stdout",
     "output_type": "stream",
     "text": [
      "Daten für Serie A erfolgreich eingefügt.\n",
      "Daten für La Liga erfolgreich eingefügt.\n",
      "Daten für Premier League erfolgreich eingefügt.\n"
     ]
    }
   ],
   "source": [
    "# Wettbewerbs-IDs für Serie A, La Liga und Premier League\n",
    "serie_a_id = 2019\n",
    "la_liga_id = 2014\n",
    "premier_league_id = 2021\n",
    "\n",
    "# Anzahl der Top-Torschützen, die abgerufen werden sollen\n",
    "num_top_scorers = 10\n",
    "\n",
    "# Daten für Serie A abrufen und in die Datenbank einfügen\n",
    "#serie_a_top_scorers = extract_top_scorers_data(serie_a_id, num_top_scorers)\n",
    "#insert_data_to_database(serie_a_top_scorers, 'top_scorers_collection') # Kollektionsname hier einfügen\n",
    "#print(\"Daten für Serie A erfolgreich eingefügt.\")\n",
    "\n",
    "# Daten für La Liga abrufen und in die Datenbank einfügen\n",
    "#la_liga_top_scorers = extract_top_scorers_data(la_liga_id, num_top_scorers)\n",
    "#insert_data_to_database(la_liga_top_scorers, 'top_scorers_collection') # Kollektionsname hier einfügen\n",
    "#print(\"Daten für La Liga erfolgreich eingefügt.\")\n",
    "\n",
    "# Daten für Premier League abrufen und in die Datenbank einfügen\n",
    "#premier_league_top_scorers = extract_top_scorers_data(premier_league_id, num_top_scorers)\n",
    "#insert_data_to_database(premier_league_top_scorers, 'top_scorers_collection') # Kollektionsname hier einfügen\n",
    "#print(\"Daten für Premier League erfolgreich eingefügt.\")\n"
   ]
  },
  {
   "cell_type": "code",
   "execution_count": 22,
   "id": "71e401ee-1dac-48ad-af51-527db85df9b5",
   "metadata": {},
   "outputs": [
    {
     "data": {
      "text/plain": [
       "['top_scorers_39',\n",
       " 'premier_league_fixtures',\n",
       " 'competitions',\n",
       " 'top_scorers_collection',\n",
       " 'premier_league_players',\n",
       " 'topredcards',\n",
       " 'topassists',\n",
       " 'top_scorers',\n",
       " 'topscorers',\n",
       " 'players',\n",
       " 'topyellowcards',\n",
       " 'premier_league_teams',\n",
       " 'teams']"
      ]
     },
     "execution_count": 22,
     "metadata": {},
     "output_type": "execute_result"
    }
   ],
   "source": [
    "db.list_collection_names()"
   ]
  },
  {
   "cell_type": "code",
   "execution_count": 21,
   "id": "a2459f25-106f-4a4e-b193-63dfcb042924",
   "metadata": {},
   "outputs": [
    {
     "data": {
      "text/plain": [
       "{'_id': ObjectId('6622695b1a8558f4e9a00ab5'),\n",
       " 'player_name': 'Lautaro Martínez',\n",
       " 'goals': 23}"
      ]
     },
     "execution_count": 21,
     "metadata": {},
     "output_type": "execute_result"
    }
   ],
   "source": [
    "db.top_scorers_collection.find_one()"
   ]
  },
  {
   "cell_type": "code",
   "execution_count": 17,
   "id": "bb21b123-7802-4685-ae77-9b13124d71cb",
   "metadata": {
    "tags": []
   },
   "outputs": [],
   "source": [
    "tp_coll = db.get_collection('top_scorers_collection')"
   ]
  },
  {
   "cell_type": "code",
   "execution_count": 18,
   "id": "763cce33",
   "metadata": {
    "tags": []
   },
   "outputs": [
    {
     "name": "stdout",
     "output_type": "stream",
     "text": [
      "{'_id': ObjectId('6622695b1a8558f4e9a00ab5'), 'player_name': 'Lautaro Martínez', 'goals': 23}\n",
      "{'_id': ObjectId('6622695b1a8558f4e9a00ab6'), 'player_name': 'Dušan Vlahović', 'goals': 15}\n",
      "{'_id': ObjectId('6622695b1a8558f4e9a00ab7'), 'player_name': 'Victor Osimhen', 'goals': 13}\n",
      "{'_id': ObjectId('6622695b1a8558f4e9a00ab8'), 'player_name': 'Olivier Giroud', 'goals': 13}\n",
      "{'_id': ObjectId('6622695b1a8558f4e9a00ab9'), 'player_name': 'Albert Guðmundsson', 'goals': 13}\n",
      "{'_id': ObjectId('6622695b1a8558f4e9a00aba'), 'player_name': 'Duván Zapata', 'goals': 12}\n",
      "{'_id': ObjectId('6622695b1a8558f4e9a00abb'), 'player_name': 'Paulo Dybala', 'goals': 12}\n",
      "{'_id': ObjectId('6622695b1a8558f4e9a00abc'), 'player_name': 'Joshua Zirkzee', 'goals': 11}\n",
      "{'_id': ObjectId('6622695b1a8558f4e9a00abd'), 'player_name': 'Marcus Thuram-Ulien', 'goals': 11}\n",
      "{'_id': ObjectId('6622695b1a8558f4e9a00abe'), 'player_name': 'Hakan Çalhanoğlu', 'goals': 11}\n",
      "{'_id': ObjectId('6622695d1a8558f4e9a00abf'), 'player_name': 'Artem Dovbyk', 'goals': 17}\n",
      "{'_id': ObjectId('6622695d1a8558f4e9a00ac0'), 'player_name': 'Jude Bellingham', 'goals': 16}\n",
      "{'_id': ObjectId('6622695d1a8558f4e9a00ac1'), 'player_name': 'Ante Budimir', 'goals': 16}\n",
      "{'_id': ObjectId('6622695d1a8558f4e9a00ac2'), 'player_name': 'Borja Mayoral', 'goals': 15}\n",
      "{'_id': ObjectId('6622695d1a8558f4e9a00ac3'), 'player_name': 'Álvaro Morata', 'goals': 14}\n",
      "{'_id': ObjectId('6622695d1a8558f4e9a00ac4'), 'player_name': 'Alexander Sørloth', 'goals': 14}\n",
      "{'_id': ObjectId('6622695d1a8558f4e9a00ac5'), 'player_name': 'Gorka Guruzeta', 'goals': 13}\n",
      "{'_id': ObjectId('6622695d1a8558f4e9a00ac6'), 'player_name': 'Robert Lewandowski', 'goals': 13}\n",
      "{'_id': ObjectId('6622695d1a8558f4e9a00ac7'), 'player_name': 'Antoine Griezmann', 'goals': 13}\n",
      "{'_id': ObjectId('6622695d1a8558f4e9a00ac8'), 'player_name': 'Vinicius Junior', 'goals': 12}\n",
      "{'_id': ObjectId('662269601a8558f4e9a00ac9'), 'player_name': 'Erling Haaland', 'goals': 20}\n",
      "{'_id': ObjectId('662269601a8558f4e9a00aca'), 'player_name': 'Cole Palmer', 'goals': 20}\n",
      "{'_id': ObjectId('662269601a8558f4e9a00acb'), 'player_name': 'Ollie Watkins', 'goals': 19}\n",
      "{'_id': ObjectId('662269601a8558f4e9a00acc'), 'player_name': 'Dominic Solanke', 'goals': 17}\n",
      "{'_id': ObjectId('662269601a8558f4e9a00acd'), 'player_name': 'Alexander Isak', 'goals': 17}\n",
      "{'_id': ObjectId('662269601a8558f4e9a00ace'), 'player_name': 'Mohamed Salah', 'goals': 17}\n",
      "{'_id': ObjectId('662269601a8558f4e9a00acf'), 'player_name': 'Jarrod Bowen', 'goals': 15}\n",
      "{'_id': ObjectId('662269601a8558f4e9a00ad0'), 'player_name': 'Heung-min Son', 'goals': 15}\n",
      "{'_id': ObjectId('662269601a8558f4e9a00ad1'), 'player_name': 'Bukayo Saka', 'goals': 14}\n",
      "{'_id': ObjectId('662269601a8558f4e9a00ad2'), 'player_name': 'Phil Foden', 'goals': 14}\n"
     ]
    }
   ],
   "source": [
    "cursor = tp_coll.find()\n",
    "\n",
    "# Daten ausgeben\n",
    "for document in cursor:\n",
    "    print(document)"
   ]
  },
  {
   "cell_type": "code",
   "execution_count": 19,
   "id": "b861a0ce",
   "metadata": {
    "tags": []
   },
   "outputs": [
    {
     "name": "stdout",
     "output_type": "stream",
     "text": [
      "Albert Guðmundsson: 13 Tore\n",
      "Alexander Isak: 17 Tore\n",
      "Alexander Sørloth: 14 Tore\n",
      "Ante Budimir: 16 Tore\n",
      "Antoine Griezmann: 13 Tore\n",
      "Artem Dovbyk: 17 Tore\n",
      "Borja Mayoral: 15 Tore\n",
      "Bukayo Saka: 14 Tore\n",
      "Cole Palmer: 20 Tore\n",
      "Dominic Solanke: 17 Tore\n",
      "Duván Zapata: 12 Tore\n",
      "Dušan Vlahović: 15 Tore\n",
      "Erling Haaland: 20 Tore\n",
      "Gorka Guruzeta: 13 Tore\n",
      "Hakan Çalhanoğlu: 11 Tore\n",
      "Heung-min Son: 15 Tore\n",
      "Jarrod Bowen: 15 Tore\n",
      "Joshua Zirkzee: 11 Tore\n",
      "Jude Bellingham: 16 Tore\n",
      "Lautaro Martínez: 23 Tore\n",
      "Marcus Thuram-Ulien: 11 Tore\n",
      "Mohamed Salah: 17 Tore\n",
      "Olivier Giroud: 13 Tore\n",
      "Ollie Watkins: 19 Tore\n",
      "Paulo Dybala: 12 Tore\n",
      "Phil Foden: 14 Tore\n",
      "Robert Lewandowski: 13 Tore\n",
      "Victor Osimhen: 13 Tore\n",
      "Vinicius Junior: 12 Tore\n",
      "Álvaro Morata: 14 Tore\n"
     ]
    }
   ],
   "source": [
    "# Einzigartige Spieler und ihre Tore abrufen\n",
    "unique_players = tp_coll.distinct(\"player_name\")\n",
    "for player_name in unique_players:\n",
    "    goals = tp_coll.find_one({\"player_name\": player_name})[\"goals\"]\n",
    "    print(f\"{player_name}: {goals} Tore\")\n"
   ]
  },
  {
   "cell_type": "code",
   "execution_count": 28,
   "id": "250d4444-e7aa-4749-95fd-8031e90f174c",
   "metadata": {},
   "outputs": [
    {
     "name": "stdout",
     "output_type": "stream",
     "text": [
      "{'_id': ObjectId('66215bd4e0dc427b68133f6c'), 'team': {'id': 77, 'name': 'Angers', 'code': 'ANG', 'country': 'France', 'founded': 1919, 'national': False, 'logo': 'https://media.api-sports.io/football/teams/77.png'}, 'venue': {'id': 634, 'name': 'Stade Raymond-Kopa', 'address': '73, boulevard Pierre de Coubertin', 'city': 'Angers', 'capacity': 19000, 'surface': 'grass', 'image': 'https://media.api-sports.io/football/venues/634.png'}}\n"
     ]
    }
   ],
   "source": [
    "print(db.teams.find_one())\n",
    "\n",
    "#cursor = db.teams.find_one()\n",
    "\n",
    "# Daten ausgeben\n",
    "#for document in cursor:\n",
    "#    print(document)"
   ]
  },
  {
   "cell_type": "code",
   "execution_count": 30,
   "id": "57c69245",
   "metadata": {},
   "outputs": [
    {
     "name": "stdout",
     "output_type": "stream",
     "text": [
      "Country: France | Name: Angers\n",
      "Country: France | Name: Bordeaux\n",
      "Country: France | Name: Lille\n",
      "Country: France | Name: Lyon\n",
      "Country: France | Name: Marseille\n",
      "Country: France | Name: Montpellier\n",
      "Country: France | Name: Nantes\n",
      "Country: France | Name: Nice\n",
      "Country: France | Name: Paris Saint Germain\n",
      "Country: France | Name: Monaco\n",
      "Country: France | Name: Reims\n",
      "Country: France | Name: Rennes\n",
      "Country: France | Name: Strasbourg\n",
      "Country: France | Name: Lorient\n",
      "Country: France | Name: Clermont Foot\n",
      "Country: France | Name: Stade Brestois 29\n",
      "Country: France | Name: Auxerre\n",
      "Country: France | Name: Estac Troyes\n",
      "Country: France | Name: Metz\n",
      "Country: France | Name: Lens\n",
      "Country: France | Name: Saint Etienne\n",
      "Country: France | Name: Angers\n",
      "Country: France | Name: Bordeaux\n",
      "Country: France | Name: Lille\n",
      "Country: France | Name: Lyon\n",
      "Country: France | Name: Marseille\n",
      "Country: France | Name: Montpellier\n",
      "Country: France | Name: Nantes\n",
      "Country: France | Name: Nice\n",
      "Country: France | Name: Paris Saint Germain\n",
      "Country: France | Name: Monaco\n",
      "Country: France | Name: Reims\n",
      "Country: France | Name: Rennes\n",
      "Country: France | Name: Strasbourg\n",
      "Country: France | Name: Lorient\n",
      "Country: France | Name: Clermont Foot\n",
      "Country: France | Name: Stade Brestois 29\n",
      "Country: France | Name: Auxerre\n",
      "Country: France | Name: Estac Troyes\n",
      "Country: France | Name: Metz\n",
      "Country: France | Name: Lens\n",
      "Country: France | Name: Saint Etienne\n",
      "Country: France | Name: Angers\n",
      "Country: France | Name: Bordeaux\n",
      "Country: France | Name: Lille\n",
      "Country: France | Name: Lyon\n",
      "Country: France | Name: Marseille\n",
      "Country: France | Name: Montpellier\n",
      "Country: France | Name: Nantes\n",
      "Country: France | Name: Nice\n",
      "Country: France | Name: Paris Saint Germain\n",
      "Country: France | Name: Monaco\n",
      "Country: France | Name: Reims\n",
      "Country: France | Name: Rennes\n",
      "Country: France | Name: Strasbourg\n",
      "Country: France | Name: Lorient\n",
      "Country: France | Name: Clermont Foot\n",
      "Country: France | Name: Stade Brestois 29\n",
      "Country: France | Name: Auxerre\n",
      "Country: France | Name: Estac Troyes\n",
      "Country: France | Name: Metz\n",
      "Country: France | Name: Lens\n",
      "Country: France | Name: Saint Etienne\n"
     ]
    }
   ],
   "source": [
    "cursor = db.teams.find()\n",
    "\n",
    "# Daten ausgeben\n",
    "for document in cursor:\n",
    "    print(\"Country: \" + document[\"team\"][\"country\"] + \" | \" + \"Name: \" + document[\"team\"][\"name\"])"
   ]
  },
  {
   "cell_type": "code",
   "execution_count": 47,
   "id": "9225aed0-910f-4fa8-83c5-d276982f87df",
   "metadata": {},
   "outputs": [
    {
     "name": "stdout",
     "output_type": "stream",
     "text": [
      "Campeonato Brasileiro Série A | id: 2013\n",
      "Championship | id: 2016\n",
      "Premier League | id: 2021\n",
      "UEFA Champions League | id: 2001\n",
      "European Championship | id: 2018\n",
      "Ligue 1 | id: 2015\n",
      "Bundesliga | id: 2002\n",
      "Serie A | id: 2019\n",
      "Eredivisie | id: 2003\n",
      "Primeira Liga | id: 2017\n",
      "Copa Libertadores | id: 2152\n",
      "Primera Division | id: 2014\n",
      "FIFA World Cup | id: 2000\n"
     ]
    }
   ],
   "source": [
    "# Funktion zur Extraktion von Daten über die verfügbaren Wettbewerbe\n",
    "def extract_comp_data():\n",
    "    teams_data = fetch_data(f\"/competitions/\")   \n",
    "    return teams_data[\"competitions\"]\n",
    "\n",
    "# Daten aller Wettbewerbe abrufen\n",
    "competitions = extract_comp_data();\n",
    "for comp in competitions:\n",
    "    print(comp[\"name\"], \"| id:\", comp[\"id\"])"
   ]
  },
  {
   "cell_type": "code",
   "execution_count": 48,
   "id": "d0b52068-bb82-4ce7-b064-3e3dbfbdb454",
   "metadata": {},
   "outputs": [
    {
     "name": "stdout",
     "output_type": "stream",
     "text": [
      "Germany | id: 759\n",
      "Spain | id: 760\n",
      "Portugal | id: 765\n",
      "Slovakia | id: 768\n",
      "England | id: 770\n",
      "France | id: 773\n",
      "Slovenia | id: 777\n",
      "Serbia | id: 780\n",
      "Denmark | id: 782\n",
      "Italy | id: 784\n",
      "Switzerland | id: 788\n",
      "Ukraine | id: 790\n",
      "Poland | id: 794\n",
      "Czech Republic | id: 798\n",
      "Croatia | id: 799\n",
      "Turkey | id: 803\n",
      "Belgium | id: 805\n",
      "Romania | id: 811\n",
      "Austria | id: 816\n",
      "Hungary | id: 827\n",
      "Albania | id: 1065\n",
      "Georgia | id: 1978\n",
      "Netherlands | id: 8601\n",
      "Scotland | id: 8873\n"
     ]
    }
   ],
   "source": [
    "# Funktion zur Extraktion von Daten über die Teams eines bestimmten Wettbewerbes\n",
    "def extract_comp_teams_data(id):\n",
    "    comp_teams_data = fetch_data(f\"/competitions/\" + str(id) + f\"/teams\")   \n",
    "    return comp_teams_data[\"teams\"]\n",
    "\n",
    "# Hole Teams der Euro 2024\n",
    "comp_teams = extract_comp_teams_data(2018);\n",
    "\n",
    "for comp_team in comp_teams:\n",
    "    print(comp_team[\"name\"], \"| id:\", comp_team[\"id\"])"
   ]
  },
  {
   "cell_type": "code",
   "execution_count": 52,
   "id": "3cba6342-d053-4ee4-84c0-201ef677de4a",
   "metadata": {},
   "outputs": [
    {
     "name": "stdout",
     "output_type": "stream",
     "text": [
      "{'area': {'id': 2016, 'name': 'Austria', 'code': 'AUT', 'flag': 'https://crests.football-data.org/816.svg'}, 'id': 816, 'name': 'Austria', 'shortName': 'Austria', 'tla': 'AUT', 'crest': 'https://crests.football-data.org/816.svg', 'address': 'Ernst-Happel-Stadion, Sektor A/F, Meiereistraße 7 Wien 1020', 'website': 'http://www.oefb.at', 'founded': 1904, 'clubColors': 'Red / White / Black', 'venue': 'Ernst-Happel-Stadion', 'runningCompetitions': [{'id': 2018, 'name': 'European Championship', 'code': 'EC', 'type': 'CUP', 'emblem': 'https://crests.football-data.org/EUR.svg'}], 'coach': {'id': None, 'firstName': None, 'lastName': None, 'name': None, 'dateOfBirth': None, 'nationality': None, 'contract': {'start': None, 'until': None}}, 'squad': [], 'staff': [], 'lastUpdated': '2021-05-28T19:09:15Z'}\n"
     ]
    }
   ],
   "source": [
    "# Funktion zur Extraktion von Daten über ein bestimmtes Team (anhand der id)\n",
    "def extract_team_data_by_id(id):\n",
    "    team_data = fetch_data(f\"/teams/\" + str(id))   \n",
    "    return team_data\n",
    "\n",
    "# Hole Team von AT\n",
    "austrian_team = extract_team_data_by_id(816);\n",
    "\n",
    "print(austrian_team);\n",
    "#for comp_team in comp_teams:\n",
    "#    print(comp_team[\"name\"], \"| id:\", comp_team[\"id\"])"
   ]
  },
  {
   "cell_type": "code",
   "execution_count": null,
   "id": "e4389a17-75cc-4fc4-868c-3a11f88f7a25",
   "metadata": {},
   "outputs": [],
   "source": []
  }
 ],
 "metadata": {
  "kernelspec": {
   "display_name": "Python 3 (ipykernel)",
   "language": "python",
   "name": "python3"
  },
  "language_info": {
   "codemirror_mode": {
    "name": "ipython",
    "version": 3
   },
   "file_extension": ".py",
   "mimetype": "text/x-python",
   "name": "python",
   "nbconvert_exporter": "python",
   "pygments_lexer": "ipython3",
   "version": "3.11.7"
  }
 },
 "nbformat": 4,
 "nbformat_minor": 5
}
