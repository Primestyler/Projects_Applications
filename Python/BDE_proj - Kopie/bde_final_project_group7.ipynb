{
 "cells": [
  {
   "cell_type": "markdown",
   "id": "f623fad6-ee2a-4c0c-b982-11837debdf85",
   "metadata": {},
   "source": [
    "# Semester Projekt Big Data Engineering\n",
    "### Gruppe 7: Dominic Kalarickal, Marcel Ivanic, Konrad Konlechner"
   ]
  },
  {
   "cell_type": "markdown",
   "id": "38222a70-b567-41e8-82b3-4bf85232983c",
   "metadata": {},
   "source": [
    "## Grundlegendes Konzept:\n",
    "\n",
    "Es sollen Verkehrsdaten von unterschiedlichen Quellen miteinander verglichen werden, um die Daten zu validieren. Hierbei soll insbesondere ein Ranking verschiedener Städte weltweit dahingehend überprüft werden, ob sich dieses durch Abfragen der Daten von einer Routing-API unter Berücksichtigung der aktuellen Verkehrslage bestätigen lässt. Außerdem werden diese Daten noch einem Index gegenübergestellt, der das Auftreten von Verkehrsstaus bewertet.\n"
   ]
  },
  {
   "cell_type": "markdown",
   "id": "53903f14-6bab-4676-a860-06440682e1f9",
   "metadata": {},
   "source": [
    "![title](img/bde_final_project_group_7_overview.png)"
   ]
  },
  {
   "cell_type": "markdown",
   "id": "7c81a617-2b06-462d-8ac3-5eb86100ddf6",
   "metadata": {},
   "source": [
    "## Github-Repository:\n",
    "Dieses Notebook und andere relevante Daten befinden sich in folgendem Github-Repository:  \n",
    "https://github.com/Primestyler/BDE_proj.git"
   ]
  },
  {
   "cell_type": "markdown",
   "id": "40c15fef-2716-48e0-938e-62a8c923c301",
   "metadata": {},
   "source": [
    "## Docker Setup\n",
    "Mit Hilfe des beiliegenden Files \"docker-compose.yml\" können die entsprechden Docker-Container erstellt werden, die zur Ausführung dieses Notebooks benötigt werden.\n"
   ]
  },
  {
   "cell_type": "markdown",
   "id": "975c3b94-a43a-4136-9f8f-d2f7c57b0a3a",
   "metadata": {},
   "source": [
    "## Installation benötigter Packages"
   ]
  },
  {
   "cell_type": "code",
   "execution_count": 1,
   "id": "bd316602-7266-4b46-b611-f6875e202997",
   "metadata": {},
   "outputs": [
    {
     "name": "stdout",
     "output_type": "stream",
     "text": [
      "Requirement already satisfied: confluent-kafka in /opt/conda/lib/python3.11/site-packages (2.4.0)\n",
      "Requirement already satisfied: pyspark in /usr/local/spark/python (3.5.0)\n",
      "Requirement already satisfied: py4j==0.10.9.7 in /opt/conda/lib/python3.11/site-packages (from pyspark) (0.10.9.7)\n"
     ]
    }
   ],
   "source": [
    "!pip install confluent-kafka\n",
    "!pip install pyspark"
   ]
  },
  {
   "cell_type": "markdown",
   "id": "1abe86b0-0355-44fb-a7d9-80db655131c0",
   "metadata": {},
   "source": [
    "## Vorbereitung der Routen-Daten\n",
    "Für jede Route erfolgt die Angabe der Koordinaten von Start- und Zielpunkt"
   ]
  },
  {
   "cell_type": "markdown",
   "id": "3f2d5cf7-2da3-4224-a98d-227b8bd2eb79",
   "metadata": {},
   "source": [
    "Wir haben verschiedene Routen in den Städten Berlin, Delhi und London beschrieben. Jede Route haben wir durch zwei Koordinatenpaare gekennzeichnet: ein \"start\" Punkt und ein \"ziel\" Punkt. Diese Koordinatenpaare sind geografische Positionen, angegeben in Längen- und Breitengraden, die die Start- und Zielorte der Routen definieren. In Berlin haben wir die Routen aus mehreren Start- und Zielkoordinaten innerhalb der Stadt zusammengestellt. Ähnlich wie in Berlin haben wir in Delhi verschiedene Start- und Zielpunkte innerhalb der Stadt durch Koordinatenpaare dargestellt. Auch in London haben wir verschiedene Routen durch Start- und Zielkoordinaten in der Stadt beschrieben."
   ]
  },
  {
   "cell_type": "code",
   "execution_count": 2,
   "id": "14350ee8-9616-4b72-809a-12ea3f1610b6",
   "metadata": {
    "scrolled": true
   },
   "outputs": [],
   "source": [
    "# Routes data\n",
    "berlin_routen = [\n",
    "    {\"start\": \"52.5160,13.3779\", \"ziel\": \"52.5206,13.3862\"},\n",
    "    {\"start\": \"52.5308,13.3847\", \"ziel\": \"52.5264,13.3686\"},\n",
    "    {\"start\": \"52.5233,13.4127\", \"ziel\": \"52.5171,13.3889\"},\n",
    "    {\"start\": \"52.5411,13.4554\", \"ziel\": \"52.5200,13.4050\"},\n",
    "    {\"start\": \"52.4831,13.4516\", \"ziel\": \"52.5209,13.3867\"},\n",
    "    {\"start\": \"52.5109,13.4245\", \"ziel\": \"52.5345,13.3832\"},\n",
    "    {\"start\": \"52.5064,13.2895\", \"ziel\": \"52.5167,13.3774\"},\n",
    "    {\"start\": \"52.5377,13.4384\", \"ziel\": \"52.4985,13.4451\"},\n",
    "    {\"start\": \"52.4660,13.3483\", \"ziel\": \"52.5327,13.4217\"},\n",
    "    {\"start\": \"52.5489,13.3781\", \"ziel\": \"52.4960,13.3311\"},\n",
    "    {\"start\": \"52.5096,13.3763\", \"ziel\": \"52.5192,13.4061\"},\n",
    "    {\"start\": \"52.4973,13.3966\", \"ziel\": \"52.5074,13.4307\"},\n",
    "    {\"start\": \"52.5238,13.4023\", \"ziel\": \"52.5080,13.3772\"},\n",
    "    {\"start\": \"52.5179,13.4284\", \"ziel\": \"52.5054,13.3904\"},\n",
    "    {\"start\": \"52.5120,13.3889\", \"ziel\": \"52.5208,13.3856\"},\n",
    "    {\"start\": \"52.5200,13.4050\", \"ziel\": \"52.5248,13.3689\"},\n",
    "    {\"start\": \"52.5170,13.3889\", \"ziel\": \"52.5200,13.4050\"},\n",
    "    {\"start\": \"52.5240,13.3879\", \"ziel\": \"52.5300,13.4100\"},\n",
    "    {\"start\": \"52.5290,13.3700\", \"ziel\": \"52.5200,13.4050\"},\n",
    "    {\"start\": \"52.5150,13.3750\", \"ziel\": \"52.5300,13.4050\"},\n",
    "    {\"start\": \"52.5220,13.3880\", \"ziel\": \"52.5200,13.4050\"},\n",
    "    {\"start\": \"52.5270,13.3720\", \"ziel\": \"52.5150,13.4050\"},\n",
    "    {\"start\": \"52.5240,13.3600\", \"ziel\": \"52.5200,13.4050\"},\n",
    "    {\"start\": \"52.5230,13.3700\", \"ziel\": \"52.5200,13.4050\"},\n",
    "    {\"start\": \"52.5250,13.3780\", \"ziel\": \"52.5200,13.4050\"}\n",
    "]\n",
    "\n",
    "delhi_routen = [\n",
    "    {\"start\": \"28.7041,77.1025\", \"ziel\": \"28.6139,77.2090\"},\n",
    "    {\"start\": \"28.7041,77.1025\", \"ziel\": \"28.6353,77.2250\"},\n",
    "    {\"start\": \"28.6271,77.2166\", \"ziel\": \"28.6518,77.2219\"},\n",
    "    {\"start\": \"28.6325,77.2185\", \"ziel\": \"28.6817,77.2426\"},\n",
    "    {\"start\": \"28.5922,77.2507\", \"ziel\": \"28.5383,77.2595\"},\n",
    "    {\"start\": \"28.5801,77.0569\", \"ziel\": \"28.6334,77.2200\"},\n",
    "    {\"start\": \"28.6271,77.2150\", \"ziel\": \"28.5666,77.2044\"},\n",
    "    {\"start\": \"28.6506,77.2305\", \"ziel\": \"28.6143,77.2274\"},\n",
    "    {\"start\": \"28.6090,77.0375\", \"ziel\": \"28.6947,77.2945\"},\n",
    "    {\"start\": \"28.5694,77.2315\", \"ziel\": \"28.6613,77.2166\"},\n",
    "    {\"start\": \"28.6139,77.2090\", \"ziel\": \"28.6344,77.2205\"},\n",
    "    {\"start\": \"28.6333,77.2250\", \"ziel\": \"28.6139,77.2025\"},\n",
    "    {\"start\": \"28.5914,77.2507\", \"ziel\": \"28.7025,77.1907\"},\n",
    "    {\"start\": \"28.5552,77.2026\", \"ziel\": \"28.7041,77.1025\"},\n",
    "    {\"start\": \"28.6280,77.2145\", \"ziel\": \"28.5790,77.1762\"},\n",
    "    {\"start\": \"28.6280,77.2150\", \"ziel\": \"28.6340,77.2160\"},\n",
    "    {\"start\": \"28.6180,77.2080\", \"ziel\": \"28.6220,77.2140\"},\n",
    "    {\"start\": \"28.6110,77.2090\", \"ziel\": \"28.6300,77.2210\"},\n",
    "    {\"start\": \"28.6190,77.2110\", \"ziel\": \"28.6250,77.2170\"},\n",
    "    {\"start\": \"28.6270,77.2130\", \"ziel\": \"28.6310,77.2190\"},\n",
    "    {\"start\": \"28.6300,77.2160\", \"ziel\": \"28.6210,77.2150\"},\n",
    "    {\"start\": \"28.6220,77.2180\", \"ziel\": \"28.6290,77.2230\"},\n",
    "    {\"start\": \"28.6250,77.2100\", \"ziel\": \"28.6320,77.2240\"},\n",
    "    {\"start\": \"28.6140,77.2140\", \"ziel\": \"28.6200,77.2190\"},\n",
    "    {\"start\": \"28.6150,77.2150\", \"ziel\": \"28.6220,77.2160\"}\n",
    "]\n",
    "\n",
    "london_routen = [\n",
    "    {\"start\": \"51.5074,-0.1278\", \"ziel\": \"51.5007,-0.1246\"},\n",
    "    {\"start\": \"51.5074,-0.1278\", \"ziel\": \"51.5080,-0.1280\"},\n",
    "    {\"start\": \"51.5014,-0.1419\", \"ziel\": \"51.5033,-0.1195\"},\n",
    "    {\"start\": \"51.5113,-0.1195\", \"ziel\": \"51.4992,-0.1247\"},\n",
    "    {\"start\": \"51.4989,-0.1747\", \"ziel\": \"51.5005,-0.1213\"},\n",
    "    {\"start\": \"51.5080,-0.1246\", \"ziel\": \"51.5045,-0.0865\"},\n",
    "    {\"start\": \"51.5000,-0.1214\", \"ziel\": \"51.5101,-0.1349\"},\n",
    "    {\"start\": \"51.5085,-0.0805\", \"ziel\": \"51.4947,-0.1374\"},\n",
    "    {\"start\": \"51.4975,-0.1214\", \"ziel\": \"51.5074,-0.1278\"},\n",
    "    {\"start\": \"51.5125,-0.0961\", \"ziel\": \"51.5074,-0.1278\"},\n",
    "    {\"start\": \"51.5026,-0.1406\", \"ziel\": \"51.5097,-0.0805\"},\n",
    "    {\"start\": \"51.5286,-0.2417\", \"ziel\": \"51.5042,-0.0865\"},\n",
    "    {\"start\": \"51.5204,-0.1346\", \"ziel\": \"51.5094,-0.1183\"},\n",
    "    {\"start\": \"51.5096,-0.1348\", \"ziel\": \"51.5014,-0.1423\"},\n",
    "    {\"start\": \"51.5048,-0.1070\", \"ziel\": \"51.5081,-0.1246\"},\n",
    "    {\"start\": \"51.5070,-0.1350\", \"ziel\": \"51.5110,-0.1200\"},\n",
    "    {\"start\": \"51.5130,-0.1400\", \"ziel\": \"51.5060,-0.1210\"},\n",
    "    {\"start\": \"51.5080,-0.1320\", \"ziel\": \"51.5090,-0.1190\"},\n",
    "    {\"start\": \"51.5050,-0.1380\", \"ziel\": \"51.5070,-0.1240\"},\n",
    "    {\"start\": \"51.5090,-0.1400\", \"ziel\": \"51.5060,-0.1250\"},\n",
    "    {\"start\": \"51.5075,-0.1330\", \"ziel\": \"51.5050,-0.1190\"},\n",
    "    {\"start\": \"51.5110,-0.1360\", \"ziel\": \"51.5080,-0.1220\"},\n",
    "    {\"start\": \"51.5090,-0.1390\", \"ziel\": \"51.5070,-0.1180\"},\n",
    "    {\"start\": \"51.5100,-0.1320\", \"ziel\": \"51.5080,-0.1200\"},\n",
    "    {\"start\": \"51.5060,-0.1380\", \"ziel\": \"51.5070,-0.1210\"}\n",
    "]"
   ]
  },
  {
   "cell_type": "code",
   "execution_count": 3,
   "id": "eb0c8deb-2364-43a9-8557-684c7f36aaff",
   "metadata": {},
   "outputs": [],
   "source": [
    "import requests\n",
    "import json\n",
    "import time\n",
    "from json import dumps\n",
    "import math "
   ]
  },
  {
   "cell_type": "markdown",
   "id": "ca834adb-1b22-49d2-9b01-54f5794279a6",
   "metadata": {},
   "source": [
    "Wir haben eine Funktion entwickelt, um die Länge von Routen auf etwa 10 Kilometer anzupassen. Diese Funktion, **adjust_route**, nimmt eine Route mit Start- und Zielkoordinaten als Eingabe. Zunächst wandeln wir die Koordinaten von Zeichenketten in Fließkommazahlen um und berechnen dann die aktuelle Distanz zwischen den Start- und Zielpunkten mithilfe der Haversine-Formel in der Hilfsfunktion **distance_between_points**. Diese Formel berücksichtigt die Erdkrümmung und liefert die Entfernung in Kilometern.\n",
    "\n",
    "Wenn die aktuelle Länge der Route von der gewünschten Länge abweicht, skalieren wir den Vektor vom Start- zum Zielpunkt so, dass die neue Route die gewünschte Länge von 10 Kilometern hat. Dazu berechnen wir einen Skalierungsfaktor aus dem Verhältnis der gewünschten Länge zur aktuellen Länge. Die neuen Zielkoordinaten erhalten wir, indem wir die Differenz zwischen den ursprünglichen Start- und Zielkoordinaten mit diesem Faktor multiplizieren und die resultierenden Werte zu den Startkoordinaten addieren. Die angepassten Koordinaten setzen wir als neues Ziel der Route fest. Diese Methode ermöglicht es uns, Routen einheitlich auf die Länge von etwa 10 Kilometern zu bringen, was für die Analyse von Verkehrswegen, Routenplanung oder logistische Optimierungen hilfreich ist."
   ]
  },
  {
   "cell_type": "code",
   "execution_count": 4,
   "id": "befe4ca8-779d-4e63-8445-6f30f3f4980e",
   "metadata": {},
   "outputs": [],
   "source": [
    "# Function to adjust route to fit the desired length (approximately 10 km)\n",
    "def adjust_route(route):\n",
    "    start_coords = [float(coord) for coord in route['start'].split(',')]\n",
    "    ziel_coords = [float(coord) for coord in route['ziel'].split(',')]\n",
    "    \n",
    "    # Calculate the distance between start and ziel\n",
    "    current_length = distance_between_points(start_coords, ziel_coords)\n",
    "    desired_length = 10.0  # Desired length in km\n",
    "    \n",
    "    # Scale the vector from start to ziel to achieve desired_length\n",
    "    scale_factor = desired_length / current_length\n",
    "    new_ziel_coords = [\n",
    "        start_coords[0] + (ziel_coords[0] - start_coords[0]) * scale_factor,\n",
    "        start_coords[1] + (ziel_coords[1] - start_coords[1]) * scale_factor\n",
    "    ]\n",
    "    \n",
    "    route['ziel'] = f\"{new_ziel_coords[0]},{new_ziel_coords[1]}\"\n",
    "    return route\n",
    "\n",
    "# Helper function to calculate distance between two points in km (Haversine formula)\n",
    "def distance_between_points(coord1, coord2):\n",
    "    lat1, lon1 = coord1\n",
    "    lat2, lon2 = coord2\n",
    "    R = 6371.0  # Radius of the Earth in km\n",
    "    dlat = math.radians(lat2 - lat1)\n",
    "    dlon = math.radians(lon2 - lon1)\n",
    "    a = math.sin(dlat / 2) * math.sin(dlat / 2) + math.cos(math.radians(lat1)) * math.cos(math.radians(lat2)) * math.sin(dlon / 2) * math.sin(dlon / 2)\n",
    "    c = 2 * math.atan2(math.sqrt(a), math.sqrt(1 - a))\n",
    "    distance = R * c\n",
    "    return distance"
   ]
  },
  {
   "cell_type": "markdown",
   "id": "a70c5355-51c8-413b-82fc-01b8ee3ac34c",
   "metadata": {},
   "source": [
    "## Abfragen der Routen von der Here-API "
   ]
  },
  {
   "cell_type": "code",
   "execution_count": 5,
   "id": "7db33f98-d93a-4ff3-9638-46d2f3778f15",
   "metadata": {},
   "outputs": [],
   "source": [
    "# Kafka producer setup\n",
    "from confluent_kafka import Producer\n",
    "\n",
    "kafkaProducer = Producer({'bootstrap.servers': 'kafka:9092'})"
   ]
  },
  {
   "cell_type": "markdown",
   "id": "5d1a6822-3400-4476-bee5-10cd6667c8fa",
   "metadata": {},
   "source": [
    "Wir haben eine Methode entwickelt, um Routeninformationen von der HERE API abzurufen. Hierzu haben wir zunächst die API-URL und den API-Schlüssel definiert.\n",
    "\n",
    "Die Funktion **get_data_from_here_api** nimmt Start- und Zielkoordinaten als Eingaben und stellt eine Anfrage an die HERE API, um Routeninformationen zu erhalten. In den Anfragenparametern spezifizieren wir das Transportmittel als Auto, geben die Start- und Zielkoordinaten an und fordern die Zusammenfassung der Route an. Die API antwortet mit den entsprechenden Routeninformationen, die wir dann im JSON-Format zurückgeben. Diese Methode ermöglicht es uns, detaillierte Routeninformationen für unsere Analysen zu sammeln."
   ]
  },
  {
   "cell_type": "code",
   "execution_count": 6,
   "id": "d40e690f-bc3f-4ef9-95e4-2f06f08119c3",
   "metadata": {},
   "outputs": [],
   "source": [
    "# HERE API setup\n",
    "api_url = \"https://router.hereapi.com/v8/routes\"\n",
    "api_key = \"AtlHVpOjqsf6aI0Ik-Fd6kvsRb3AHEwIv7QNo_iEeZM\"\n",
    "\n",
    "# Function to get data from HERE API with a desired length constraint\n",
    "def get_data_from_here_api(start, ziel):\n",
    "    params = {\n",
    "        \"transportMode\": \"car\",\n",
    "        \"origin\": start,\n",
    "        \"destination\": ziel,\n",
    "        \"return\": \"summary\",\n",
    "        \"apikey\": api_key\n",
    "    }\n",
    "    response = requests.get(api_url, params=params)\n",
    "    data = response.json()\n",
    "    return data\n"
   ]
  },
  {
   "cell_type": "markdown",
   "id": "d604fc5f-098c-48b4-97f0-c721e4cf7ea6",
   "metadata": {},
   "source": [
    "## Senden der Routen-Daten an Kafka-Topics"
   ]
  },
  {
   "cell_type": "markdown",
   "id": "797a334b-458c-4eeb-8d84-e45d0311e0ed",
   "metadata": {},
   "source": [
    "Wir haben eine Funktion entwickelt, um Routen zu verarbeiten und die Daten an Kafka zu senden. Die Funktion **send_routes_to_kafka** iteriert durch eine Liste von Routen, passt jede Route auf eine Länge von etwa 10 Kilometern an und ruft dann Routeninformationen von der HERE API ab.\n",
    "\n",
    "Für jede Route extrahieren wir die Start- und Zielkoordinaten und verwenden diese, um Daten von der HERE API zu erhalten. Die erhaltenen Daten werden dann im JSON-Format an ein Kafka-Thema gesendet. Um zu vermeiden, dass wir die API-Rate-Limits überschreiten, fügen wir eine kurze Pause zwischen den Anfragen ein. Diese Funktion wird verwendet, um die Routeninformationen für Berlin, Delhi und London zu verarbeiten und an die entsprechenden Kafka-Themen zu senden."
   ]
  },
  {
   "cell_type": "code",
   "execution_count": 7,
   "id": "37b5c00e-bd16-40a1-9aa6-90b6fa680144",
   "metadata": {},
   "outputs": [],
   "source": [
    "# Function to process routes and send data to Kafka\n",
    "def send_routes_to_kafka(routes, topic_name):\n",
    "    for route in routes:\n",
    "        route = adjust_route(route)\n",
    "        start = route[\"start\"]\n",
    "        ziel = route[\"ziel\"]\n",
    "        data = get_data_from_here_api(start, ziel)\n",
    "        kafkaProducer.produce(topic_name, value=dumps(data).encode('utf-8'))        \n",
    "        print(f\"Sent data for route from {start} to {ziel}\")\n",
    "        time.sleep(1)  # To avoid hitting API rate limits"
   ]
  },
  {
   "cell_type": "code",
   "execution_count": 8,
   "id": "4f1c25bc-220d-4593-aa3e-19e9b6e0d0f0",
   "metadata": {
    "scrolled": true
   },
   "outputs": [],
   "source": [
    "# execute this code only if data has not already been sent to Kafka\n",
    "\n",
    "# Send Berlin routes data to Kafka\n",
    "send_routes_to_kafka(berlin_routen, 'berlin_routes')\n",
    "\n",
    "# Send Delhi routes data to Kafka\n",
    "send_routes_to_kafka(delhi_routen, 'delhi_routes')\n",
    "\n",
    "# Send London routes data to Kafka\n",
    "send_routes_to_kafka(london_routen, 'london_routes')"
   ]
  },
  {
   "cell_type": "markdown",
   "id": "9a56dfef-6d9d-4fd4-bd11-ac883797226a",
   "metadata": {},
   "source": [
    "Wir haben eine Methode entwickelt, um Kafka-Themen zu erstellen und aufzulisten. Wir haben die Konfiguration für die Kafka-Verbindung festgelegt und einen Admin-Client (kadmin) erstellt.\n",
    "\n",
    "Die Themen für Berlin, Delhi und London wurden definiert, aber derzeit sind die entsprechenden Zeilen auskommentiert. Um die Themen zu erstellen, müssten diese Zeilen aktiviert werden. Schließlich haben wir die vorhandenen Kafka-Themen aufgelistet. Dieser Ansatz erleichtert die Verwaltung der Kafka-Themen für die Routeninformationen."
   ]
  },
  {
   "cell_type": "code",
   "execution_count": 9,
   "id": "f2d5bc63-f7ae-4d22-b3f3-d2aac1f2e744",
   "metadata": {},
   "outputs": [
    {
     "data": {
      "text/plain": [
       "{'london_routes': TopicMetadata(london_routes, 1 partitions),\n",
       " 'berlin_routes': TopicMetadata(berlin_routes, 1 partitions),\n",
       " 'delhi_routes': TopicMetadata(delhi_routes, 1 partitions)}"
      ]
     },
     "execution_count": 9,
     "metadata": {},
     "output_type": "execute_result"
    }
   ],
   "source": [
    "# create and list topics\n",
    "from confluent_kafka.admin import AdminClient\n",
    "from confluent_kafka.admin import NewTopic\n",
    "\n",
    "# topics will also be created by producer when sending messages to a new topic\n",
    "#topic_berlin = NewTopic('berlin_routes')\n",
    "#topic_dehli = NewTopic('dehli_routes')\n",
    "#topic_london = NewTopic('london_routes')\n",
    "\n",
    "conf = {'bootstrap.servers': 'kafka:9092',\n",
    "        'group.id': 'routes'}\n",
    "\n",
    "kadmin = AdminClient(conf)\n",
    "#kadmin.create_topics([topic_berlin, topic_dehli, topic_london])\n",
    "kadmin.list_topics().topics"
   ]
  },
  {
   "cell_type": "markdown",
   "id": "24c8e3d7-9205-4ed6-9149-5affa21a1295",
   "metadata": {},
   "source": [
    "Wir haben eine Pipeline erstellt, um Routeninformationen von Kafka mit Apache Spark zu verarbeiten und zu analysieren. Zuerst haben wir die Verbindungseinstellungen für Kafka festgelegt, einschließlich des Kafka-Brokers und der zu abonnierenden Topics, die die Routeninformationen für Berlin, Delhi und London enthalten.\n",
    "\n",
    "Dann initialisierten wir eine Spark-Session und konfigurierten sie, um das Kafka-Spark-Streaming-Paket zu verwenden. Wir definierten ein Schema für die JSON-Daten, die von Kafka empfangen werden, um die Struktur der Routeninformationen zu beschreiben. Dieses Schema umfasst verschiedene Felder wie Längen- und Breitengrade, Zeitstempel und Zusammenfassungen der Routen.\n",
    "\n",
    "Wir haben die Roh-Daten aus den Kafka-Topics gelesen und eine zusätzliche Spalte für den Namen des Topics hinzugefügt. Anschließend haben wir den Wert der Kafka-Nachrichten in Strings umgewandelt und das JSON-Format geparst. Um die Datenstruktur zu vereinfachen, haben wir die Routen und Abschnitte neu aufgegliedert, wodurch eine flachere Tabelle entstand.\n",
    "\n",
    "Die resultierende Tabelle enthält detaillierte Informationen zu jeder Route und jedem Abschnitt, einschließlich Start- und Zielkoordinaten, Abfahrts- und Ankunftszeiten, Dauer, Länge und Transportmodus. Wir haben die aufbereiteten Daten angezeigt und eine Beispielanalyse durchgeführt, um die durchschnittliche Dauer der Routen pro Stadt zu berechnen.\n",
    "\n",
    "Zum Abschluss der Verarbeitung haben wir die Spark-Session gestoppt. Diese Pipeline ermöglicht eine effiziente Verarbeitung und Analyse großer Mengen an Routeninformationen aus verschiedenen Städten in Echtzeit."
   ]
  },
  {
   "cell_type": "markdown",
   "id": "20bce654-7692-4728-8259-809cd2f19bcc",
   "metadata": {},
   "source": [
    "## Erstellen einer Spark-Session und Lesen des Streams der Kafka-Topics"
   ]
  },
  {
   "cell_type": "code",
   "execution_count": 10,
   "id": "d6abed48-6efd-4482-9094-f7d1fef124db",
   "metadata": {},
   "outputs": [
    {
     "name": "stdout",
     "output_type": "stream",
     "text": [
      "+------------------------------------+------------------------------------+------------+-------------------------+-------------+-------------+-------------------------+-----------+-----------+--------+------+-------------+--------------+-------------+\n",
      "|route_id                            |section_id                          |section_type|departure_time           |departure_lat|departure_lng|arrival_time             |arrival_lat|arrival_lng|duration|length|base_duration|transport_mode|topic        |\n",
      "+------------------------------------+------------------------------------+------------+-------------------------+-------------+-------------+-------------------------+-----------+-----------+--------+------+-------------+--------------+-------------+\n",
      "|41cee05e-55ac-4418-a03b-a139d8bdd180|12f939d9-c4b6-48d9-a4e9-df37ab32a0c3|vehicle     |2024-06-27T16:40:14+01:00|51.507427    |-0.1280207   |2024-06-27T17:19:35+01:00|51.42105   |-0.0869301 |2361    |12090 |1695         |car           |london_routes|\n",
      "|cc259a4e-92f3-4e44-a0d5-287167b02a03|2591d039-a9ae-461d-9f79-b170dceca5a9|vehicle     |2024-06-27T16:40:16+01:00|51.507427    |-0.1280207   |2024-06-27T17:28:23+01:00|51.5951    |-0.1571336 |2887    |13331 |1867         |car           |london_routes|\n",
      "|3387c448-8011-435f-abca-98963df976d7|93b06112-bec8-42b5-a824-489759651035|vehicle     |2024-06-27T16:40:17+01:00|51.50217     |-0.14157     |2024-06-27T17:22:56+01:00|51.513523  |0.0012967  |2559    |12272 |1599         |car           |london_routes|\n",
      "|433e87de-5bf0-4a14-a6c2-44142a0e033c|5459ddf5-51f4-428e-9b40-82be665c4f2a|vehicle     |2024-06-27T16:40:18+01:00|51.51122     |-0.1194323   |2024-06-27T17:24:33+01:00|51.424458  |-0.156809  |2655    |13787 |1724         |car           |london_routes|\n",
      "|742a3d42-4933-4b13-aeac-da17d91b6491|7a500ec3-3e10-413b-8c87-eab57401527c|vehicle     |2024-06-27T16:40:20+01:00|51.49893     |-0.1742339   |2024-06-27T17:27:26+01:00|51.50247   |-0.0333201 |2826    |13346 |1973         |car           |london_routes|\n",
      "|94745ac9-ca56-4626-8e7c-c076b86daec7|17ecb1ec-76b6-4ed6-9b46-a2e265cad972|vehicle     |2024-06-27T16:40:21+01:00|51.508278    |-0.1241324   |2024-06-27T17:43:19+01:00|51.494938  |0.0175842  |3778    |15356 |2270         |car           |london_routes|\n",
      "|0719fa8c-87b5-42a6-903a-1c8fe349b923|00d1c303-a746-4b8e-af9e-fb59dd77b3fb|vehicle     |2024-06-27T16:40:22+01:00|51.500835    |-0.1213368   |2024-06-27T17:30:42+01:00|51.56786   |-0.21413   |3020    |13820 |1793         |car           |london_routes|\n",
      "|5f29111a-fa10-44d9-aa8f-b478b7f8f8ab|c4fe20c7-ba47-46b9-901b-c0f988732b7c|vehicle     |2024-06-27T16:40:23+01:00|51.50865     |-0.08045     |2024-06-27T17:27:22+01:00|51.47583   |-0.21506   |2819    |12550 |1603         |car           |london_routes|\n",
      "|1bb49a3b-e8f5-49a4-8179-12d95873cfe5|8134c8f4-34ad-4f70-a439-472d6d2bedb5|vehicle     |2024-06-27T16:40:25+01:00|51.49745     |-0.12058     |2024-06-27T17:27:29+01:00|51.58098   |-0.1752901 |2824    |14010 |1878         |car           |london_routes|\n",
      "|344194ea-eadc-453b-bcec-da30abe90b4a|86e28130-7061-453b-8371-2799a8154285|vehicle     |2024-06-27T16:40:26+01:00|51.512447    |-0.0957185   |2024-06-27T17:33:40+01:00|51.490448  |-0.2359989 |3194    |15585 |2031         |car           |london_routes|\n",
      "|c88e802c-7701-4690-8090-1e110448c205|9f6d105a-80f9-4140-979c-1ee186dd9a67|vehicle     |2024-06-27T16:40:27+01:00|51.50234     |-0.1395401   |2024-06-27T17:30:38+01:00|51.519268  |0.00178    |3011    |13823 |2060         |car           |london_routes|\n",
      "|73785f92-8bb4-4a27-a5c5-99c644f78bbe|dd4dfb34-a579-456a-b096-51152bc395f6|vehicle     |2024-06-27T16:40:29+01:00|51.52856     |-0.24175     |2024-06-27T17:26:51+01:00|51.506233  |-0.1018389 |2782    |13009 |1656         |car           |london_routes|\n",
      "|a0a2f4f7-54b8-4cc3-8287-3a1f456ea363|31c1f69e-1ad5-4be1-9246-9335e854e896|vehicle     |2024-06-27T16:40:30+01:00|51.520523    |-0.1342903   |2024-06-27T17:29:00+01:00|51.45413   |-0.0367001 |2910    |12571 |1740         |car           |london_routes|\n",
      "|5c27b4ed-5a99-4a29-a139-874c86016dea|70ca72e0-9440-4b7d-a9b4-272d5a906796|vehicle     |2024-06-27T16:40:31+01:00|51.50962     |-0.13463     |2024-06-27T17:28:01+01:00|51.43095   |-0.2065101 |2850    |13053 |1769         |car           |london_routes|\n",
      "|e636e721-acb4-4867-933f-4331f125c612|58944cf9-7e83-41e4-bb57-17521adbe956|vehicle     |2024-06-27T16:40:33+01:00|51.50493     |-0.1069201   |2024-06-27T17:23:41+01:00|51.530514  |-0.2451728 |2588    |13477 |1828         |car           |london_routes|\n",
      "|df220837-1b74-4aa2-8620-e7c3e52a2f98|04ffd9ee-5b8e-415f-a2c2-8fb67e129286|vehicle     |2024-06-27T16:40:34+01:00|51.506798    |-0.1348085   |2024-06-27T17:29:58+01:00|51.542385  |-0.0021266 |2964    |11575 |1621         |car           |london_routes|\n",
      "|105625c8-d101-43e0-8308-54cb9f5c604a|af2bccff-9c56-4a33-beca-9aa23b8b1e10|vehicle     |2024-06-27T16:40:35+01:00|51.512867    |-0.1404229   |2024-06-27T17:30:57+01:00|51.467133  |-0.0155296 |3022    |13128 |2056         |car           |london_routes|\n",
      "|f4be2885-c654-45a7-880f-a51022f18ce4|d1caa779-5767-4942-b1a3-e87699cd4e80|vehicle     |2024-06-27T16:40:36+01:00|51.508263    |-0.1322282   |2024-06-27T17:28:38+01:00|51.51904   |0.01153    |2882    |12348 |1595         |car           |london_routes|\n",
      "|9e65fa6c-06d8-46e3-888e-b3b365be0c0c|ff93b20c-3a83-490b-afcb-e6e6713094c0|vehicle     |2024-06-27T16:40:38+01:00|51.505       |-0.1380029   |2024-06-27T17:31:35+01:00|51.52536   |0.0029251  |3057    |14026 |1852         |car           |london_routes|\n",
      "|6f5adcf8-1132-4960-a8a6-644f2d12c948|1fc816ae-01b8-4d17-88c0-8e98c354bc9e|vehicle     |2024-06-27T16:40:39+01:00|51.50816     |-0.13966     |2024-06-27T17:35:21+01:00|51.48154   |-0.00248   |3282    |13122 |1952         |car           |london_routes|\n",
      "+------------------------------------+------------------------------------+------------+-------------------------+-------------+-------------+-------------------------+-----------+-----------+--------+------+-------------+--------------+-------------+\n",
      "only showing top 20 rows\n",
      "\n"
     ]
    },
    {
     "data": {
      "text/html": [
       "<div>\n",
       "<style scoped>\n",
       "    .dataframe tbody tr th:only-of-type {\n",
       "        vertical-align: middle;\n",
       "    }\n",
       "\n",
       "    .dataframe tbody tr th {\n",
       "        vertical-align: top;\n",
       "    }\n",
       "\n",
       "    .dataframe thead th {\n",
       "        text-align: right;\n",
       "    }\n",
       "</style>\n",
       "<table border=\"1\" class=\"dataframe\">\n",
       "  <thead>\n",
       "    <tr style=\"text-align: right;\">\n",
       "      <th></th>\n",
       "      <th>topic</th>\n",
       "      <th>avg_duration</th>\n",
       "    </tr>\n",
       "  </thead>\n",
       "  <tbody>\n",
       "    <tr>\n",
       "      <th>0</th>\n",
       "      <td>london_routes</td>\n",
       "      <td>2988.04</td>\n",
       "    </tr>\n",
       "    <tr>\n",
       "      <th>1</th>\n",
       "      <td>delhi_routes</td>\n",
       "      <td>2201.04</td>\n",
       "    </tr>\n",
       "    <tr>\n",
       "      <th>2</th>\n",
       "      <td>berlin_routes</td>\n",
       "      <td>1963.28</td>\n",
       "    </tr>\n",
       "  </tbody>\n",
       "</table>\n",
       "</div>"
      ],
      "text/plain": [
       "           topic  avg_duration\n",
       "0  london_routes       2988.04\n",
       "1   delhi_routes       2201.04\n",
       "2  berlin_routes       1963.28"
      ]
     },
     "execution_count": 10,
     "metadata": {},
     "output_type": "execute_result"
    }
   ],
   "source": [
    "from pyspark.sql import SparkSession\n",
    "from pyspark.sql.functions import *\n",
    "from pyspark.sql.types import *\n",
    "\n",
    "# Kafka connection settings\n",
    "kafka_bootstrap_servers = \"kafka:9092\"\n",
    "\n",
    "kafka_topics = [\"berlin_routes\", \"delhi_routes\", \"london_routes\"]\n",
    "\n",
    "# Initialize Spark session\n",
    "spark = SparkSession.builder \\\n",
    "    .appName(\"KafkaSparkStreaming\") \\\n",
    "    .config(\"spark.jars.packages\", \"org.apache.spark:spark-sql-kafka-0-10_2.12:3.3.0\") \\\n",
    "    .getOrCreate()\n",
    "\n",
    "# Define schema for the JSON data\n",
    "location_schema = StructType([\n",
    "    StructField(\"lat\", FloatType(), True),\n",
    "    StructField(\"lng\", FloatType(), True)\n",
    "])\n",
    "\n",
    "place_schema = StructType([\n",
    "    StructField(\"type\", StringType(), True),\n",
    "    StructField(\"location\", location_schema, True),\n",
    "    StructField(\"originalLocation\", location_schema, True)\n",
    "])\n",
    "\n",
    "time_place_schema = StructType([\n",
    "    StructField(\"time\", StringType(), True),\n",
    "    StructField(\"place\", place_schema, True)\n",
    "])\n",
    "\n",
    "summary_schema = StructType([\n",
    "    StructField(\"duration\", IntegerType(), True),\n",
    "    StructField(\"length\", IntegerType(), True),\n",
    "    StructField(\"baseDuration\", IntegerType(), True)\n",
    "])\n",
    "\n",
    "transport_schema = StructType([\n",
    "    StructField(\"mode\", StringType(), True)\n",
    "])\n",
    "\n",
    "section_schema = StructType([\n",
    "    StructField(\"id\", StringType(), True),\n",
    "    StructField(\"type\", StringType(), True),\n",
    "    StructField(\"departure\", time_place_schema, True),\n",
    "    StructField(\"arrival\", time_place_schema, True),\n",
    "    StructField(\"summary\", summary_schema, True),\n",
    "    StructField(\"transport\", transport_schema, True)\n",
    "])\n",
    "\n",
    "route_schema = StructType([\n",
    "    StructField(\"id\", StringType(), True),\n",
    "    StructField(\"sections\", ArrayType(section_schema), True)\n",
    "])\n",
    "\n",
    "data_schema = StructType([\n",
    "    StructField(\"routes\", ArrayType(route_schema), True)\n",
    "])\n",
    "\n",
    "# Read raw data from Kafka topics\n",
    "df_raw = spark.read.format(\"kafka\") \\\n",
    "    .option(\"kafka.bootstrap.servers\", kafka_bootstrap_servers) \\\n",
    "    .option(\"subscribe\", \",\".join(kafka_topics)) \\\n",
    "    .load()\n",
    "\n",
    "# Add a column for the topic name\n",
    "df_raw = df_raw.withColumn(\"topic\", col(\"topic\"))\n",
    "\n",
    "\n",
    "# Convert value column to string and parse JSON\n",
    "df_parsed = df_raw.select(from_json(col(\"value\").cast(\"string\"), data_schema).alias(\"data\"), col(\"topic\"))\n",
    "\n",
    "# Explode routes and sections to flatten the structure\n",
    "df_exploded = df_parsed.selectExpr(\"explode(data.routes) as route\", \"topic\") \\\n",
    "    .selectExpr(\"route.id as route_id\", \"explode(route.sections) as section\", \"topic\") \\\n",
    "    .select(\n",
    "        col(\"route_id\"),\n",
    "        col(\"section.id\").alias(\"section_id\"),\n",
    "        col(\"section.type\").alias(\"section_type\"),\n",
    "        col(\"section.departure.time\").alias(\"departure_time\"),\n",
    "        col(\"section.departure.place.location.lat\").alias(\"departure_lat\"),\n",
    "        col(\"section.departure.place.location.lng\").alias(\"departure_lng\"),\n",
    "        col(\"section.arrival.time\").alias(\"arrival_time\"),\n",
    "        col(\"section.arrival.place.location.lat\").alias(\"arrival_lat\"),\n",
    "        col(\"section.arrival.place.location.lng\").alias(\"arrival_lng\"),\n",
    "        col(\"section.summary.duration\").alias(\"duration\"),\n",
    "        col(\"section.summary.length\").alias(\"length\"),\n",
    "        col(\"section.summary.baseDuration\").alias(\"base_duration\"),\n",
    "        col(\"section.transport.mode\").alias(\"transport_mode\"),\n",
    "        col(\"topic\")\n",
    "    )\n",
    "\n",
    "\n",
    "# Show the parsed and flattened data\n",
    "df_exploded.show(truncate=False)\n",
    "\n",
    "# Example analysis: average duration per city\n",
    "df_avg_duration = df_exploded.groupBy(\"topic\").agg(avg(\"duration\").alias(\"avg_duration\"))\n",
    "df_avg_duration.toPandas()\n",
    "\n",
    "# Save the exploded dataframe to a CSV file\n",
    "#df_exploded.write.csv(\"traffic_3.csv\", header=True)\n"
   ]
  },
  {
   "cell_type": "markdown",
   "id": "5e47e683-f9ed-4d1d-bd10-1696d6a84919",
   "metadata": {},
   "source": [
    "Mit der toPandas() Funktion haben wir unseren Spark-DataFrame in einen Pandas-Dataframe umgewandelt, um damit einfacher Analysen durchführen zu können."
   ]
  },
  {
   "cell_type": "code",
   "execution_count": 11,
   "id": "99c8610d-f791-4d1d-b0fe-5be2d45941fb",
   "metadata": {},
   "outputs": [
    {
     "data": {
      "text/html": [
       "<div>\n",
       "<style scoped>\n",
       "    .dataframe tbody tr th:only-of-type {\n",
       "        vertical-align: middle;\n",
       "    }\n",
       "\n",
       "    .dataframe tbody tr th {\n",
       "        vertical-align: top;\n",
       "    }\n",
       "\n",
       "    .dataframe thead th {\n",
       "        text-align: right;\n",
       "    }\n",
       "</style>\n",
       "<table border=\"1\" class=\"dataframe\">\n",
       "  <thead>\n",
       "    <tr style=\"text-align: right;\">\n",
       "      <th></th>\n",
       "      <th>route_id</th>\n",
       "      <th>section_id</th>\n",
       "      <th>section_type</th>\n",
       "      <th>departure_time</th>\n",
       "      <th>departure_lat</th>\n",
       "      <th>departure_lng</th>\n",
       "      <th>arrival_time</th>\n",
       "      <th>arrival_lat</th>\n",
       "      <th>arrival_lng</th>\n",
       "      <th>duration</th>\n",
       "      <th>length</th>\n",
       "      <th>base_duration</th>\n",
       "      <th>transport_mode</th>\n",
       "      <th>topic</th>\n",
       "    </tr>\n",
       "  </thead>\n",
       "  <tbody>\n",
       "    <tr>\n",
       "      <th>0</th>\n",
       "      <td>41cee05e-55ac-4418-a03b-a139d8bdd180</td>\n",
       "      <td>12f939d9-c4b6-48d9-a4e9-df37ab32a0c3</td>\n",
       "      <td>vehicle</td>\n",
       "      <td>2024-06-27T16:40:14+01:00</td>\n",
       "      <td>51.507427</td>\n",
       "      <td>-0.128021</td>\n",
       "      <td>2024-06-27T17:19:35+01:00</td>\n",
       "      <td>51.421051</td>\n",
       "      <td>-0.086930</td>\n",
       "      <td>2361</td>\n",
       "      <td>12090</td>\n",
       "      <td>1695</td>\n",
       "      <td>car</td>\n",
       "      <td>london_routes</td>\n",
       "    </tr>\n",
       "    <tr>\n",
       "      <th>1</th>\n",
       "      <td>cc259a4e-92f3-4e44-a0d5-287167b02a03</td>\n",
       "      <td>2591d039-a9ae-461d-9f79-b170dceca5a9</td>\n",
       "      <td>vehicle</td>\n",
       "      <td>2024-06-27T16:40:16+01:00</td>\n",
       "      <td>51.507427</td>\n",
       "      <td>-0.128021</td>\n",
       "      <td>2024-06-27T17:28:23+01:00</td>\n",
       "      <td>51.595100</td>\n",
       "      <td>-0.157134</td>\n",
       "      <td>2887</td>\n",
       "      <td>13331</td>\n",
       "      <td>1867</td>\n",
       "      <td>car</td>\n",
       "      <td>london_routes</td>\n",
       "    </tr>\n",
       "    <tr>\n",
       "      <th>2</th>\n",
       "      <td>3387c448-8011-435f-abca-98963df976d7</td>\n",
       "      <td>93b06112-bec8-42b5-a824-489759651035</td>\n",
       "      <td>vehicle</td>\n",
       "      <td>2024-06-27T16:40:17+01:00</td>\n",
       "      <td>51.502171</td>\n",
       "      <td>-0.141570</td>\n",
       "      <td>2024-06-27T17:22:56+01:00</td>\n",
       "      <td>51.513523</td>\n",
       "      <td>0.001297</td>\n",
       "      <td>2559</td>\n",
       "      <td>12272</td>\n",
       "      <td>1599</td>\n",
       "      <td>car</td>\n",
       "      <td>london_routes</td>\n",
       "    </tr>\n",
       "    <tr>\n",
       "      <th>3</th>\n",
       "      <td>433e87de-5bf0-4a14-a6c2-44142a0e033c</td>\n",
       "      <td>5459ddf5-51f4-428e-9b40-82be665c4f2a</td>\n",
       "      <td>vehicle</td>\n",
       "      <td>2024-06-27T16:40:18+01:00</td>\n",
       "      <td>51.511219</td>\n",
       "      <td>-0.119432</td>\n",
       "      <td>2024-06-27T17:24:33+01:00</td>\n",
       "      <td>51.424458</td>\n",
       "      <td>-0.156809</td>\n",
       "      <td>2655</td>\n",
       "      <td>13787</td>\n",
       "      <td>1724</td>\n",
       "      <td>car</td>\n",
       "      <td>london_routes</td>\n",
       "    </tr>\n",
       "    <tr>\n",
       "      <th>4</th>\n",
       "      <td>742a3d42-4933-4b13-aeac-da17d91b6491</td>\n",
       "      <td>7a500ec3-3e10-413b-8c87-eab57401527c</td>\n",
       "      <td>vehicle</td>\n",
       "      <td>2024-06-27T16:40:20+01:00</td>\n",
       "      <td>51.498932</td>\n",
       "      <td>-0.174234</td>\n",
       "      <td>2024-06-27T17:27:26+01:00</td>\n",
       "      <td>51.502468</td>\n",
       "      <td>-0.033320</td>\n",
       "      <td>2826</td>\n",
       "      <td>13346</td>\n",
       "      <td>1973</td>\n",
       "      <td>car</td>\n",
       "      <td>london_routes</td>\n",
       "    </tr>\n",
       "    <tr>\n",
       "      <th>...</th>\n",
       "      <td>...</td>\n",
       "      <td>...</td>\n",
       "      <td>...</td>\n",
       "      <td>...</td>\n",
       "      <td>...</td>\n",
       "      <td>...</td>\n",
       "      <td>...</td>\n",
       "      <td>...</td>\n",
       "      <td>...</td>\n",
       "      <td>...</td>\n",
       "      <td>...</td>\n",
       "      <td>...</td>\n",
       "      <td>...</td>\n",
       "      <td>...</td>\n",
       "    </tr>\n",
       "    <tr>\n",
       "      <th>70</th>\n",
       "      <td>32f194b4-c0a6-494b-9cef-27e115059358</td>\n",
       "      <td>dc8233d5-642f-4411-9f21-e82c5c1a0ec2</td>\n",
       "      <td>vehicle</td>\n",
       "      <td>2024-06-27T17:39:36+02:00</td>\n",
       "      <td>52.522003</td>\n",
       "      <td>13.388041</td>\n",
       "      <td>2024-06-27T18:07:19+02:00</td>\n",
       "      <td>52.509830</td>\n",
       "      <td>13.532440</td>\n",
       "      <td>1663</td>\n",
       "      <td>11146</td>\n",
       "      <td>1140</td>\n",
       "      <td>car</td>\n",
       "      <td>berlin_routes</td>\n",
       "    </tr>\n",
       "    <tr>\n",
       "      <th>71</th>\n",
       "      <td>c87253c3-ac5d-4e3d-9bb8-636b52252a3e</td>\n",
       "      <td>10df0c82-e8bc-4b79-ad0e-b348410cc51c</td>\n",
       "      <td>vehicle</td>\n",
       "      <td>2024-06-27T17:39:37+02:00</td>\n",
       "      <td>52.526981</td>\n",
       "      <td>13.371725</td>\n",
       "      <td>2024-06-27T18:11:22+02:00</td>\n",
       "      <td>52.480438</td>\n",
       "      <td>13.501100</td>\n",
       "      <td>1905</td>\n",
       "      <td>12128</td>\n",
       "      <td>1273</td>\n",
       "      <td>car</td>\n",
       "      <td>berlin_routes</td>\n",
       "    </tr>\n",
       "    <tr>\n",
       "      <th>72</th>\n",
       "      <td>deff2c81-7342-4769-a8ed-4e99b62f9f37</td>\n",
       "      <td>8d3fd9b0-00a1-4459-9e9a-46478507e2e7</td>\n",
       "      <td>vehicle</td>\n",
       "      <td>2024-06-27T17:39:38+02:00</td>\n",
       "      <td>52.524147</td>\n",
       "      <td>13.360482</td>\n",
       "      <td>2024-06-27T18:14:01+02:00</td>\n",
       "      <td>52.510658</td>\n",
       "      <td>13.506202</td>\n",
       "      <td>2063</td>\n",
       "      <td>12309</td>\n",
       "      <td>1377</td>\n",
       "      <td>car</td>\n",
       "      <td>berlin_routes</td>\n",
       "    </tr>\n",
       "    <tr>\n",
       "      <th>73</th>\n",
       "      <td>71c1f090-ebb7-4e0c-9d82-c2f949a34de2</td>\n",
       "      <td>7275b6b2-1730-4041-8db8-5ec9f19f6f5c</td>\n",
       "      <td>vehicle</td>\n",
       "      <td>2024-06-27T17:39:40+02:00</td>\n",
       "      <td>52.523022</td>\n",
       "      <td>13.370020</td>\n",
       "      <td>2024-06-27T18:11:41+02:00</td>\n",
       "      <td>52.510452</td>\n",
       "      <td>13.516380</td>\n",
       "      <td>1921</td>\n",
       "      <td>13003</td>\n",
       "      <td>1420</td>\n",
       "      <td>car</td>\n",
       "      <td>berlin_routes</td>\n",
       "    </tr>\n",
       "    <tr>\n",
       "      <th>74</th>\n",
       "      <td>7271b50a-08ab-457e-bb97-bb0676c2207f</td>\n",
       "      <td>92e5aba5-656e-4ab7-a19c-fc5e1a72c76a</td>\n",
       "      <td>vehicle</td>\n",
       "      <td>2024-06-27T17:39:41+02:00</td>\n",
       "      <td>52.524933</td>\n",
       "      <td>13.377831</td>\n",
       "      <td>2024-06-27T18:10:17+02:00</td>\n",
       "      <td>52.498924</td>\n",
       "      <td>13.519899</td>\n",
       "      <td>1836</td>\n",
       "      <td>12449</td>\n",
       "      <td>1359</td>\n",
       "      <td>car</td>\n",
       "      <td>berlin_routes</td>\n",
       "    </tr>\n",
       "  </tbody>\n",
       "</table>\n",
       "<p>75 rows × 14 columns</p>\n",
       "</div>"
      ],
      "text/plain": [
       "                                route_id  \\\n",
       "0   41cee05e-55ac-4418-a03b-a139d8bdd180   \n",
       "1   cc259a4e-92f3-4e44-a0d5-287167b02a03   \n",
       "2   3387c448-8011-435f-abca-98963df976d7   \n",
       "3   433e87de-5bf0-4a14-a6c2-44142a0e033c   \n",
       "4   742a3d42-4933-4b13-aeac-da17d91b6491   \n",
       "..                                   ...   \n",
       "70  32f194b4-c0a6-494b-9cef-27e115059358   \n",
       "71  c87253c3-ac5d-4e3d-9bb8-636b52252a3e   \n",
       "72  deff2c81-7342-4769-a8ed-4e99b62f9f37   \n",
       "73  71c1f090-ebb7-4e0c-9d82-c2f949a34de2   \n",
       "74  7271b50a-08ab-457e-bb97-bb0676c2207f   \n",
       "\n",
       "                              section_id section_type  \\\n",
       "0   12f939d9-c4b6-48d9-a4e9-df37ab32a0c3      vehicle   \n",
       "1   2591d039-a9ae-461d-9f79-b170dceca5a9      vehicle   \n",
       "2   93b06112-bec8-42b5-a824-489759651035      vehicle   \n",
       "3   5459ddf5-51f4-428e-9b40-82be665c4f2a      vehicle   \n",
       "4   7a500ec3-3e10-413b-8c87-eab57401527c      vehicle   \n",
       "..                                   ...          ...   \n",
       "70  dc8233d5-642f-4411-9f21-e82c5c1a0ec2      vehicle   \n",
       "71  10df0c82-e8bc-4b79-ad0e-b348410cc51c      vehicle   \n",
       "72  8d3fd9b0-00a1-4459-9e9a-46478507e2e7      vehicle   \n",
       "73  7275b6b2-1730-4041-8db8-5ec9f19f6f5c      vehicle   \n",
       "74  92e5aba5-656e-4ab7-a19c-fc5e1a72c76a      vehicle   \n",
       "\n",
       "               departure_time  departure_lat  departure_lng  \\\n",
       "0   2024-06-27T16:40:14+01:00      51.507427      -0.128021   \n",
       "1   2024-06-27T16:40:16+01:00      51.507427      -0.128021   \n",
       "2   2024-06-27T16:40:17+01:00      51.502171      -0.141570   \n",
       "3   2024-06-27T16:40:18+01:00      51.511219      -0.119432   \n",
       "4   2024-06-27T16:40:20+01:00      51.498932      -0.174234   \n",
       "..                        ...            ...            ...   \n",
       "70  2024-06-27T17:39:36+02:00      52.522003      13.388041   \n",
       "71  2024-06-27T17:39:37+02:00      52.526981      13.371725   \n",
       "72  2024-06-27T17:39:38+02:00      52.524147      13.360482   \n",
       "73  2024-06-27T17:39:40+02:00      52.523022      13.370020   \n",
       "74  2024-06-27T17:39:41+02:00      52.524933      13.377831   \n",
       "\n",
       "                 arrival_time  arrival_lat  arrival_lng  duration  length  \\\n",
       "0   2024-06-27T17:19:35+01:00    51.421051    -0.086930      2361   12090   \n",
       "1   2024-06-27T17:28:23+01:00    51.595100    -0.157134      2887   13331   \n",
       "2   2024-06-27T17:22:56+01:00    51.513523     0.001297      2559   12272   \n",
       "3   2024-06-27T17:24:33+01:00    51.424458    -0.156809      2655   13787   \n",
       "4   2024-06-27T17:27:26+01:00    51.502468    -0.033320      2826   13346   \n",
       "..                        ...          ...          ...       ...     ...   \n",
       "70  2024-06-27T18:07:19+02:00    52.509830    13.532440      1663   11146   \n",
       "71  2024-06-27T18:11:22+02:00    52.480438    13.501100      1905   12128   \n",
       "72  2024-06-27T18:14:01+02:00    52.510658    13.506202      2063   12309   \n",
       "73  2024-06-27T18:11:41+02:00    52.510452    13.516380      1921   13003   \n",
       "74  2024-06-27T18:10:17+02:00    52.498924    13.519899      1836   12449   \n",
       "\n",
       "    base_duration transport_mode          topic  \n",
       "0            1695            car  london_routes  \n",
       "1            1867            car  london_routes  \n",
       "2            1599            car  london_routes  \n",
       "3            1724            car  london_routes  \n",
       "4            1973            car  london_routes  \n",
       "..            ...            ...            ...  \n",
       "70           1140            car  berlin_routes  \n",
       "71           1273            car  berlin_routes  \n",
       "72           1377            car  berlin_routes  \n",
       "73           1420            car  berlin_routes  \n",
       "74           1359            car  berlin_routes  \n",
       "\n",
       "[75 rows x 14 columns]"
      ]
     },
     "execution_count": 11,
     "metadata": {},
     "output_type": "execute_result"
    }
   ],
   "source": [
    "df_exploded.toPandas()"
   ]
  },
  {
   "cell_type": "code",
   "execution_count": 12,
   "id": "842b0249-4c52-426e-87aa-566bc577f9f9",
   "metadata": {},
   "outputs": [],
   "source": [
    "#additional_data.to_csv('data/additional_data.csv', index=False)"
   ]
  },
  {
   "cell_type": "markdown",
   "id": "163a675b-4110-4d97-8964-bd2e5a8785fd",
   "metadata": {},
   "source": [
    "# Webscraping"
   ]
  },
  {
   "cell_type": "markdown",
   "id": "854cb125-0d19-47d7-b214-49f1f1d39184",
   "metadata": {},
   "source": [
    "Wir haben eine Web-Scraping-Aufgabe durchgeführt, um Verkehrsdaten von der TomTom Traffic Index Website (\"https://www.tomtom.com/traffic-index/ranking/\") zu sammeln. Zunächst haben wir den WebDriver von Selenium initialisiert und die TomTom Traffic Index Ranking-Seite geöffnet. Nach einer Wartezeit von 10 Sekunden, um sicherzustellen, dass die Seite vollständig geladen ist, haben wir den eigentlichen Extraktionsprozess gestartet.\n",
    "\n",
    "Wir haben kontinuierlich nach unten gescrollt, um sicherzustellen, dass alle Verkehrsdaten auf der Seite geladen werden. Während des Scrollens haben wir nach spezifischen Zeilencontainern mit der Klasse sc-e3cb6a64-6.kfkObI gesucht. Für jeden gefundenen Zeilencontainer haben wir die darin enthaltenen span-Elemente extrahiert und deren Textinhalt gesammelt.\n",
    "\n",
    "Diese gesammelten Textinhalte haben wir überprüft, um sicherzustellen, dass sie nicht bereits in der Liste der gesammelten Daten enthalten sind und dass sie vollständig sind. Die gesammelten Daten haben wir in einer Liste gespeichert. Sobald keine neuen Daten mehr gefunden wurden, haben wir den Scroll- und Extraktionsprozess beendet und den WebDriver geschlossen.\n",
    "\n",
    "Anschließend haben wir die gesammelten Daten überprüft, um sicherzustellen, dass jede Datenzeile die richtige Anzahl von Elementen enthält, entsprechend den festgelegten Spaltenüberschriften: „Id“, „Ranked by Filter“, „World Rank“, „City“, „Average Traveltime“, „Change From 2022“, „Congestion level“, „Time lost per year“ und „Average speed“. Diese validierten Daten haben wir schließlich in ein pandas DataFrame umgewandelt und in einer CSV-Datei gespeichert. Die CSV-Datei kann später für detaillierte Analysen verwendet werden."
   ]
  },
  {
   "cell_type": "code",
   "execution_count": 13,
   "id": "f913fcf1-4d6c-4236-a932-0ab69bf52976",
   "metadata": {},
   "outputs": [
    {
     "data": {
      "text/plain": [
       "'from selenium import webdriver\\nfrom selenium.webdriver.common.by import By\\nfrom selenium.webdriver.common.action_chains import ActionChains\\nfrom selenium.webdriver.common.keys import Keys\\nimport time\\nimport pandas as pd\\n\\n# Manuelle Festlegung der Header\\ncolumn_headers = [\"Id\", \"Ranked by Filter\", \"World Rank\", \"City\", \"Average Traveltime per 10 km\", \"Change From 2022\", \"Congestion level in %\", \"Time lost per year (in hours)\", \"Average speed (in km/h)\"]\\n\\n# Initialize the WebDriver\\ndriver = webdriver.Chrome()\\n\\n# Load the webpage\\ndriver.get(\"https://www.tomtom.com/traffic-index/ranking/\")\\n\\n# Wait for the page to load completely\\ndriver.implicitly_wait(10)\\n\\n# Initialize an action to scroll\\nactions = ActionChains(driver)\\n\\n# Lists to save all data\\nall_div_data = []\\n\\n# Infinite loop to continuously scroll until all contents are loaded\\nwhile True:\\n    # Scroll down\\n    actions.send_keys(Keys.PAGE_DOWN).perform()\\n    \\n    # Wait for new content to load\\n    time.sleep(1)  # Adjust the waiting time depending on the page load speed\\n\\n    # Find all row containers with the class \\'sc-e3cb6a64-6.kfkObI\\'\\n    row_containers = driver.find_elements(By.CLASS_NAME, \\'sc-e3cb6a64-6.kfkObI\\')\\n    \\n    # Variable to check if new elements were found\\n    new_div_data = []\\n    \\n    # Iterate through all found row containers\\n    for row in row_containers:\\n        # Find all span elements within the current row container\\n        span_elements = row.find_elements(By.TAG_NAME, \\'span\\')\\n        \\n        # Extract the text from the span elements, split by \\'\\n\\', and take the first part\\n        span_texts = [span.text.split(\"\\n\")[0] for span in span_elements]\\n        \\n        # Add to the newly found data if it is not already in the overall list\\n        if span_texts not in all_div_data and span_texts:\\n            new_div_data.append(span_texts)\\n    \\n    # If no new elements were found, break the loop\\n    if not new_div_data:\\n        break\\n    \\n    # Add the new data to our overall list\\n    all_div_data.extend(new_div_data)\\n\\n# Close the browser\\ndriver.quit()\\n\\n# Print the first few rows of data for debugging\\nfor i, row in enumerate(all_div_data):\\n    print(f\"Row {i}:\", row)\\n\\n# Ensure all rows have the correct number of elements\\nvalid_data = [row for row in all_div_data if len(row) == len(column_headers)]\\n\\n# Print the number of valid rows for debugging\\nprint(f\"Number of valid rows: {len(valid_data)}\")\\n\\n# Create a DataFrame from the collected data\\ntry:\\n    df = pd.DataFrame(valid_data, columns=column_headers)\\n    # Save the DataFrame to a CSV file\\n    #df.to_csv(\"formatted_scraped_data.csv\", index=False)\\n    print(\"DataFrame saved successfully.\")\\nexcept ValueError as e:\\n    print(f\"Error creating DataFrame: {e}\")\\n\\n# Print out the DataFrame to verify the structure\\nprint(df.head())\\n'"
      ]
     },
     "execution_count": 13,
     "metadata": {},
     "output_type": "execute_result"
    }
   ],
   "source": [
    "'''from selenium import webdriver\n",
    "from selenium.webdriver.common.by import By\n",
    "from selenium.webdriver.common.action_chains import ActionChains\n",
    "from selenium.webdriver.common.keys import Keys\n",
    "import time\n",
    "import pandas as pd\n",
    "\n",
    "# Manuelle Festlegung der Header\n",
    "column_headers = [\"Id\", \"Ranked by Filter\", \"World Rank\", \"City\", \"Average Traveltime per 10 km\", \"Change From 2022\", \"Congestion level in %\", \"Time lost per year (in hours)\", \"Average speed (in km/h)\"]\n",
    "\n",
    "# Initialize the WebDriver\n",
    "driver = webdriver.Chrome()\n",
    "\n",
    "# Load the webpage\n",
    "driver.get(\"https://www.tomtom.com/traffic-index/ranking/\")\n",
    "\n",
    "# Wait for the page to load completely\n",
    "driver.implicitly_wait(10)\n",
    "\n",
    "# Initialize an action to scroll\n",
    "actions = ActionChains(driver)\n",
    "\n",
    "# Lists to save all data\n",
    "all_div_data = []\n",
    "\n",
    "# Infinite loop to continuously scroll until all contents are loaded\n",
    "while True:\n",
    "    # Scroll down\n",
    "    actions.send_keys(Keys.PAGE_DOWN).perform()\n",
    "    \n",
    "    # Wait for new content to load\n",
    "    time.sleep(1)  # Adjust the waiting time depending on the page load speed\n",
    "\n",
    "    # Find all row containers with the class 'sc-e3cb6a64-6.kfkObI'\n",
    "    row_containers = driver.find_elements(By.CLASS_NAME, 'sc-e3cb6a64-6.kfkObI')\n",
    "    \n",
    "    # Variable to check if new elements were found\n",
    "    new_div_data = []\n",
    "    \n",
    "    # Iterate through all found row containers\n",
    "    for row in row_containers:\n",
    "        # Find all span elements within the current row container\n",
    "        span_elements = row.find_elements(By.TAG_NAME, 'span')\n",
    "        \n",
    "        # Extract the text from the span elements, split by '\\n', and take the first part\n",
    "        span_texts = [span.text.split(\"\\n\")[0] for span in span_elements]\n",
    "        \n",
    "        # Add to the newly found data if it is not already in the overall list\n",
    "        if span_texts not in all_div_data and span_texts:\n",
    "            new_div_data.append(span_texts)\n",
    "    \n",
    "    # If no new elements were found, break the loop\n",
    "    if not new_div_data:\n",
    "        break\n",
    "    \n",
    "    # Add the new data to our overall list\n",
    "    all_div_data.extend(new_div_data)\n",
    "\n",
    "# Close the browser\n",
    "driver.quit()\n",
    "\n",
    "# Print the first few rows of data for debugging\n",
    "for i, row in enumerate(all_div_data):\n",
    "    print(f\"Row {i}:\", row)\n",
    "\n",
    "# Ensure all rows have the correct number of elements\n",
    "valid_data = [row for row in all_div_data if len(row) == len(column_headers)]\n",
    "\n",
    "# Print the number of valid rows for debugging\n",
    "print(f\"Number of valid rows: {len(valid_data)}\")\n",
    "\n",
    "# Create a DataFrame from the collected data\n",
    "try:\n",
    "    df = pd.DataFrame(valid_data, columns=column_headers)\n",
    "    # Save the DataFrame to a CSV file\n",
    "    #df.to_csv(\"formatted_scraped_data.csv\", index=False)\n",
    "    print(\"DataFrame saved successfully.\")\n",
    "except ValueError as e:\n",
    "    print(f\"Error creating DataFrame: {e}\")\n",
    "\n",
    "# Print out the DataFrame to verify the structure\n",
    "print(df.head())\n",
    "'''"
   ]
  },
  {
   "cell_type": "markdown",
   "id": "deea15b0-c89d-45c9-b492-8787ce12bed5",
   "metadata": {},
   "source": [
    "Mit Hilfe von Pandas lesen wir Daten aus unserer erstellten csv Datei aus und löschen unnötige Spalten raus. Außerdem bearbeiten wir unsere Werte, damit wir nur die Zahlen haben."
   ]
  },
  {
   "cell_type": "code",
   "execution_count": 14,
   "id": "997fd69d-a66e-491b-a2a5-ba6d06e74cf3",
   "metadata": {},
   "outputs": [
    {
     "data": {
      "text/html": [
       "<div>\n",
       "<style scoped>\n",
       "    .dataframe tbody tr th:only-of-type {\n",
       "        vertical-align: middle;\n",
       "    }\n",
       "\n",
       "    .dataframe tbody tr th {\n",
       "        vertical-align: top;\n",
       "    }\n",
       "\n",
       "    .dataframe thead th {\n",
       "        text-align: right;\n",
       "    }\n",
       "</style>\n",
       "<table border=\"1\" class=\"dataframe\">\n",
       "  <thead>\n",
       "    <tr style=\"text-align: right;\">\n",
       "      <th></th>\n",
       "      <th>World Rank</th>\n",
       "      <th>City</th>\n",
       "      <th>Average Traveltime per 10 km</th>\n",
       "      <th>Change From 2022</th>\n",
       "      <th>Congestion level in %</th>\n",
       "      <th>Time lost per year (in hours)</th>\n",
       "      <th>Average speed (in km/h)</th>\n",
       "    </tr>\n",
       "  </thead>\n",
       "  <tbody>\n",
       "    <tr>\n",
       "      <th>0</th>\n",
       "      <td>1</td>\n",
       "      <td>London</td>\n",
       "      <td>37 min 20 s</td>\n",
       "      <td>+ 1 min</td>\n",
       "      <td>45</td>\n",
       "      <td>148</td>\n",
       "      <td>14</td>\n",
       "    </tr>\n",
       "    <tr>\n",
       "      <th>1</th>\n",
       "      <td>2</td>\n",
       "      <td>Dublin</td>\n",
       "      <td>29 min 30 s</td>\n",
       "      <td>+ 1 min</td>\n",
       "      <td>66</td>\n",
       "      <td>158</td>\n",
       "      <td>16</td>\n",
       "    </tr>\n",
       "    <tr>\n",
       "      <th>2</th>\n",
       "      <td>3</td>\n",
       "      <td>Toronto</td>\n",
       "      <td>29 min</td>\n",
       "      <td>+ 50 s</td>\n",
       "      <td>42</td>\n",
       "      <td>98</td>\n",
       "      <td>18</td>\n",
       "    </tr>\n",
       "    <tr>\n",
       "      <th>3</th>\n",
       "      <td>4</td>\n",
       "      <td>Milan</td>\n",
       "      <td>28 min 50 s</td>\n",
       "      <td>+ 20 s</td>\n",
       "      <td>45</td>\n",
       "      <td>137</td>\n",
       "      <td>17</td>\n",
       "    </tr>\n",
       "    <tr>\n",
       "      <th>4</th>\n",
       "      <td>5</td>\n",
       "      <td>Lima</td>\n",
       "      <td>28 min 30 s</td>\n",
       "      <td>+ 1 min 20 s</td>\n",
       "      <td>61</td>\n",
       "      <td>157</td>\n",
       "      <td>17</td>\n",
       "    </tr>\n",
       "  </tbody>\n",
       "</table>\n",
       "</div>"
      ],
      "text/plain": [
       "   World Rank     City Average Traveltime per 10 km Change From 2022  \\\n",
       "0           1   London                  37 min 20 s          + 1 min   \n",
       "1           2   Dublin                  29 min 30 s          + 1 min   \n",
       "2           3  Toronto                       29 min           + 50 s   \n",
       "3           4    Milan                  28 min 50 s           + 20 s   \n",
       "4           5     Lima                  28 min 30 s     + 1 min 20 s   \n",
       "\n",
       "   Congestion level in %  Time lost per year (in hours)  \\\n",
       "0                     45                            148   \n",
       "1                     66                            158   \n",
       "2                     42                             98   \n",
       "3                     45                            137   \n",
       "4                     61                            157   \n",
       "\n",
       "   Average speed (in km/h)  \n",
       "0                       14  \n",
       "1                       16  \n",
       "2                       18  \n",
       "3                       17  \n",
       "4                       17  "
      ]
     },
     "execution_count": 14,
     "metadata": {},
     "output_type": "execute_result"
    }
   ],
   "source": [
    "import pandas as pd\n",
    "\n",
    "df = pd.read_csv('data/formatted_scraped_data.csv')\n",
    "\n",
    "df = df.drop(columns=[\"Id\", \"Ranked by Filter\"])\n",
    "\n",
    "df['Time lost per year (in hours)'] = df['Time lost per year (in hours)'].str.replace(' hours', '').astype(int)\n",
    "df['Average speed (in km/h)'] = df['Average speed (in km/h)'].str.replace(' km/h', '').astype(int)\n",
    "\n",
    "df.head()"
   ]
  },
  {
   "cell_type": "markdown",
   "id": "55cbb49c-be6f-4aa4-9536-c114e3b9f43f",
   "metadata": {},
   "source": [
    "Wir checken, ob alle Spalten gleich viele Werte überall aufweisen"
   ]
  },
  {
   "cell_type": "code",
   "execution_count": 15,
   "id": "257d460d-7b35-4994-9c75-0a297ed81ab1",
   "metadata": {},
   "outputs": [
    {
     "data": {
      "text/plain": [
       "World Rank                       387\n",
       "City                             387\n",
       "Average Traveltime per 10 km     387\n",
       "Change From 2022                 387\n",
       "Congestion level in %            387\n",
       "Time lost per year (in hours)    387\n",
       "Average speed (in km/h)          387\n",
       "dtype: int64"
      ]
     },
     "execution_count": 15,
     "metadata": {},
     "output_type": "execute_result"
    }
   ],
   "source": [
    "df.count()"
   ]
  },
  {
   "cell_type": "code",
   "execution_count": 16,
   "id": "e6a3e251-0520-400c-bc3a-91078376d01e",
   "metadata": {},
   "outputs": [
    {
     "data": {
      "text/html": [
       "<div>\n",
       "<style scoped>\n",
       "    .dataframe tbody tr th:only-of-type {\n",
       "        vertical-align: middle;\n",
       "    }\n",
       "\n",
       "    .dataframe tbody tr th {\n",
       "        vertical-align: top;\n",
       "    }\n",
       "\n",
       "    .dataframe thead th {\n",
       "        text-align: right;\n",
       "    }\n",
       "</style>\n",
       "<table border=\"1\" class=\"dataframe\">\n",
       "  <thead>\n",
       "    <tr style=\"text-align: right;\">\n",
       "      <th></th>\n",
       "      <th>World Rank</th>\n",
       "      <th>City</th>\n",
       "      <th>Average Traveltime per 10 km</th>\n",
       "      <th>Change From 2022</th>\n",
       "      <th>Congestion level in %</th>\n",
       "      <th>Time lost per year (in hours)</th>\n",
       "      <th>Average speed (in km/h)</th>\n",
       "    </tr>\n",
       "  </thead>\n",
       "  <tbody>\n",
       "  </tbody>\n",
       "</table>\n",
       "</div>"
      ],
      "text/plain": [
       "Empty DataFrame\n",
       "Columns: [World Rank, City, Average Traveltime per 10 km, Change From 2022, Congestion level in %, Time lost per year (in hours), Average speed (in km/h)]\n",
       "Index: []"
      ]
     },
     "execution_count": 16,
     "metadata": {},
     "output_type": "execute_result"
    }
   ],
   "source": [
    "# Überprüfung allgemein auf Duplikate\n",
    "df[df.duplicated()]"
   ]
  },
  {
   "cell_type": "code",
   "execution_count": 17,
   "id": "1f421999-e685-4345-bb70-26575bd3d129",
   "metadata": {},
   "outputs": [
    {
     "data": {
      "text/plain": [
       "['London', 'Hamilton']"
      ]
     },
     "execution_count": 17,
     "metadata": {},
     "output_type": "execute_result"
    }
   ],
   "source": [
    "# Überprüfung auf Duplikate in Bezug auf die Spalte \"City\"\n",
    "df['City'].value_counts()[lambda x: x>1].index.tolist()"
   ]
  },
  {
   "cell_type": "code",
   "execution_count": 18,
   "id": "ed9a9d39-0af1-49f0-bfc1-283769dcfb07",
   "metadata": {},
   "outputs": [
    {
     "data": {
      "text/html": [
       "<div>\n",
       "<style scoped>\n",
       "    .dataframe tbody tr th:only-of-type {\n",
       "        vertical-align: middle;\n",
       "    }\n",
       "\n",
       "    .dataframe tbody tr th {\n",
       "        vertical-align: top;\n",
       "    }\n",
       "\n",
       "    .dataframe thead th {\n",
       "        text-align: right;\n",
       "    }\n",
       "</style>\n",
       "<table border=\"1\" class=\"dataframe\">\n",
       "  <thead>\n",
       "    <tr style=\"text-align: right;\">\n",
       "      <th></th>\n",
       "      <th>World Rank</th>\n",
       "      <th>City</th>\n",
       "      <th>Average Traveltime per 10 km</th>\n",
       "      <th>Change From 2022</th>\n",
       "      <th>Congestion level in %</th>\n",
       "      <th>Time lost per year (in hours)</th>\n",
       "      <th>Average speed (in km/h)</th>\n",
       "    </tr>\n",
       "  </thead>\n",
       "  <tbody>\n",
       "    <tr>\n",
       "      <th>0</th>\n",
       "      <td>1</td>\n",
       "      <td>London</td>\n",
       "      <td>37 min 20 s</td>\n",
       "      <td>+ 1 min</td>\n",
       "      <td>45</td>\n",
       "      <td>148</td>\n",
       "      <td>14</td>\n",
       "    </tr>\n",
       "    <tr>\n",
       "      <th>141</th>\n",
       "      <td>142</td>\n",
       "      <td>London</td>\n",
       "      <td>17 min 20 s</td>\n",
       "      <td>+ 40 s</td>\n",
       "      <td>33</td>\n",
       "      <td>55</td>\n",
       "      <td>31</td>\n",
       "    </tr>\n",
       "    <tr>\n",
       "      <th>217</th>\n",
       "      <td>218</td>\n",
       "      <td>Hamilton</td>\n",
       "      <td>15 min 30 s</td>\n",
       "      <td>- 50 s</td>\n",
       "      <td>26</td>\n",
       "      <td>46</td>\n",
       "      <td>33</td>\n",
       "    </tr>\n",
       "    <tr>\n",
       "      <th>219</th>\n",
       "      <td>220</td>\n",
       "      <td>Hamilton</td>\n",
       "      <td>15 min 30 s</td>\n",
       "      <td>+ 30 s</td>\n",
       "      <td>21</td>\n",
       "      <td>33</td>\n",
       "      <td>35</td>\n",
       "    </tr>\n",
       "  </tbody>\n",
       "</table>\n",
       "</div>"
      ],
      "text/plain": [
       "     World Rank      City Average Traveltime per 10 km Change From 2022  \\\n",
       "0             1    London                  37 min 20 s          + 1 min   \n",
       "141         142    London                  17 min 20 s           + 40 s   \n",
       "217         218  Hamilton                  15 min 30 s           - 50 s   \n",
       "219         220  Hamilton                  15 min 30 s           + 30 s   \n",
       "\n",
       "     Congestion level in %  Time lost per year (in hours)  \\\n",
       "0                       45                            148   \n",
       "141                     33                             55   \n",
       "217                     26                             46   \n",
       "219                     21                             33   \n",
       "\n",
       "     Average speed (in km/h)  \n",
       "0                         14  \n",
       "141                       31  \n",
       "217                       33  \n",
       "219                       35  "
      ]
     },
     "execution_count": 18,
     "metadata": {},
     "output_type": "execute_result"
    }
   ],
   "source": [
    "df[df['City'].isin(['London', 'Hamilton'])]"
   ]
  },
  {
   "cell_type": "code",
   "execution_count": 19,
   "id": "280c9b2b-b911-4913-9ae8-ada360c2c621",
   "metadata": {},
   "outputs": [
    {
     "data": {
      "text/html": [
       "<div>\n",
       "<style scoped>\n",
       "    .dataframe tbody tr th:only-of-type {\n",
       "        vertical-align: middle;\n",
       "    }\n",
       "\n",
       "    .dataframe tbody tr th {\n",
       "        vertical-align: top;\n",
       "    }\n",
       "\n",
       "    .dataframe thead th {\n",
       "        text-align: right;\n",
       "    }\n",
       "</style>\n",
       "<table border=\"1\" class=\"dataframe\">\n",
       "  <thead>\n",
       "    <tr style=\"text-align: right;\">\n",
       "      <th></th>\n",
       "      <th>World Rank</th>\n",
       "      <th>City</th>\n",
       "      <th>Average Traveltime per 10 km</th>\n",
       "      <th>Change From 2022</th>\n",
       "      <th>Congestion level in %</th>\n",
       "      <th>Time lost per year (in hours)</th>\n",
       "      <th>Average speed (in km/h)</th>\n",
       "    </tr>\n",
       "  </thead>\n",
       "  <tbody>\n",
       "    <tr>\n",
       "      <th>141</th>\n",
       "      <td>142</td>\n",
       "      <td>London</td>\n",
       "      <td>17 min 20 s</td>\n",
       "      <td>+ 40 s</td>\n",
       "      <td>33</td>\n",
       "      <td>55</td>\n",
       "      <td>31</td>\n",
       "    </tr>\n",
       "    <tr>\n",
       "      <th>219</th>\n",
       "      <td>220</td>\n",
       "      <td>Hamilton</td>\n",
       "      <td>15 min 30 s</td>\n",
       "      <td>+ 30 s</td>\n",
       "      <td>21</td>\n",
       "      <td>33</td>\n",
       "      <td>35</td>\n",
       "    </tr>\n",
       "  </tbody>\n",
       "</table>\n",
       "</div>"
      ],
      "text/plain": [
       "     World Rank      City Average Traveltime per 10 km Change From 2022  \\\n",
       "141         142    London                  17 min 20 s           + 40 s   \n",
       "219         220  Hamilton                  15 min 30 s           + 30 s   \n",
       "\n",
       "     Congestion level in %  Time lost per year (in hours)  \\\n",
       "141                     33                             55   \n",
       "219                     21                             33   \n",
       "\n",
       "     Average speed (in km/h)  \n",
       "141                       31  \n",
       "219                       35  "
      ]
     },
     "execution_count": 19,
     "metadata": {},
     "output_type": "execute_result"
    }
   ],
   "source": [
    "df[df.duplicated(subset=['City'])]"
   ]
  },
  {
   "cell_type": "markdown",
   "id": "35abfedb-a372-4fc8-9d0d-490af8d297ec",
   "metadata": {},
   "source": [
    "Die Städte \"London\" und \"Hamilton\" tauchen im Ranking jeweils zweimal auf! Neben dem bekannten London in England gibt es auch eine Stadt namens London in Kanada.\n",
    "Eine Stadt namens Hamilton existiert sowohl in Neuseeland als auch in Kanada.\n",
    "Da für die spätere Zusammenführung mit anderen Datensätzen die Spalte \"City\" als Schlüssel dienen soll, werden die beiden Duplikate jeweils entfernt."
   ]
  },
  {
   "cell_type": "code",
   "execution_count": 20,
   "id": "e32c0b6e-4eaa-40c3-8262-b27e56d31e37",
   "metadata": {},
   "outputs": [],
   "source": [
    "#Duplikate mittels Index ansprechen\n",
    "#print(df[df.index.isin([141, 219])])\n",
    "#df.drop(df.index[[141, 219]])"
   ]
  },
  {
   "cell_type": "code",
   "execution_count": 21,
   "id": "d83b5e88-2d48-402d-8d95-0d7fcca4d069",
   "metadata": {},
   "outputs": [],
   "source": [
    "#Löschen der Duplikate in Bezug auf die Spalte \"City\"\n",
    "df = df.drop(df[df.duplicated(subset=['City'])].index)"
   ]
  },
  {
   "cell_type": "code",
   "execution_count": 22,
   "id": "1d1bb7e3-b3ae-4ab4-aa21-1969222bf553",
   "metadata": {},
   "outputs": [
    {
     "data": {
      "text/html": [
       "<div>\n",
       "<style scoped>\n",
       "    .dataframe tbody tr th:only-of-type {\n",
       "        vertical-align: middle;\n",
       "    }\n",
       "\n",
       "    .dataframe tbody tr th {\n",
       "        vertical-align: top;\n",
       "    }\n",
       "\n",
       "    .dataframe thead th {\n",
       "        text-align: right;\n",
       "    }\n",
       "</style>\n",
       "<table border=\"1\" class=\"dataframe\">\n",
       "  <thead>\n",
       "    <tr style=\"text-align: right;\">\n",
       "      <th></th>\n",
       "      <th>World Rank</th>\n",
       "      <th>City</th>\n",
       "      <th>Average Traveltime per 10 km</th>\n",
       "      <th>Change From 2022</th>\n",
       "      <th>Congestion level in %</th>\n",
       "      <th>Time lost per year (in hours)</th>\n",
       "      <th>Average speed (in km/h)</th>\n",
       "    </tr>\n",
       "  </thead>\n",
       "  <tbody>\n",
       "  </tbody>\n",
       "</table>\n",
       "</div>"
      ],
      "text/plain": [
       "Empty DataFrame\n",
       "Columns: [World Rank, City, Average Traveltime per 10 km, Change From 2022, Congestion level in %, Time lost per year (in hours), Average speed (in km/h)]\n",
       "Index: []"
      ]
     },
     "execution_count": 22,
     "metadata": {},
     "output_type": "execute_result"
    }
   ],
   "source": [
    "df[df.duplicated(subset=['City'])]"
   ]
  },
  {
   "cell_type": "markdown",
   "id": "eef1964d-07fc-4e43-9fab-0c5f19c462ce",
   "metadata": {},
   "source": [
    "Die Duplikate in Bezug auf die Spalte \"City\" wurden entfernt!"
   ]
  },
  {
   "cell_type": "code",
   "execution_count": 23,
   "id": "b091c22a-86d8-4349-ac8e-e53fb224499c",
   "metadata": {},
   "outputs": [
    {
     "data": {
      "text/plain": [
       "World Rank                       385\n",
       "City                             385\n",
       "Average Traveltime per 10 km     385\n",
       "Change From 2022                 385\n",
       "Congestion level in %            385\n",
       "Time lost per year (in hours)    385\n",
       "Average speed (in km/h)          385\n",
       "dtype: int64"
      ]
     },
     "execution_count": 23,
     "metadata": {},
     "output_type": "execute_result"
    }
   ],
   "source": [
    "df.count()"
   ]
  },
  {
   "cell_type": "markdown",
   "id": "972dc060-256c-41bf-bae7-50999c50f30f",
   "metadata": {},
   "source": [
    "Mit describe geben wir nun die wichtigsten Informationen der einzelnen Spalten aus:"
   ]
  },
  {
   "cell_type": "code",
   "execution_count": 24,
   "id": "4724a43d-1d0c-4afb-badd-257ab96cf756",
   "metadata": {},
   "outputs": [
    {
     "data": {
      "text/html": [
       "<div>\n",
       "<style scoped>\n",
       "    .dataframe tbody tr th:only-of-type {\n",
       "        vertical-align: middle;\n",
       "    }\n",
       "\n",
       "    .dataframe tbody tr th {\n",
       "        vertical-align: top;\n",
       "    }\n",
       "\n",
       "    .dataframe thead th {\n",
       "        text-align: right;\n",
       "    }\n",
       "</style>\n",
       "<table border=\"1\" class=\"dataframe\">\n",
       "  <thead>\n",
       "    <tr style=\"text-align: right;\">\n",
       "      <th></th>\n",
       "      <th>World Rank</th>\n",
       "      <th>Congestion level in %</th>\n",
       "      <th>Time lost per year (in hours)</th>\n",
       "      <th>Average speed (in km/h)</th>\n",
       "    </tr>\n",
       "  </thead>\n",
       "  <tbody>\n",
       "    <tr>\n",
       "      <th>count</th>\n",
       "      <td>385.000000</td>\n",
       "      <td>385.000000</td>\n",
       "      <td>385.000000</td>\n",
       "      <td>385.000000</td>\n",
       "    </tr>\n",
       "    <tr>\n",
       "      <th>mean</th>\n",
       "      <td>194.067532</td>\n",
       "      <td>29.010390</td>\n",
       "      <td>54.127273</td>\n",
       "      <td>33.659740</td>\n",
       "    </tr>\n",
       "    <tr>\n",
       "      <th>std</th>\n",
       "      <td>112.113180</td>\n",
       "      <td>10.344075</td>\n",
       "      <td>27.214654</td>\n",
       "      <td>10.053817</td>\n",
       "    </tr>\n",
       "    <tr>\n",
       "      <th>min</th>\n",
       "      <td>1.000000</td>\n",
       "      <td>7.000000</td>\n",
       "      <td>10.000000</td>\n",
       "      <td>14.000000</td>\n",
       "    </tr>\n",
       "    <tr>\n",
       "      <th>25%</th>\n",
       "      <td>97.000000</td>\n",
       "      <td>22.000000</td>\n",
       "      <td>35.000000</td>\n",
       "      <td>27.000000</td>\n",
       "    </tr>\n",
       "    <tr>\n",
       "      <th>50%</th>\n",
       "      <td>194.000000</td>\n",
       "      <td>28.000000</td>\n",
       "      <td>51.000000</td>\n",
       "      <td>32.000000</td>\n",
       "    </tr>\n",
       "    <tr>\n",
       "      <th>75%</th>\n",
       "      <td>291.000000</td>\n",
       "      <td>35.000000</td>\n",
       "      <td>68.000000</td>\n",
       "      <td>39.000000</td>\n",
       "    </tr>\n",
       "    <tr>\n",
       "      <th>max</th>\n",
       "      <td>387.000000</td>\n",
       "      <td>66.000000</td>\n",
       "      <td>158.000000</td>\n",
       "      <td>63.000000</td>\n",
       "    </tr>\n",
       "  </tbody>\n",
       "</table>\n",
       "</div>"
      ],
      "text/plain": [
       "       World Rank  Congestion level in %  Time lost per year (in hours)  \\\n",
       "count  385.000000             385.000000                     385.000000   \n",
       "mean   194.067532              29.010390                      54.127273   \n",
       "std    112.113180              10.344075                      27.214654   \n",
       "min      1.000000               7.000000                      10.000000   \n",
       "25%     97.000000              22.000000                      35.000000   \n",
       "50%    194.000000              28.000000                      51.000000   \n",
       "75%    291.000000              35.000000                      68.000000   \n",
       "max    387.000000              66.000000                     158.000000   \n",
       "\n",
       "       Average speed (in km/h)  \n",
       "count               385.000000  \n",
       "mean                 33.659740  \n",
       "std                  10.053817  \n",
       "min                  14.000000  \n",
       "25%                  27.000000  \n",
       "50%                  32.000000  \n",
       "75%                  39.000000  \n",
       "max                  63.000000  "
      ]
     },
     "execution_count": 24,
     "metadata": {},
     "output_type": "execute_result"
    }
   ],
   "source": [
    "df.describe()"
   ]
  },
  {
   "cell_type": "markdown",
   "id": "f65894b3-8b61-462e-9a18-8d23f5aaed82",
   "metadata": {},
   "source": [
    "Wir nutzen matplotlib und stellen damit unsere Werte in Histogrammen dar, um uns die Verteilung besser ansehen zu können."
   ]
  },
  {
   "cell_type": "code",
   "execution_count": 25,
   "id": "269348d2-895b-4ce9-a1f5-e8e54a7eaa10",
   "metadata": {},
   "outputs": [
    {
     "data": {
      "image/png": "[encoded data removed]",
      "text/plain": [
       "<Figure size 1500x1500 with 4 Axes>"
      ]
     },
     "metadata": {},
     "output_type": "display_data"
    }
   ],
   "source": [
    "import matplotlib.pyplot as plt\n",
    "df.hist(figsize=(15, 15))\n",
    "plt.show()"
   ]
  },
  {
   "cell_type": "markdown",
   "id": "00215379-d252-4c65-a0a0-5f13411d96cc",
   "metadata": {},
   "source": [
    "Zunächst nutzen wir \"seaborn\" und stellen die Korrelation zwischen dem Congestion level und dem Time lost per year grafisch mittels \"jointplot\" dar."
   ]
  },
  {
   "cell_type": "code",
   "execution_count": 26,
   "id": "d31fc258-a130-4191-83ac-d3f3afcd60a5",
   "metadata": {},
   "outputs": [
    {
     "data": {
      "image/png": "[encoded data removed]",
      "text/plain": [
       "<Figure size 600x600 with 3 Axes>"
      ]
     },
     "metadata": {},
     "output_type": "display_data"
    }
   ],
   "source": [
    "import seaborn as sns\n",
    "\n",
    "sns.jointplot(x=df['Congestion level in %'], y=df['Time lost per year (in hours)'])\n",
    "plt.show()"
   ]
  },
  {
   "cell_type": "markdown",
   "id": "180ef51c-47e2-4a5b-a9b8-843a3b0f9154",
   "metadata": {},
   "source": [
    "Das Diagramm zeigt, dass mit steigendem Staulevel in Prozent die pro Jahr im Verkehr verlorene Zeit in Stunden zunimmt. Die meisten Datenpunkte liegen bei einem Staulevel zwischen 20% und 40% und einem Zeitverlust von 40 bis 80 Stunden jährlich. Die Histogramme verdeutlichen diese Verteilung und die positive Korrelation zwischen den beiden Variablen.\n",
    "\n",
    "Die bereinigten Daten speichern wir nun in ein neues csv-File."
   ]
  },
  {
   "cell_type": "code",
   "execution_count": 27,
   "id": "c30cb462-2f9f-43df-9b2c-2322934101a6",
   "metadata": {},
   "outputs": [],
   "source": [
    "df.to_csv('data/cleaned_scraped_traffic_data.csv', index=False, header=True)"
   ]
  },
  {
   "cell_type": "markdown",
   "id": "6276e971-2774-4c07-a357-c768af1a5db2",
   "metadata": {},
   "source": [
    "Zuletzt stellen wir noch die Verteilungen mithilfe von Boxplots dar."
   ]
  },
  {
   "cell_type": "code",
   "execution_count": 28,
   "id": "f1ad97fe-449d-4e38-bc4f-df147488b6cc",
   "metadata": {},
   "outputs": [
    {
     "data": {
      "image/png": "[encoded data removed]",
      "text/plain": [
       "<Figure size 1800x600 with 3 Axes>"
      ]
     },
     "metadata": {},
     "output_type": "display_data"
    }
   ],
   "source": [
    "# Create boxplots\n",
    "plt.figure(figsize=(18, 6))\n",
    "\n",
    "# Boxplot for Congestion level\n",
    "plt.subplot(1, 3, 1)\n",
    "plt.boxplot(df['Congestion level in %'], vert=False)\n",
    "plt.title('Congestion level')\n",
    "plt.xlabel('Congestion level (%)')\n",
    "\n",
    "# Boxplot for Time lost per year\n",
    "plt.subplot(1, 3, 2)\n",
    "plt.boxplot(df['Time lost per year (in hours)'], vert=False)\n",
    "plt.title('Time lost per year')\n",
    "plt.xlabel('Time lost per year (hours)')\n",
    "\n",
    "# Boxplot for Average speed\n",
    "plt.subplot(1, 3, 3)\n",
    "plt.boxplot(df['Average speed (in km/h)'], vert=False)\n",
    "plt.title('Average speed')\n",
    "plt.xlabel('Average speed (km/h)')\n",
    "\n",
    "plt.tight_layout()\n",
    "plt.show()"
   ]
  },
  {
   "cell_type": "markdown",
   "id": "16c2ae0a-0b81-484d-b89c-3895932839ce",
   "metadata": {},
   "source": [
    "Die drei Boxplots zeigen die Verteilung des Staulevels in Prozent, der pro Jahr verlorenen Zeit in Stunden und der durchschnittlichen Geschwindigkeit in km/h. \n",
    "\n",
    "Der Median des **Staulevels** liegt bei etwa 30%, der Interquartilsabstand (IQR) reicht von ca. 20% bis 40%, und es gibt Ausreißer über 50%. \n",
    "\n",
    "Die **verlorene Zeit pro Jahr** hat einen Median von etwa 60 Stunden, einen IQR von ca. 40 bis 80 Stunden, und Ausreißer über 120 Stunden. \n",
    "\n",
    "Die **durchschnittliche Geschwindigkeit** hat einen Median von etwa 30 km/h, einen IQR von ca. 20 bis 40 km/h, und Ausreißer über 50 km/h. \n",
    "\n",
    "Diese Boxplots verdeutlichen die zentrale Tendenz und Streuung der Daten sowie die Ausreißer für jede Variable."
   ]
  },
  {
   "cell_type": "markdown",
   "id": "b67c471a-9990-49a8-aa3d-84ba6e71acf6",
   "metadata": {},
   "source": [
    "### Vergleich der Durchschnittsgeschwindigkeit aus Routendaten und Scraped-Daten"
   ]
  },
  {
   "cell_type": "markdown",
   "id": "e123ed42-0ed4-4767-a8c2-ea3a30df7398",
   "metadata": {},
   "source": [
    "Zuerst haben wir die CSV-Datei **cleaned_traffic_data.csv** geladen und die Spaltennamen angezeigt, um deren genaue Spalten anzusehen. Danach haben wir die ersten paar Zeilen der Daten angezeigt, um einen Überblick über die Struktur zu bekommen.\n",
    "\n",
    "Um die Daten weiter zu bereinigen, haben wir die Einheit 'km/h' entfernt und die Spalte 'Average speed' in numerische Werte umgewandelt. Anschließend haben wir die Daten gefiltert, um nur die relevanten Städte London, Berlin und New Delhi einzuschließen.\n",
    "\n",
    "Schließlich haben wir die durchschnittliche Geschwindigkeit für jede dieser Städte berechnet. Die Ergebnisse haben wir in einem neuen DataFrame **avg_speed_scraped** gespeichert und die durchschnittliche Geschwindigkeit pro Stadt angezeigt."
   ]
  },
  {
   "cell_type": "code",
   "execution_count": 29,
   "id": "e724e075-22fc-4b47-9835-e11e72802ea5",
   "metadata": {},
   "outputs": [
    {
     "name": "stdout",
     "output_type": "stream",
     "text": [
      "Index(['World Rank', 'City', 'Average Traveltime per 10 km',\n",
      "       'Change From 2022', 'Congestion level in %',\n",
      "       'Time lost per year (in hours)', 'Average speed (in km/h)'],\n",
      "      dtype='object')\n",
      "   World Rank     City Average Traveltime per 10 km Change From 2022  \\\n",
      "0           1   London                  37 min 20 s          + 1 min   \n",
      "1           2   Dublin                  29 min 30 s          + 1 min   \n",
      "2           3  Toronto                       29 min           + 50 s   \n",
      "3           4    Milan                  28 min 50 s           + 20 s   \n",
      "4           5     Lima                  28 min 30 s     + 1 min 20 s   \n",
      "\n",
      "   Congestion level in %  Time lost per year (in hours)  \\\n",
      "0                     45                            148   \n",
      "1                     66                            158   \n",
      "2                     42                             98   \n",
      "3                     45                            137   \n",
      "4                     61                            157   \n",
      "\n",
      "   Average speed (in km/h)  \n",
      "0                       14  \n",
      "1                       16  \n",
      "2                       18  \n",
      "3                       17  \n",
      "4                       17  \n"
     ]
    }
   ],
   "source": [
    "import pandas as pd\n",
    "\n",
    "# Load the uploaded CSV file\n",
    "file_path = 'data/cleaned_scraped_traffic_data.csv'\n",
    "scraped_data = pd.read_csv(file_path)\n",
    "\n",
    "# Display the column names to understand their exact names\n",
    "print(scraped_data.columns)\n",
    "\n",
    "# Display the first few rows of the scraped data to understand its structure\n",
    "print(scraped_data.head())\n"
   ]
  },
  {
   "cell_type": "code",
   "execution_count": 30,
   "id": "e1b1a4c3-0f34-47ce-aa19-df1330d45874",
   "metadata": {},
   "outputs": [
    {
     "name": "stdout",
     "output_type": "stream",
     "text": [
      "Average Speed from Scraped Data (in km/h):\n",
      "        City  Average speed\n",
      "0     Berlin           24.0\n",
      "1     London           14.0\n",
      "2  New Delhi           24.0\n"
     ]
    }
   ],
   "source": [
    "# Remove the 'km/h' units and convert 'Average speed' to numeric\n",
    "scraped_data['Average speed'] = scraped_data['Average speed (in km/h)']\n",
    "\n",
    "# Filter for the relevant cities\n",
    "relevant_cities = ['London', 'Berlin', 'New Delhi']\n",
    "scraped_data_filtered = scraped_data[scraped_data['City'].isin(relevant_cities)]\n",
    "\n",
    "# Calculate average speed for each city\n",
    "avg_speed_scraped = scraped_data_filtered.groupby('City')['Average speed'].mean().reset_index()\n",
    "\n",
    "print(\"Average Speed from Scraped Data (in km/h):\")\n",
    "print(avg_speed_scraped)\n"
   ]
  },
  {
   "cell_type": "markdown",
   "id": "a20a7e6f-3df9-4538-bfe8-fe2fd48a4415",
   "metadata": {},
   "source": [
    "Eine neue Spalte für die Stadt wird basierend auf dem Kafka-Topic hinzugefügt. Hierfür wird eine bedingte Logik verwendet, die die Topics 'berlin_routes', 'delhi_routes' und 'london_routes' den entsprechenden Städten Berlin, New Delhi und London zuordnet.\n",
    "\n",
    "Anschließend wird die Länge der Route von Metern in Kilometer und die Dauer der Route von Sekunden in Stunden umgerechnet. Die durchschnittliche Geschwindigkeit pro Stadt in km/h wird berechnet, indem die Länge in Kilometern durch die Dauer in Stunden geteilt wird.\n",
    "\n",
    "Die berechnete durchschnittliche Geschwindigkeit pro Stadt wird aggregiert und in einem neuen DataFrame **df_avg_speed** gespeichert. Schließlich wird dieser DataFrame in ein Pandas-DataFrame konvertiert und die durchschnittliche Geschwindigkeit pro Stadt angezeigt."
   ]
  },
  {
   "cell_type": "code",
   "execution_count": 31,
   "id": "82b196d0-9b32-482a-a876-cb069f5fa84e",
   "metadata": {},
   "outputs": [
    {
     "name": "stdout",
     "output_type": "stream",
     "text": [
      "Average Speed from Route Data (in km/h):\n",
      "        city  avg_speed_kmh\n",
      "0     London      16.197487\n",
      "1  New Delhi      23.724911\n",
      "2     Berlin      24.814669\n"
     ]
    }
   ],
   "source": [
    "# Füge eine Spalte für die Stadt hinzu basierend auf dem Kafka-Topic\n",
    "df_filtered = df_exploded.withColumn('city', \n",
    "    when(col('topic') == 'berlin_routes', 'Berlin')\n",
    "    .when(col('topic') == 'delhi_routes', 'New Delhi')\n",
    "    .when(col('topic') == 'london_routes', 'London')\n",
    ")\n",
    "\n",
    "# Convert length from meters to kilometers and duration from seconds to hours\n",
    "df_filtered = df_filtered.withColumn('length_km', col('length') / 1000)\n",
    "df_filtered = df_filtered.withColumn('duration_hours', col('duration') / 3600)\n",
    "\n",
    "# Calculate average speed per city in km/h\n",
    "df_avg_speed = df_filtered.withColumn('speed_kmh', col('length_km') / col('duration_hours'))\n",
    "df_avg_speed = df_avg_speed.groupBy(\"city\").agg(avg(\"speed_kmh\").alias(\"avg_speed_kmh\"))\n",
    "pdf_avg_speed = df_avg_speed.toPandas()\n",
    "\n",
    "print(\"Average Speed from Route Data (in km/h):\")\n",
    "print(pdf_avg_speed)\n"
   ]
  },
  {
   "cell_type": "markdown",
   "id": "6b07df7a-98bd-4ef1-a95d-c47a86398f80",
   "metadata": {},
   "source": [
    "Daten für die Visualisierung werden vorbereitet, indem die DataFrames **pdf_avg_speed** und **avg_speed_scraped** zusammengeführt werden. Dies erfolgt auf Basis der Spalte 'city' bzw. 'City', wobei die Suffixe '_route' und '_scraped' verwendet werden, um die unterschiedlichen Datenquellen zu kennzeichnen.\n",
    "\n",
    "Eine Visualisierung wird erstellt, um die durchschnittliche Geschwindigkeit der beiden Datensätze zu vergleichen. Die Visualisierung besteht aus einem Balkendiagramm, das die durchschnittliche Geschwindigkeit der Routen- und der gescrapten Daten für jede Stadt zeigt.\n",
    "\n",
    "Die Balkenpositionen werden festgelegt und zwei Balkendiagramme werden erstellt: eines für die Routen-Daten und eines für die gescrapten Daten. Die Balken werden nebeneinander angezeigt, um den Vergleich zu erleichtern. Achsenbeschriftungen, Titel und Legenden werden hinzugefügt, um die Diagramme zu beschreiben.\n",
    "\n",
    "Schließlich wird das Layout angepasst und das Diagramm angezeigt, um den Vergleich der durchschnittlichen Geschwindigkeit pro Stadt zu visualisieren."
   ]
  },
  {
   "cell_type": "code",
   "execution_count": 32,
   "id": "5a081503-b9fb-4b83-a13d-57ac29e59930",
   "metadata": {},
   "outputs": [
    {
     "data": {
      "image/png": "[encoded data removed]",
      "text/plain": [
       "<Figure size 1200x800 with 1 Axes>"
      ]
     },
     "metadata": {},
     "output_type": "display_data"
    }
   ],
   "source": [
    "import matplotlib.pyplot as plt\n",
    "import seaborn as sns\n",
    "\n",
    "# Daten für die Visualisierung vorbereiten\n",
    "merged_data = pd.merge(pdf_avg_speed, avg_speed_scraped, left_on='city', right_on='City', suffixes=('_route', '_scraped'))\n",
    "\n",
    "plt.figure(figsize=(12, 8))\n",
    "\n",
    "# Average Speed Visualization\n",
    "plt.subplot(2, 1, 1)\n",
    "bar_width = 0.35\n",
    "\n",
    "# Balkenpositionen\n",
    "index = range(len(merged_data))\n",
    "\n",
    "# Balkendiagramme erstellen\n",
    "plt.bar(index, merged_data['avg_speed_kmh'], bar_width, label='Route Data', color='b')\n",
    "plt.bar([p + bar_width for p in index], merged_data['Average speed'], bar_width, label='Scraped Data', color='r')\n",
    "\n",
    "# Achsenbeschriftungen und Titel\n",
    "plt.xlabel('City')\n",
    "plt.ylabel('Average Speed (km/h)')\n",
    "plt.title('Comparison of Average Speed (in km/h)')\n",
    "plt.xticks([p + bar_width / 2 for p in index], merged_data['City'])\n",
    "plt.legend()\n",
    "\n",
    "# Layout anpassen\n",
    "plt.tight_layout()\n",
    "plt.show()\n"
   ]
  },
  {
   "cell_type": "markdown",
   "id": "abd0fa0f-2547-46b5-8240-0072cc8b3129",
   "metadata": {},
   "source": [
    "Das Balkendiagramm vergleicht die durchschnittliche Geschwindigkeit in km/h in drei Städten: London, New Delhi und Berlin. Es werden zwei Datensätze verglichen: \"Route Data\" (blaue Balken) und \"Scraped Data\" (rote Balken).\n",
    "\n",
    "**London**: Die durchschnittliche Geschwindigkeit liegt bei ca. 20 km/h für beide Datensätze, wobei die \"Scraped Data\" leicht höher ist.\n",
    "\n",
    "**New Delhi**: Die \"Route Data\" zeigt eine durchschnittliche Geschwindigkeit von über 25 km/h, während die \"Scraped Data\" etwas niedriger ist, aber immer noch über 20 km/h liegt.\n",
    "\n",
    "**Berlin**: Die durchschnittliche Geschwindigkeit beträgt für die \"Route Data\" ebenfalls über 25 km/h, während die \"Scraped Data\" knapp über 20 km/h liegt.\n",
    "\n",
    "Das Diagramm zeigt, dass die \"Route Data\" in zwei der drei Städten tendenziell höhere durchschnittliche Geschwindigkeiten anzeigt als die \"Scraped Data\".  \n",
    "Dies könnte einerseits dadurch erklärt werden, dass womöglich ein Zeitpunkt der Abfrage der Routen gewählt wurde, der für alle drei Städte ein höheres Verkehrsaufkommen erwarten lässt als im Jahresmittel. Andererseits kann dies auch auf eine Zunahme des Verkehrs im Vergleich zum Vorjahr zurückzuführen sein, da die Daten, die über Webscraping bezogen wurden, dem TomTom Traffic Index Ranking des Jahres 2023 entsprechen."
   ]
  },
  {
   "cell_type": "markdown",
   "id": "730c03eb-efa0-4713-8936-9c429f1ae97e",
   "metadata": {},
   "source": [
    "# TrafficIndex"
   ]
  },
  {
   "cell_type": "markdown",
   "id": "562fdb71-616c-43ed-aad7-01e52460e2b7",
   "metadata": {},
   "source": [
    "## Dataset zu Worldwide Traffic Congestion Ranking von Kaggle \n",
    "https://www.kaggle.com/datasets/kkhandekar/worldwide-traffic-congestion-ranking"
   ]
  },
  {
   "cell_type": "markdown",
   "id": "09ac5199-e0b3-4694-824b-ec10780246ae",
   "metadata": {},
   "source": [
    "Zuerst müssen wir den Datensatz aus der CSV-Datei laden."
   ]
  },
  {
   "cell_type": "code",
   "execution_count": 33,
   "id": "1a1dd068-93d3-495a-8253-1d6d265d39d1",
   "metadata": {},
   "outputs": [
    {
     "data": {
      "text/html": [
       "<div>\n",
       "<style scoped>\n",
       "    .dataframe tbody tr th:only-of-type {\n",
       "        vertical-align: middle;\n",
       "    }\n",
       "\n",
       "    .dataframe tbody tr th {\n",
       "        vertical-align: top;\n",
       "    }\n",
       "\n",
       "    .dataframe thead th {\n",
       "        text-align: right;\n",
       "    }\n",
       "</style>\n",
       "<table border=\"1\" class=\"dataframe\">\n",
       "  <thead>\n",
       "    <tr style=\"text-align: right;\">\n",
       "      <th></th>\n",
       "      <th>Rank</th>\n",
       "      <th>City</th>\n",
       "      <th>AverageTCI</th>\n",
       "      <th>MaxTCI</th>\n",
       "    </tr>\n",
       "  </thead>\n",
       "  <tbody>\n",
       "    <tr>\n",
       "      <th>0</th>\n",
       "      <td>1</td>\n",
       "      <td>Lagos</td>\n",
       "      <td>60.16</td>\n",
       "      <td>130.21</td>\n",
       "    </tr>\n",
       "    <tr>\n",
       "      <th>1</th>\n",
       "      <td>2</td>\n",
       "      <td>Riga</td>\n",
       "      <td>47.12</td>\n",
       "      <td>87.51</td>\n",
       "    </tr>\n",
       "    <tr>\n",
       "      <th>2</th>\n",
       "      <td>3</td>\n",
       "      <td>Mumbai</td>\n",
       "      <td>38.37</td>\n",
       "      <td>153.41</td>\n",
       "    </tr>\n",
       "    <tr>\n",
       "      <th>3</th>\n",
       "      <td>4</td>\n",
       "      <td>Tehran</td>\n",
       "      <td>38.20</td>\n",
       "      <td>110.12</td>\n",
       "    </tr>\n",
       "    <tr>\n",
       "      <th>4</th>\n",
       "      <td>5</td>\n",
       "      <td>London</td>\n",
       "      <td>38.16</td>\n",
       "      <td>128.50</td>\n",
       "    </tr>\n",
       "  </tbody>\n",
       "</table>\n",
       "</div>"
      ],
      "text/plain": [
       "   Rank    City  AverageTCI  MaxTCI\n",
       "0     1   Lagos       60.16  130.21\n",
       "1     2    Riga       47.12   87.51\n",
       "2     3  Mumbai       38.37  153.41\n",
       "3     4  Tehran       38.20  110.12\n",
       "4     5  London       38.16  128.50"
      ]
     },
     "execution_count": 33,
     "metadata": {},
     "output_type": "execute_result"
    }
   ],
   "source": [
    "import pandas as pd\n",
    "\n",
    "# CSV-Datei mit der richtigen Kodierung einlesen\n",
    "file_path = 'data/TrafficIndex_19Jun2022-26Jun2022.csv'\n",
    "traffic_data = pd.read_csv(file_path, encoding='latin1')\n",
    "\n",
    "# Filtern Sie die relevanten Städte heraus\n",
    "relevant_cities = ['London', 'Berlin', 'New Delhi']\n",
    "filtered_traffic_data = traffic_data[traffic_data['City'].isin(relevant_cities)]\n",
    "\n",
    "traffic_data.head()\n"
   ]
  },
  {
   "cell_type": "markdown",
   "id": "e3b87fa8-2518-4f33-a699-1059788faaac",
   "metadata": {},
   "source": [
    "### Schritt 2: Überprüfen der Daten\r",
    "Wir untersuchen die Daten, um ihre Struktur zu verstehen und etwaige Probleme zu identifizieren.\n"
   ]
  },
  {
   "cell_type": "code",
   "execution_count": 34,
   "id": "e007811b-e37d-474f-99b9-4ecf5654a5d6",
   "metadata": {},
   "outputs": [
    {
     "name": "stdout",
     "output_type": "stream",
     "text": [
      "<class 'pandas.core.frame.DataFrame'>\n",
      "RangeIndex: 68 entries, 0 to 67\n",
      "Data columns (total 4 columns):\n",
      " #   Column      Non-Null Count  Dtype  \n",
      "---  ------      --------------  -----  \n",
      " 0   Rank        68 non-null     int64  \n",
      " 1   City        68 non-null     object \n",
      " 2   AverageTCI  68 non-null     float64\n",
      " 3   MaxTCI      68 non-null     float64\n",
      "dtypes: float64(2), int64(1), object(1)\n",
      "memory usage: 2.3+ KB\n"
     ]
    },
    {
     "data": {
      "text/html": [
       "<div>\n",
       "<style scoped>\n",
       "    .dataframe tbody tr th:only-of-type {\n",
       "        vertical-align: middle;\n",
       "    }\n",
       "\n",
       "    .dataframe tbody tr th {\n",
       "        vertical-align: top;\n",
       "    }\n",
       "\n",
       "    .dataframe thead th {\n",
       "        text-align: right;\n",
       "    }\n",
       "</style>\n",
       "<table border=\"1\" class=\"dataframe\">\n",
       "  <thead>\n",
       "    <tr style=\"text-align: right;\">\n",
       "      <th></th>\n",
       "      <th>Rank</th>\n",
       "      <th>AverageTCI</th>\n",
       "      <th>MaxTCI</th>\n",
       "    </tr>\n",
       "  </thead>\n",
       "  <tbody>\n",
       "    <tr>\n",
       "      <th>count</th>\n",
       "      <td>68.00000</td>\n",
       "      <td>68.000000</td>\n",
       "      <td>68.000000</td>\n",
       "    </tr>\n",
       "    <tr>\n",
       "      <th>mean</th>\n",
       "      <td>34.50000</td>\n",
       "      <td>18.334118</td>\n",
       "      <td>88.907353</td>\n",
       "    </tr>\n",
       "    <tr>\n",
       "      <th>std</th>\n",
       "      <td>19.77372</td>\n",
       "      <td>11.799674</td>\n",
       "      <td>38.221552</td>\n",
       "    </tr>\n",
       "    <tr>\n",
       "      <th>min</th>\n",
       "      <td>1.00000</td>\n",
       "      <td>2.010000</td>\n",
       "      <td>22.430000</td>\n",
       "    </tr>\n",
       "    <tr>\n",
       "      <th>25%</th>\n",
       "      <td>17.75000</td>\n",
       "      <td>8.580000</td>\n",
       "      <td>56.507500</td>\n",
       "    </tr>\n",
       "    <tr>\n",
       "      <th>50%</th>\n",
       "      <td>34.50000</td>\n",
       "      <td>17.015000</td>\n",
       "      <td>91.210000</td>\n",
       "    </tr>\n",
       "    <tr>\n",
       "      <th>75%</th>\n",
       "      <td>51.25000</td>\n",
       "      <td>24.652500</td>\n",
       "      <td>115.400000</td>\n",
       "    </tr>\n",
       "    <tr>\n",
       "      <th>max</th>\n",
       "      <td>68.00000</td>\n",
       "      <td>60.160000</td>\n",
       "      <td>169.650000</td>\n",
       "    </tr>\n",
       "  </tbody>\n",
       "</table>\n",
       "</div>"
      ],
      "text/plain": [
       "           Rank  AverageTCI      MaxTCI\n",
       "count  68.00000   68.000000   68.000000\n",
       "mean   34.50000   18.334118   88.907353\n",
       "std    19.77372   11.799674   38.221552\n",
       "min     1.00000    2.010000   22.430000\n",
       "25%    17.75000    8.580000   56.507500\n",
       "50%    34.50000   17.015000   91.210000\n",
       "75%    51.25000   24.652500  115.400000\n",
       "max    68.00000   60.160000  169.650000"
      ]
     },
     "execution_count": 34,
     "metadata": {},
     "output_type": "execute_result"
    }
   ],
   "source": [
    "# Display information about the dataset\n",
    "traffic_data.info()\n",
    "\n",
    "# Display basic statistics\n",
    "traffic_data.describe()\n"
   ]
  },
  {
   "cell_type": "markdown",
   "id": "25eb1e1a-f536-4c8a-90b6-cc228338bea4",
   "metadata": {},
   "source": [
    "### Schritt 3: Bereinigen der Daten\r\n",
    "In diesem Schritt bereinigen wir die Daten, indem wir alle bei der Inspektion festgestellten Probleme beheben.\n"
   ]
  },
  {
   "cell_type": "code",
   "execution_count": 35,
   "id": "88371abc-0581-465d-9b0f-b0dd9397b413",
   "metadata": {},
   "outputs": [
    {
     "name": "stdout",
     "output_type": "stream",
     "text": [
      "Number of empty values:\n",
      "Rank          0\n",
      "City          0\n",
      "AverageTCI    0\n",
      "MaxTCI        0\n",
      "dtype: int64\n",
      "\n",
      "Duplicates:\n",
      "Empty DataFrame\n",
      "Columns: [World Rank, City, Average Traveltime per 10 km, Change From 2022, Congestion level in %, Time lost per year (in hours), Average speed (in km/h)]\n",
      "Index: []\n",
      "\n",
      "Duplicates for \"City\":\n",
      "Empty DataFrame\n",
      "Columns: [World Rank, City, Average Traveltime per 10 km, Change From 2022, Congestion level in %, Time lost per year (in hours), Average speed (in km/h)]\n",
      "Index: []\n",
      "\n",
      "Unique values in \"City\":\n",
      "['Lagos' 'Riga' 'Mumbai' 'Tehran' 'London' 'Mexico City' 'KrakÃ³w'\n",
      " 'New York City' 'Warsaw' 'Lima' 'BogotÃ¡' 'Jakarta' 'SÃ£o Paulo' 'Cairo'\n",
      " '?Ã³d?' 'Bucuresti' 'Istanbul' 'Dublin' 'Brussels' 'Rio de Janeiro'\n",
      " 'Budapest' 'Bangkok' 'Moscow' 'Birmingham' 'Stockholm' 'Paris' 'Leeds'\n",
      " 'Athens' 'Bangalore' 'Chennai' 'New Delhi' 'Berlin' 'Riyadh'\n",
      " 'Saint Petersburg' 'Vienna' 'Prague' 'Vilnius' 'Barcelona' 'Santiago'\n",
      " 'Palermo' 'Hyderabad' 'Marseille' 'Milan' 'Frankfurt' 'Yangon' 'Lisbon'\n",
      " 'Cologne' 'Rome' 'Ankara' 'Tokyo' 'Casablanca' 'Karachi' 'Ahmedabad'\n",
      " 'Madrid' 'Zagreb' 'Seville' 'Amsterdam' 'Hong Kong' 'Hamburg' 'Sofia'\n",
      " 'Copenhagen' 'Munich' 'Lahore' 'Singapore' 'Helsinki' 'Turin' 'Valencia'\n",
      " 'Zaragoza']\n"
     ]
    },
    {
     "data": {
      "text/html": [
       "<div>\n",
       "<style scoped>\n",
       "    .dataframe tbody tr th:only-of-type {\n",
       "        vertical-align: middle;\n",
       "    }\n",
       "\n",
       "    .dataframe tbody tr th {\n",
       "        vertical-align: top;\n",
       "    }\n",
       "\n",
       "    .dataframe thead th {\n",
       "        text-align: right;\n",
       "    }\n",
       "</style>\n",
       "<table border=\"1\" class=\"dataframe\">\n",
       "  <thead>\n",
       "    <tr style=\"text-align: right;\">\n",
       "      <th></th>\n",
       "      <th>Rank</th>\n",
       "      <th>City</th>\n",
       "      <th>AverageTCI</th>\n",
       "      <th>MaxTCI</th>\n",
       "    </tr>\n",
       "  </thead>\n",
       "  <tbody>\n",
       "    <tr>\n",
       "      <th>0</th>\n",
       "      <td>1</td>\n",
       "      <td>Lagos</td>\n",
       "      <td>60.16</td>\n",
       "      <td>130.21</td>\n",
       "    </tr>\n",
       "    <tr>\n",
       "      <th>1</th>\n",
       "      <td>2</td>\n",
       "      <td>Riga</td>\n",
       "      <td>47.12</td>\n",
       "      <td>87.51</td>\n",
       "    </tr>\n",
       "    <tr>\n",
       "      <th>2</th>\n",
       "      <td>3</td>\n",
       "      <td>Mumbai</td>\n",
       "      <td>38.37</td>\n",
       "      <td>153.41</td>\n",
       "    </tr>\n",
       "    <tr>\n",
       "      <th>3</th>\n",
       "      <td>4</td>\n",
       "      <td>Tehran</td>\n",
       "      <td>38.20</td>\n",
       "      <td>110.12</td>\n",
       "    </tr>\n",
       "    <tr>\n",
       "      <th>4</th>\n",
       "      <td>5</td>\n",
       "      <td>London</td>\n",
       "      <td>38.16</td>\n",
       "      <td>128.50</td>\n",
       "    </tr>\n",
       "  </tbody>\n",
       "</table>\n",
       "</div>"
      ],
      "text/plain": [
       "   Rank    City  AverageTCI  MaxTCI\n",
       "0     1   Lagos       60.16  130.21\n",
       "1     2    Riga       47.12   87.51\n",
       "2     3  Mumbai       38.37  153.41\n",
       "3     4  Tehran       38.20  110.12\n",
       "4     5  London       38.16  128.50"
      ]
     },
     "execution_count": 35,
     "metadata": {},
     "output_type": "execute_result"
    }
   ],
   "source": [
    "# Rename columns for better readability\n",
    "traffic_data.columns = ['Rank', 'City', 'AverageTCI', 'MaxTCI']\n",
    "\n",
    "# Checking for missing values\n",
    "print('Number of empty values:')\n",
    "print(traffic_data.isnull().sum())\n",
    "\n",
    "# Checking for duplicates\n",
    "print('\\nDuplicates:')\n",
    "print(df[df.duplicated()])\n",
    "print('\\nDuplicates for \"City\":')\n",
    "print(df[df.duplicated(subset=['City'])])\n",
    "\n",
    "# Display unique values in 'City' column to check for anomalies\n",
    "print('\\nUnique values in \"City\":')\n",
    "print(traffic_data['City'].unique())\n",
    "\n",
    "# Correct any anomalies in the 'City' column\n",
    "traffic_data['City'] = traffic_data['City'].replace({'?ód?': 'Łódź'})\n",
    "\n",
    "# Convert columns to appropriate data types\n",
    "traffic_data['Rank'] = traffic_data['Rank'].astype(int)\n",
    "traffic_data['AverageTCI'] = traffic_data['AverageTCI'].astype(float)\n",
    "traffic_data['MaxTCI'] = traffic_data['MaxTCI'].astype(float)\n",
    "\n",
    "# Display the cleaned dataset\n",
    "traffic_data.head()\n"
   ]
  },
  {
   "cell_type": "markdown",
   "id": "1b8cb886-4e59-4de7-bef8-1f095f45f1fa",
   "metadata": {},
   "source": [
    "### Schritt 4: Speichern der bereinigten Daten\r\n",
    "Abschließend speichern wir die bereinigten Daten in einer neuen CSV-Datei.\r\n"
   ]
  },
  {
   "cell_type": "code",
   "execution_count": 36,
   "id": "17e7dbcf-3c22-4c74-9302-007cf0c6e741",
   "metadata": {},
   "outputs": [
    {
     "data": {
      "text/plain": [
       "'data/Cleaned_TrafficIndex_19Jun2022-26Jun2022.csv'"
      ]
     },
     "execution_count": 36,
     "metadata": {},
     "output_type": "execute_result"
    }
   ],
   "source": [
    "# Save the cleaned data to a new CSV file\n",
    "cleaned_file_path = 'data/Cleaned_TrafficIndex_19Jun2022-26Jun2022.csv'\n",
    "traffic_data.to_csv(cleaned_file_path, index=False)\n",
    "\n",
    "# Confirm the cleaned file is saved\n",
    "cleaned_file_path"
   ]
  },
  {
   "cell_type": "code",
   "execution_count": 37,
   "id": "578bb5e8-5edc-4c8b-b25f-f81948ab0aff",
   "metadata": {},
   "outputs": [],
   "source": [
    "cleaned_kaggle = pd.read_csv('data/Cleaned_TrafficIndex_19Jun2022-26Jun2022.csv')\n",
    "cleaned_scraped_traffic_data = pd.read_csv('data/cleaned_scraped_traffic_data.csv')"
   ]
  },
  {
   "cell_type": "code",
   "execution_count": 38,
   "id": "d93f1f16-dda0-45a0-9bd6-1551ad2d0b4e",
   "metadata": {},
   "outputs": [
    {
     "name": "stdout",
     "output_type": "stream",
     "text": [
      "Index(['World Rank', 'City', 'Average Traveltime per 10 km',\n",
      "       'Change From 2022', 'Congestion level in %',\n",
      "       'Time lost per year (in hours)', 'Average speed (in km/h)'],\n",
      "      dtype='object')\n",
      "Index(['Rank', 'City', 'AverageTCI', 'MaxTCI'], dtype='object')\n"
     ]
    }
   ],
   "source": [
    "print(cleaned_scraped_traffic_data.columns)\n",
    "print(cleaned_kaggle.columns)\n",
    "#print(additional_data.columns)"
   ]
  },
  {
   "cell_type": "markdown",
   "id": "748c1523-0871-4267-b95f-ba59b69d121d",
   "metadata": {},
   "source": [
    "### Korrelation zwischen Traffic Congestion und Travel Time"
   ]
  },
  {
   "cell_type": "markdown",
   "id": "f8cda881-56e0-4ec3-8e13-5fadbec04363",
   "metadata": {},
   "source": [
    "Die DataFrames **cleaned_scraped_traffic_data** und **cleaned_kaggle** werden basierend auf der Spalte 'City' zusammengeführt. Dadurch entsteht ein gemeinsamer Datensatz, der die relevanten Informationen aus beiden Quellen enthält.\n",
    "\n",
    "Ein Streudiagramm wird erstellt, um die Korrelation zwischen dem durchschnittlichen Traffic Congestion Index (TCI) und der durchschnittlichen Reisezeit pro 10 Kilometer darzustellen. Die x-Achse zeigt den Average TCI und die y-Achse die Average Traveltime per 10 km in Minuten.\n",
    "\n",
    "Die Punkte im Streudiagramm werden mit einer Transparenz von 0.5 dargestellt, um eine mögliche Überlappung der Datenpunkte besser zu visualisieren. Achsenbeschriftungen und Titel werden hinzugefügt, um die Darstellung zu beschreiben. Schließlich wird ein Gitter hinzugefügt, um die Lesbarkeit zu verbessern, und das Diagramm wird angezeigt, um die Korrelation zu visualisieren."
   ]
  },
  {
   "cell_type": "code",
   "execution_count": 39,
   "id": "b159f417-7aec-407f-a111-71c06b79e04d",
   "metadata": {},
   "outputs": [
    {
     "name": "stdout",
     "output_type": "stream",
     "text": [
      "    World Rank            City Average Traveltime per 10 km Change From 2022  \\\n",
      "0            1          London                  37 min 20 s          + 1 min   \n",
      "1            2          Dublin                  29 min 30 s          + 1 min   \n",
      "2            4           Milan                  28 min 50 s           + 20 s   \n",
      "3            5            Lima                  28 min 30 s     + 1 min 20 s   \n",
      "4           10        Brussels                       27 min           + 20 s   \n",
      "5           12            Rome                  26 min 30 s           + 40 s   \n",
      "6           13     Mexico City                  26 min 30 s           + 50 s   \n",
      "7           16           Paris                  26 min 30 s           + 20 s   \n",
      "8           18           Turin                  25 min 40 s           + 40 s   \n",
      "9           26         Hamburg                  23 min 50 s           + 30 s   \n",
      "10          27           Tokyo                  23 min 40 s           - 10 s   \n",
      "11          30         Jakarta                  23 min 20 s           + 40 s   \n",
      "12          31          Athens                  23 min 10 s           + 10 s   \n",
      "13          42          Berlin                       22 min           - 10 s   \n",
      "14          44       New Delhi                  21 min 40 s           - 30 s   \n",
      "15          46         Bangkok                  21 min 40 s          + 1 min   \n",
      "16          48          Vienna                  21 min 30 s           - 30 s   \n",
      "17          49        Helsinki                  21 min 30 s           + 10 s   \n",
      "18          54          Mumbai                  21 min 20 s           + 10 s   \n",
      "19          58        Budapest                  21 min 10 s           - 30 s   \n",
      "20          64           Sofia                  20 min 50 s           + 30 s   \n",
      "21          65        Istanbul                  20 min 40 s           - 20 s   \n",
      "22          69          Munich                  20 min 30 s           + 20 s   \n",
      "23          72            Riga                  20 min 20 s           + 40 s   \n",
      "24          74           Cairo                  20 min 20 s          - 1 min   \n",
      "25          75          Warsaw                  20 min 20 s           + 20 s   \n",
      "26          76         Cologne                  20 min 10 s           + 10 s   \n",
      "27          77         Palermo                       20 min           - 10 s   \n",
      "28          90        Santiago                  19 min 20 s           - 40 s   \n",
      "29          99       Barcelona                       19 min           - 10 s   \n",
      "30         101        Zaragoza                       19 min        no change   \n",
      "31         107  Rio de Janeiro                  18 min 50 s           + 20 s   \n",
      "32         110          Ankara                  18 min 40 s           + 10 s   \n",
      "33         124          Madrid                       18 min        no change   \n",
      "34         126         Vilnius                  17 min 50 s           + 10 s   \n",
      "35         134       Hong Kong                  17 min 40 s           - 20 s   \n",
      "36         137          Riyadh                  17 min 40 s     + 1 min 20 s   \n",
      "37         139          Lisbon                  17 min 30 s           + 30 s   \n",
      "38         140       Marseille                  17 min 30 s           - 20 s   \n",
      "39         143         Seville                  17 min 20 s           - 10 s   \n",
      "40         151       Amsterdam                  17 min 10 s           - 10 s   \n",
      "41         155        Valencia                  17 min 10 s        no change   \n",
      "42         160      Copenhagen                       17 min           + 10 s   \n",
      "43         166          Prague                  16 min 50 s           + 30 s   \n",
      "44         170       Singapore                  16 min 50 s           + 10 s   \n",
      "45         219       Stockholm                  15 min 30 s           - 10 s   \n",
      "46         365      Birmingham                       10 min        no change   \n",
      "\n",
      "    Congestion level in %  Time lost per year (in hours)  \\\n",
      "0                      45                            148   \n",
      "1                      66                            158   \n",
      "2                      45                            137   \n",
      "3                      61                            157   \n",
      "4                      37                            104   \n",
      "5                      41                            107   \n",
      "6                      63                            152   \n",
      "7                      46                            120   \n",
      "8                      31                             92   \n",
      "9                      36                             74   \n",
      "10                     35                             76   \n",
      "11                     53                            117   \n",
      "12                     49                            112   \n",
      "13                     32                             64   \n",
      "14                     48                             81   \n",
      "15                     62                            108   \n",
      "16                     31                             64   \n",
      "17                     34                             62   \n",
      "18                     43                             92   \n",
      "19                     43                             85   \n",
      "20                     38                             90   \n",
      "21                     53                            104   \n",
      "22                     33                             72   \n",
      "23                     39                             90   \n",
      "24                     40                             72   \n",
      "25                     43                             96   \n",
      "26                     28                             53   \n",
      "27                     44                             88   \n",
      "28                     43                             93   \n",
      "29                     29                             59   \n",
      "30                     19                             33   \n",
      "31                     51                             81   \n",
      "32                     46                             96   \n",
      "33                     25                             51   \n",
      "34                     39                             81   \n",
      "35                     34                             57   \n",
      "36                     45                             87   \n",
      "37                     32                             65   \n",
      "38                     34                             68   \n",
      "39                     24                             48   \n",
      "40                     37                             55   \n",
      "41                     24                             43   \n",
      "42                     26                             58   \n",
      "43                     36                             66   \n",
      "44                     38                             65   \n",
      "45                     29                             57   \n",
      "46                     18                             26   \n",
      "\n",
      "    Average speed (in km/h)  Rank  AverageTCI  MaxTCI  \n",
      "0                        14     5       38.16  128.50  \n",
      "1                        16    18       24.40  109.51  \n",
      "2                        17    43       11.30   68.14  \n",
      "3                        17    10       32.71   99.08  \n",
      "4                        18    19       24.22  119.05  \n",
      "5                        19    48       10.40   72.47  \n",
      "6                        18     6       35.94  169.08  \n",
      "7                        18    26       20.39   69.77  \n",
      "8                        20    66        4.29   46.20  \n",
      "9                        22    59        6.28   60.09  \n",
      "10                       21    50       10.03   72.61  \n",
      "11                       21    12       29.55  132.36  \n",
      "12                       20    28       19.57  136.62  \n",
      "13                       24    32       17.75   89.81  \n",
      "14                       24    31       17.94   57.99  \n",
      "15                       23    22       22.90  138.51  \n",
      "16                       24    35       16.79   84.58  \n",
      "17                       25    65        4.67   22.43  \n",
      "18                       23     3       38.37  153.41  \n",
      "19                       23    21       23.88  108.99  \n",
      "20                       23    60        6.25   39.10  \n",
      "21                       23    17       25.41  169.65  \n",
      "22                       24    62        5.56   37.67  \n",
      "23                       23     2       47.12   87.51  \n",
      "24                       26    14       28.46  115.55  \n",
      "25                       23     9       33.37  131.22  \n",
      "26                       27    47       10.46   46.33  \n",
      "27                       25    40       13.45   53.22  \n",
      "28                       24    39       13.89  105.00  \n",
      "29                       27    38       15.13  138.36  \n",
      "30                       30    68        2.01   42.18  \n",
      "31                       27    20       24.03   98.27  \n",
      "32                       25    49       10.04   56.81  \n",
      "33                       29    54        6.90   69.43  \n",
      "34                       26    37       15.65  104.16  \n",
      "35                       29    58        6.72   75.85  \n",
      "36                       26    33       17.51  107.16  \n",
      "37                       27    46       11.01   87.53  \n",
      "38                       28    42       11.77   79.38  \n",
      "39                       29    56        6.76   92.61  \n",
      "40                       31    57        6.74   37.29  \n",
      "41                       31    67        3.40   31.97  \n",
      "42                       29    61        5.79   46.06  \n",
      "43                       29    36       15.83   56.47  \n",
      "44                       29    64        5.23   42.93  \n",
      "45                       31    25       20.97  158.14  \n",
      "46                       51    24       21.02  101.07  \n"
     ]
    }
   ],
   "source": [
    "# Merge DataFrames on 'City'\n",
    "merged_data = pd.merge(cleaned_scraped_traffic_data, cleaned_kaggle, on='City')\n",
    "\n",
    "print(merged_data)"
   ]
  },
  {
   "cell_type": "code",
   "execution_count": 40,
   "id": "07d3e8b7-507c-4266-84dd-4690f7e74666",
   "metadata": {},
   "outputs": [
    {
     "data": {
      "image/png": "[encoded data removed]",
      "text/plain": [
       "<Figure size 1000x600 with 1 Axes>"
      ]
     },
     "metadata": {},
     "output_type": "display_data"
    }
   ],
   "source": [
    "import matplotlib.pyplot as plt\n",
    "\n",
    "# Scatter plot: AverageTCI vs Average Traveltime per 10 km\n",
    "plt.figure(figsize=(10, 6))\n",
    "plt.scatter(merged_data['AverageTCI'], merged_data['Average Traveltime per 10 km'], alpha=0.5)\n",
    "plt.xlabel('Average Traffic Congestion Index (TCI)')\n",
    "plt.ylabel('Average Traveltime per 10 km (minutes)')\n",
    "plt.title('Correlation between Traffic Congestion and Travel Time')\n",
    "plt.grid(True)\n",
    "plt.show()\n"
   ]
  },
  {
   "cell_type": "markdown",
   "id": "461f9384-3d4b-4903-abe6-3e3b633ad076",
   "metadata": {},
   "source": [
    "Das Diagramm zeigt die Korrelation zwischen dem durchschnittlichen Verkehrsstauniveau (Traffic Congestion Index, TCI) und der durchschnittlichen Reisezeit pro 10 km in Minuten.\n",
    "\n",
    "Aus der Darstellung lässt sich Folgendes ablesen:\n",
    "\n",
    "Die Punkte repräsentieren verschiedene Städte oder Regionen.\n",
    "\n",
    "Auf der x-Achse ist der durchschnittliche Verkehrsstauniveau (TCI) abgetragen, während die y-Achse die durchschnittliche Reisezeit pro 10 km in Minuten zeigt.\n",
    "\n",
    "Es gibt eine minimal positive Korrelation: Mit zunehmendem Verkehrsstauniveau (höherer TCI) steigt tendenziell auch die durchschnittliche Reisezeit.\n",
    "\n",
    "Das Diagramm verdeutlicht, dass stärkerer Verkehrsstau in der Regel mit längeren Reisezeiten einhergeht."
   ]
  },
  {
   "cell_type": "markdown",
   "id": "41162f7a-2aff-4240-809c-88fbdc9b798b",
   "metadata": {},
   "source": [
    "### Korrelation zwischen Verkehrsstauindex und anderen Metriken"
   ]
  },
  {
   "cell_type": "markdown",
   "id": "2762907d-80d9-4c64-9ecf-01a83e1570fc",
   "metadata": {},
   "source": [
    "Ein Pairplot wird erstellt, um die Korrelationen zwischen verschiedenen Verkehrskongestionsmetriken zu visualisieren. Dabei werden die Spalten 'AverageTCI', 'Average speed (in km/h)' und 'Time lost per year (in hours)' aus dem zusammengeführten Datensatz **merged_data** verwendet.\n",
    "\n",
    "Der Pairplot zeigt die Verteilungen und Beziehungen zwischen diesen Metriken. Titel und Achsenbeschriftungen werden automatisch generiert, um die dargestellten Metriken zu beschreiben. Schließlich wird der Pairplot angezeigt, um die Korrelationen zwischen den Verkehrskongestionsmetriken zu visualisieren."
   ]
  },
  {
   "cell_type": "code",
   "execution_count": 41,
   "id": "e98bd098-d299-4d13-beee-8cb5ea4f211e",
   "metadata": {},
   "outputs": [
    {
     "data": {
      "image/png": "[encoded data removed]",
      "text/plain": [
       "<Figure size 750x750 with 12 Axes>"
      ]
     },
     "metadata": {},
     "output_type": "display_data"
    }
   ],
   "source": [
    "# Pairplot to visualize correlations\n",
    "import seaborn as sns\n",
    "\n",
    "sns.pairplot(merged_data[['AverageTCI', 'Average speed (in km/h)', 'Time lost per year (in hours)']])\n",
    "plt.suptitle('Pairplot of Traffic Congestion Metrics', y=1.02)\n",
    "plt.show()\n"
   ]
  },
  {
   "cell_type": "markdown",
   "id": "71a5065b-dd35-4681-b551-a024f586053d",
   "metadata": {},
   "source": [
    "Das Pairplot zeigt die Beziehung zwischen drei Variablen im Zusammenhang mit Verkehrsstaumetriken: dem durchschnittlichen Verkehrsstauniveau (AverageTCI), der durchschnittlichen Geschwindigkeit (Average speed in km/h) und der verlorenen Zeit pro Jahr (Time lost per year in hours).\n",
    "\n",
    "**AverageTCI vs. Average speed**: Es ist keine starke Korrelation erkennbar, die Punkte sind weit gestreut, was darauf hinweist, dass ein höheres Staulevel nicht zwingend mit einer niedrigeren durchschnittlichen Geschwindigkeit einhergeht.\n",
    "\n",
    "**AverageTCI vs. Time lost per year**: Hier zeigt sich eine positive Korrelation. Mit einem höheren Verkehrsstauniveau steigt auch die Zeit, die pro Jahr im Stau verloren geht.\n",
    "\n",
    "**Average speed vs. Time lost per year**: Es gibt eine deutliche negative Korrelation. Höhere Durchschnittsgeschwindigkeiten sind mit weniger verlorener Zeit pro Jahr verbunden.\n",
    "\n",
    "Die Histogramme entlang der Diagonalen zeigen die Verteilung jeder einzelnen Variable. Das durchschnittliche Verkehrsstauniveau und die verlorene Zeit pro Jahr zeigen eine breitere Verteilung, während die durchschnittliche Geschwindigkeit stärker in einem bestimmten Bereich konzentriert ist. Insgesamt verdeutlicht das Pairplot die Beziehungen zwischen diesen Verkehrskennzahlen und zeigt klare Korrelationen zwischen bestimmten Variablenpaaren."
   ]
  },
  {
   "cell_type": "markdown",
   "id": "9f2cd885-ae25-4dbb-9f99-bf359fbb2b39",
   "metadata": {},
   "source": [
    "Das zusätzliche DataFrame **additional_data** wird aus dem Spark DataFrame df_exploded konvertiert und als Pandas DataFrame gespeichert. Anschließend werden die relevanten Routen herausgefiltert, indem nur die Einträge berücksichtigt werden, deren 'topic' in den relevanten Themen 'london_routes', 'berlin_routes' und 'delhi_routes' enthalten sind. Das gefilterte DataFrame **filtered_additional_data** enthält somit nur die relevanten Routen für die drei Städte."
   ]
  },
  {
   "cell_type": "code",
   "execution_count": 42,
   "id": "fab5226d-f049-4f59-a3c8-6b31303dce43",
   "metadata": {},
   "outputs": [],
   "source": [
    "# Spark-Dataframe (Here-API) in Pandas-Dataframe umwandeln\n",
    "additional_data = df_exploded.toPandas()\n",
    "\n",
    "# Filtern  die relevanten Routen heraus\n",
    "relevant_topics = ['london_routes', 'berlin_routes', 'delhi_routes']\n",
    "filtered_additional_data = additional_data[additional_data['topic'].isin(relevant_topics)]"
   ]
  },
  {
   "cell_type": "markdown",
   "id": "1ad1b588-2cc8-4f47-874a-c97beaaa9970",
   "metadata": {},
   "source": [
    "Für jede Stadt wird ein Streupunkt im Diagramm mit der entsprechenden Farbe und dem entsprechenden Marker gezeichnet. Die X-Achse zeigt den 'Verkehrsbelastung (%)' und die Y-Achse die 'Durchschnittliche Fahrzeit pro 10 km (Minuten)'. Es wird ein Titel und Beschriftungen für die Achsen hinzugefügt, und eine Legende wird angezeigt, um die verschiedenen Städte zu identifizieren. Das Diagramm zeigt die Beziehung zwischen der Verkehrsbelastung und der durchschnittlichen Fahrzeit in den ausgewählten Städten."
   ]
  },
  {
   "cell_type": "code",
   "execution_count": 43,
   "id": "24b150f3-2cda-4559-903d-e1e5039140df",
   "metadata": {},
   "outputs": [
    {
     "data": {
      "image/png": "[encoded data removed]",
      "text/plain": [
       "<Figure size 1000x800 with 1 Axes>"
      ]
     },
     "metadata": {},
     "output_type": "display_data"
    }
   ],
   "source": [
    "import matplotlib.pyplot as plt\n",
    "\n",
    "# Definiere die Städte, die du plotten möchtest\n",
    "cities_to_plot = ['London', 'Amsterdam', 'Toronto', 'Kairo', 'Berlin', 'New Delhi']\n",
    "\n",
    "# Definiere Farben und Marker für jede Stadt\n",
    "city_colors = {'London': 'blue', 'Amsterdam': 'green', 'Toronto': 'red', 'Kairo': 'purple', 'Berlin': 'orange', 'New Delhi': 'brown'}\n",
    "city_markers = {'London': 'o', 'Amsterdam': 's', 'Toronto': 'd', 'Kairo': '^', 'Berlin': 'v', 'New Delhi': 'p'}\n",
    "\n",
    "plt.figure(figsize=(10, 8))\n",
    "\n",
    "# Schleife über jede Stadt, um sie mit entsprechender Farbe und Marker zu plotten\n",
    "for city in cities_to_plot:\n",
    "    city_data = scraped_data_filtered[scraped_data_filtered['City'] == city]\n",
    "    # Hier den korrekten Spaltennamen 'Congestion level in %' verwenden\n",
    "    plt.scatter(x=city_data['Congestion level in %'], y=city_data['Average Traveltime per 10 km'], \n",
    "                color=city_colors[city], marker=city_markers[city], label=city, alpha=0.7)\n",
    "\n",
    "plt.title('Verkehrsbelastung vs. Durchschnittliche Fahrzeit')\n",
    "plt.xlabel('Verkehrsbelastung (%)')\n",
    "plt.ylabel('Durchschnittliche Fahrzeit pro 10 km (Minuten)')\n",
    "plt.legend(loc='best')\n",
    "plt.grid(True)\n",
    "\n",
    "# Y-Achse umkehren, falls gewünscht\n",
    "plt.gca().invert_yaxis()\n",
    "\n",
    "plt.show()\n"
   ]
  },
  {
   "cell_type": "markdown",
   "id": "775a65ea-4413-4723-85b0-a183e97e7b5b",
   "metadata": {},
   "source": [
    "Die durchschnittliche Dauer, Länge und Basisdauer für jede Route werden nach dem 'topic' berechnet. Dazu wird das gefilterte DataFrame **filtered_additional_data** verwendet, um die gewünschten Metriken zu gruppieren und zu berechnen."
   ]
  },
  {
   "cell_type": "code",
   "execution_count": 44,
   "id": "56355b3d-9dc3-4301-b1c5-f0d3b363ae7b",
   "metadata": {},
   "outputs": [
    {
     "name": "stdout",
     "output_type": "stream",
     "text": [
      "Durchschnittliche Dauer für jede Route:\n",
      "           topic  duration\n",
      "0  berlin_routes   1963.28\n",
      "1   delhi_routes   2201.04\n",
      "2  london_routes   2988.04\n"
     ]
    }
   ],
   "source": [
    "# Durchschnittliche Dauer, Länge und Basisdauer nach 'topic' berechnen\n",
    "average_route_duration = filtered_additional_data.groupby('topic')['duration'].mean().reset_index()\n",
    "\n",
    "print(\"Durchschnittliche Dauer für jede Route:\")\n",
    "print(average_route_duration)"
   ]
  },
  {
   "cell_type": "markdown",
   "id": "49b93f07-a6b2-4433-b444-3c1171690a4c",
   "metadata": {},
   "source": [
    "## Kombination der Daten der Here-API mit dem Kaggle-Dataset\n",
    "Zunächst wird ein Mapping erstellt, das die Routen zu den entsprechenden Städten zuordnet. Dieses Mapping wird verwendet, um eine neue Stadtspalte zu den durchschnittlichen Routendauern hinzuzufügen. Danach werden die durchschnittlichen Routendauern mit den bereits gefilterten Verkehrsdaten auf Basis der Stadtspalte kombiniert. Schließlich werden die kombinierten Daten angezeigt."
   ]
  },
  {
   "cell_type": "code",
   "execution_count": 45,
   "id": "3d877c98-25f4-4437-a58a-3b121b85ce33",
   "metadata": {},
   "outputs": [
    {
     "name": "stdout",
     "output_type": "stream",
     "text": [
      "   Rank       City  AverageTCI  MaxTCI          topic  duration\n",
      "0     5     London       38.16  128.50  london_routes   2988.04\n",
      "1    31  New Delhi       17.94   57.99   delhi_routes   2201.04\n",
      "2    32     Berlin       17.75   89.81  berlin_routes   1963.28\n"
     ]
    }
   ],
   "source": [
    "# Mapping von Routen zu Städten\n",
    "route_to_city = {\n",
    "    'london_routes': 'London',\n",
    "    'berlin_routes': 'Berlin',\n",
    "    'delhi_routes': 'New Delhi'\n",
    "}\n",
    "\n",
    "# Stadtspalte zu den durchschnittlichen Routendauern hinzufügen\n",
    "average_route_duration['City'] = average_route_duration['topic'].map(route_to_city)\n",
    "\n",
    "# Daten kombinieren\n",
    "combined_data = pd.merge(filtered_traffic_data, average_route_duration, on='City', how='inner')\n",
    "\n",
    "# Kombinierte Daten anzeigen\n",
    "print(combined_data)\n"
   ]
  },
  {
   "cell_type": "markdown",
   "id": "1ba50e90-ca21-4d2f-8e3b-b152e1617299",
   "metadata": {},
   "source": [
    "Ein Streudiagramm wird erstellt, um die Beziehung zwischen dem Traffic Congestion Index (TCI) und der durchschnittlichen Dauer der Routen zu analysieren. Dabei werden die kombinierten Daten verwendet, die sowohl die Verkehrsdaten von Kaggle als auch die durchschnittlichen Routendauern der Here-API enthalten.\n",
    "\n",
    "Zunächst wird die Größe des Diagramms festgelegt. Anschließend wird mit Seaborn ein Streudiagramm erstellt, bei dem die X-Achse den Traffic Congestion Index (AverageTCI) und die Y-Achse die durchschnittliche Dauer der Routen in Sekunden darstellt. Die Datenpunkte werden nach Städten farblich unterschieden.\n",
    "\n",
    "Ein Titel und Achsenbeschriftungen werden hinzugefügt, ebenso wie eine Legende, die die verschiedenen Städte erklärt. Ein Gitter wird aktiviert, um die Lesbarkeit zu verbessern, und das Layout wird angepasst, um eine optimale Darstellung zu gewährleisten. Schließlich wird das Diagramm angezeigt."
   ]
  },
  {
   "cell_type": "code",
   "execution_count": 46,
   "id": "a73863bd-4ed4-4cb6-b14f-6b977326c342",
   "metadata": {},
   "outputs": [
    {
     "data": {
      "image/png": "[encoded data removed]",
      "text/plain": [
       "<Figure size 1000x600 with 1 Axes>"
      ]
     },
     "metadata": {},
     "output_type": "display_data"
    }
   ],
   "source": [
    "import matplotlib.pyplot as plt\n",
    "import seaborn as sns\n",
    "\n",
    "# Scatterplot für die Analyse der Beziehung zwischen TCI und durchschnittlicher Dauer\n",
    "plt.figure(figsize=(10, 6))\n",
    "sns.scatterplot(data=combined_data, x='AverageTCI', y='duration', hue='City')\n",
    "plt.title('Beziehung zwischen Traffic Congestion Index und durchschnittlicher Dauer der Routen')\n",
    "plt.xlabel('Traffic Congestion Index (AverageTCI)')\n",
    "plt.ylabel('Durchschnittliche Dauer der Routen (Sekunden)')\n",
    "plt.legend(title='City')\n",
    "plt.grid(True)\n",
    "plt.tight_layout()\n",
    "plt.show()\n"
   ]
  },
  {
   "cell_type": "markdown",
   "id": "8a5bdc90-f92c-4fd2-bad0-55cbb355a7e6",
   "metadata": {},
   "source": [
    "Das Diagramm zeigt die Beziehung zwischen dem Traffic Congestion Index (AverageTCI) und der durchschnittlichen Dauer der Routen (in Sekunden) für drei Städte: London, New Delhi und Berlin.\n",
    "\n",
    "**London**: Hat den höchsten AverageTCI von etwa 37,5 und die längste durchschnittliche Routenzeit von etwa 1750 Sekunden.\n",
    "\n",
    "**New Delhi**: Hat einen AverageTCI von etwa 17,5 und eine durchschnittliche Routenzeit von etwa 1600 Sekunden.\n",
    "\n",
    "**Berlin**: Hat den niedrigsten AverageTCI von etwa 12,5 und die kürzeste durchschnittliche Routenzeit von etwa 1200 Sekunden.\n",
    "\n",
    "Das Diagramm verdeutlicht, dass London bei weitem den höchsten Verkehrsstauniveau und die längste durchschnittliche Routenzeit hat, während Berlin die niedrigsten Werte in beiden Kategorien aufweist. New Delhi liegt dazwischen. Dies zeigt eine positive Korrelation zwischen dem Verkehrsstauniveau und der durchschnittlichen Routenzeit: Städte mit höherem Staulevel haben tendenziell längere Routenzeiten."
   ]
  },
  {
   "cell_type": "markdown",
   "id": "39698eae-c330-4a0a-b3ff-3c488a9df2df",
   "metadata": {},
   "source": [
    "Ein Streudiagramm wird erstellt, um die Beziehung zwischen dem Traffic Congestion Index (TCI) und der durchschnittlichen Routendauer für verschiedene Städte zu visualisieren.\n",
    "\n",
    "Die Daten für die Visualisierung werden aus den kombinierten Daten ausgewählt. Die X-Achse zeigt den durchschnittlichen TCI, und die Y-Achse zeigt die durchschnittliche Routendauer in Minuten. Die Datenpunkte werden blau eingefärbt und ihre Größe wird durch den MaxTCI skaliert.\n",
    "\n",
    "Jeder Datenpunkt wird mit einem Textlabel versehen, das den Namen der Stadt anzeigt. Die Achsen werden entsprechend beschriftet und ein Titel wird hinzugefügt, um das Diagramm zu erklären."
   ]
  },
  {
   "cell_type": "code",
   "execution_count": 47,
   "id": "e688b0ca-0627-4a4e-bb38-f3384f4a9ee1",
   "metadata": {},
   "outputs": [
    {
     "data": {
      "image/png": "[encoded data removed]",
      "text/plain": [
       "<Figure size 1000x600 with 1 Axes>"
      ]
     },
     "metadata": {},
     "output_type": "display_data"
    }
   ],
   "source": [
    "import matplotlib.pyplot as plt\n",
    "\n",
    "# Scatterplot erstellen\n",
    "plt.figure(figsize=(10, 6))\n",
    "\n",
    "# Daten für die Visualisierung auswählen\n",
    "x = combined_data['AverageTCI']\n",
    "y = combined_data['duration']\n",
    "labels = combined_data['City']\n",
    "\n",
    "# Scatterplot erstellen\n",
    "plt.scatter(x, y, s=combined_data['MaxTCI']*5, alpha=0.5, c='blue', edgecolors='w')\n",
    "\n",
    "# Labels für die Punkte hinzufügen\n",
    "for i, label in enumerate(labels):\n",
    "    plt.text(x[i], y[i], label, fontsize=8, ha='center', va='bottom')\n",
    "\n",
    "# Achsenbeschriftungen\n",
    "plt.xlabel('Durchschnittlicher Traffic Congestion Index (TCI)')\n",
    "plt.ylabel('Durchschnittliche Routen-Dauer (in Minuten)')\n",
    "\n",
    "# Titel hinzufügen\n",
    "plt.title('Beziehung zwischen TCI und Routen-Dauer für verschiedene Städte')\n",
    "\n",
    "# Grid anzeigen\n",
    "plt.grid(True)\n",
    "\n",
    "# Diagramm anzeigen\n",
    "plt.show()\n"
   ]
  },
  {
   "cell_type": "markdown",
   "id": "d53bf26f-2fa4-49d1-a25f-8e647d33ba58",
   "metadata": {},
   "source": [
    "### Durchschnittliche Länge der Routen pro Stadt"
   ]
  },
  {
   "cell_type": "code",
   "execution_count": 48,
   "id": "0acd30ea-d1f4-413c-9796-e4401a04d97a",
   "metadata": {},
   "outputs": [
    {
     "name": "stdout",
     "output_type": "stream",
     "text": [
      "+-------------+----------+\n",
      "|        topic|avg_length|\n",
      "+-------------+----------+\n",
      "|london_routes|  13345.08|\n",
      "| delhi_routes|  14258.84|\n",
      "|berlin_routes|   13363.6|\n",
      "+-------------+----------+\n",
      "\n"
     ]
    },
    {
     "data": {
      "text/html": [
       "<div>\n",
       "<style scoped>\n",
       "    .dataframe tbody tr th:only-of-type {\n",
       "        vertical-align: middle;\n",
       "    }\n",
       "\n",
       "    .dataframe tbody tr th {\n",
       "        vertical-align: top;\n",
       "    }\n",
       "\n",
       "    .dataframe thead th {\n",
       "        text-align: right;\n",
       "    }\n",
       "</style>\n",
       "<table border=\"1\" class=\"dataframe\">\n",
       "  <thead>\n",
       "    <tr style=\"text-align: right;\">\n",
       "      <th></th>\n",
       "      <th>topic</th>\n",
       "      <th>avg_length</th>\n",
       "    </tr>\n",
       "  </thead>\n",
       "  <tbody>\n",
       "    <tr>\n",
       "      <th>0</th>\n",
       "      <td>london_routes</td>\n",
       "      <td>13345.08</td>\n",
       "    </tr>\n",
       "    <tr>\n",
       "      <th>1</th>\n",
       "      <td>delhi_routes</td>\n",
       "      <td>14258.84</td>\n",
       "    </tr>\n",
       "    <tr>\n",
       "      <th>2</th>\n",
       "      <td>berlin_routes</td>\n",
       "      <td>13363.60</td>\n",
       "    </tr>\n",
       "  </tbody>\n",
       "</table>\n",
       "</div>"
      ],
      "text/plain": [
       "           topic  avg_length\n",
       "0  london_routes    13345.08\n",
       "1   delhi_routes    14258.84\n",
       "2  berlin_routes    13363.60"
      ]
     },
     "execution_count": 48,
     "metadata": {},
     "output_type": "execute_result"
    }
   ],
   "source": [
    "df_avg_length = df_exploded.groupBy(\"topic\").agg(avg(\"length\").alias(\"avg_length\"))\n",
    "df_avg_length.show()\n",
    "df_avg_length.toPandas()"
   ]
  },
  {
   "cell_type": "markdown",
   "id": "e58ead80-bf45-4d1b-bd70-1a52280b58a3",
   "metadata": {},
   "source": [
    "### Maximale und minimale Dauer der Routen pro Stadt"
   ]
  },
  {
   "cell_type": "code",
   "execution_count": 49,
   "id": "e6c9c318-ad9a-404e-b85b-08cdd17c269b",
   "metadata": {},
   "outputs": [
    {
     "name": "stdout",
     "output_type": "stream",
     "text": [
      "+-------------+------------+------------+\n",
      "|        topic|max_duration|min_duration|\n",
      "+-------------+------------+------------+\n",
      "|london_routes|        3786|        2361|\n",
      "| delhi_routes|        2984|        1504|\n",
      "|berlin_routes|        2355|        1430|\n",
      "+-------------+------------+------------+\n",
      "\n"
     ]
    },
    {
     "data": {
      "text/html": [
       "<div>\n",
       "<style scoped>\n",
       "    .dataframe tbody tr th:only-of-type {\n",
       "        vertical-align: middle;\n",
       "    }\n",
       "\n",
       "    .dataframe tbody tr th {\n",
       "        vertical-align: top;\n",
       "    }\n",
       "\n",
       "    .dataframe thead th {\n",
       "        text-align: right;\n",
       "    }\n",
       "</style>\n",
       "<table border=\"1\" class=\"dataframe\">\n",
       "  <thead>\n",
       "    <tr style=\"text-align: right;\">\n",
       "      <th></th>\n",
       "      <th>topic</th>\n",
       "      <th>max_duration</th>\n",
       "      <th>min_duration</th>\n",
       "    </tr>\n",
       "  </thead>\n",
       "  <tbody>\n",
       "    <tr>\n",
       "      <th>0</th>\n",
       "      <td>london_routes</td>\n",
       "      <td>3786</td>\n",
       "      <td>2361</td>\n",
       "    </tr>\n",
       "    <tr>\n",
       "      <th>1</th>\n",
       "      <td>delhi_routes</td>\n",
       "      <td>2984</td>\n",
       "      <td>1504</td>\n",
       "    </tr>\n",
       "    <tr>\n",
       "      <th>2</th>\n",
       "      <td>berlin_routes</td>\n",
       "      <td>2355</td>\n",
       "      <td>1430</td>\n",
       "    </tr>\n",
       "  </tbody>\n",
       "</table>\n",
       "</div>"
      ],
      "text/plain": [
       "           topic  max_duration  min_duration\n",
       "0  london_routes          3786          2361\n",
       "1   delhi_routes          2984          1504\n",
       "2  berlin_routes          2355          1430"
      ]
     },
     "execution_count": 49,
     "metadata": {},
     "output_type": "execute_result"
    }
   ],
   "source": [
    "df_max_min_duration = df_exploded.groupBy(\"topic\").agg(\n",
    "    max(\"duration\").alias(\"max_duration\"),\n",
    "    min(\"duration\").alias(\"min_duration\")\n",
    ")\n",
    "df_max_min_duration.show()\n",
    "df_max_min_duration.toPandas()\n"
   ]
  },
  {
   "cell_type": "markdown",
   "id": "68860eb9-ce1f-4894-ae39-a043efe05a35",
   "metadata": {},
   "source": [
    "### Durchschnittliche erwartete Dauer vs. Tatsächliche Dauer pro Stadt"
   ]
  },
  {
   "cell_type": "markdown",
   "id": "ab31a503-d189-4288-a494-0656b569ed70",
   "metadata": {},
   "source": [
    "\"BaseDuration\" ist die Zeit ohne Echtzeitverkehr auf der Route und „Duration“ umfasst aktuelle, verkehrsreduzierte Geschwindigkeiten."
   ]
  },
  {
   "cell_type": "code",
   "execution_count": 50,
   "id": "0d0c275c-3c93-48d5-9f69-a78fa08be8f1",
   "metadata": {},
   "outputs": [
    {
     "name": "stdout",
     "output_type": "stream",
     "text": [
      "+-------------+-----------------+-------------------+\n",
      "|        topic|avg_base_duration|avg_actual_duration|\n",
      "+-------------+-----------------+-------------------+\n",
      "|london_routes|           1850.8|            2988.04|\n",
      "| delhi_routes|          1473.96|            2201.04|\n",
      "|berlin_routes|          1404.12|            1963.28|\n",
      "+-------------+-----------------+-------------------+\n",
      "\n"
     ]
    },
    {
     "data": {
      "text/html": [
       "<div>\n",
       "<style scoped>\n",
       "    .dataframe tbody tr th:only-of-type {\n",
       "        vertical-align: middle;\n",
       "    }\n",
       "\n",
       "    .dataframe tbody tr th {\n",
       "        vertical-align: top;\n",
       "    }\n",
       "\n",
       "    .dataframe thead th {\n",
       "        text-align: right;\n",
       "    }\n",
       "</style>\n",
       "<table border=\"1\" class=\"dataframe\">\n",
       "  <thead>\n",
       "    <tr style=\"text-align: right;\">\n",
       "      <th></th>\n",
       "      <th>topic</th>\n",
       "      <th>avg_base_duration</th>\n",
       "      <th>avg_actual_duration</th>\n",
       "    </tr>\n",
       "  </thead>\n",
       "  <tbody>\n",
       "    <tr>\n",
       "      <th>0</th>\n",
       "      <td>london_routes</td>\n",
       "      <td>1850.80</td>\n",
       "      <td>2988.04</td>\n",
       "    </tr>\n",
       "    <tr>\n",
       "      <th>1</th>\n",
       "      <td>delhi_routes</td>\n",
       "      <td>1473.96</td>\n",
       "      <td>2201.04</td>\n",
       "    </tr>\n",
       "    <tr>\n",
       "      <th>2</th>\n",
       "      <td>berlin_routes</td>\n",
       "      <td>1404.12</td>\n",
       "      <td>1963.28</td>\n",
       "    </tr>\n",
       "  </tbody>\n",
       "</table>\n",
       "</div>"
      ],
      "text/plain": [
       "           topic  avg_base_duration  avg_actual_duration\n",
       "0  london_routes            1850.80              2988.04\n",
       "1   delhi_routes            1473.96              2201.04\n",
       "2  berlin_routes            1404.12              1963.28"
      ]
     },
     "execution_count": 50,
     "metadata": {},
     "output_type": "execute_result"
    }
   ],
   "source": [
    "df_avg_base_vs_actual_duration = df_exploded.groupBy(\"topic\").agg(\n",
    "    avg(\"base_duration\").alias(\"avg_base_duration\"),\n",
    "    avg(\"duration\").alias(\"avg_actual_duration\")\n",
    ")\n",
    "df_avg_base_vs_actual_duration.show()\n",
    "df_avg_base_vs_actual_duration.toPandas()\n"
   ]
  },
  {
   "cell_type": "markdown",
   "id": "66be4457-8fc2-43fa-8da9-3c66d8fd0d0e",
   "metadata": {},
   "source": [
    "### Vergleich der Durschnittsgeschwindigkeit & Höchstgeschwindigkeit"
   ]
  },
  {
   "cell_type": "markdown",
   "id": "2691ad52-2f75-42cf-9a81-d7741f6885f3",
   "metadata": {},
   "source": [
    "Die durchschnittliche und maximale Geschwindigkeit wird aus den Routeninformationen berechnet und nach Themen gruppiert. Zuerst wird eine neue Spalte \"speed\" erstellt, die die Geschwindigkeit in km/h berechnet, indem die Länge der Route durch die Dauer in Stunden geteilt wird. Dann werden die Daten nach dem 'topic' gruppiert und die durchschnittliche sowie maximale Geschwindigkeit für jede Gruppe berechnet.\n",
    "\n",
    "Die Ergebnisse werden in einem DataFrame df_speed gespeichert und angezeigt. Schließlich wird dieses DataFrame in ein Pandas-DataFrame konvertiert."
   ]
  },
  {
   "cell_type": "code",
   "execution_count": 51,
   "id": "ec732931-4025-44b5-bf40-8ef55cc051fa",
   "metadata": {},
   "outputs": [
    {
     "name": "stdout",
     "output_type": "stream",
     "text": [
      "+-------------+------------------+------------------+\n",
      "|        topic|         avg_speed|         max_speed|\n",
      "+-------------+------------------+------------------+\n",
      "|london_routes|16197.486921827416|18746.986089644513|\n",
      "| delhi_routes| 23724.91091274546|29536.670838548187|\n",
      "|berlin_routes|24814.668658985967| 42049.51048951049|\n",
      "+-------------+------------------+------------------+\n",
      "\n"
     ]
    },
    {
     "data": {
      "text/html": [
       "<div>\n",
       "<style scoped>\n",
       "    .dataframe tbody tr th:only-of-type {\n",
       "        vertical-align: middle;\n",
       "    }\n",
       "\n",
       "    .dataframe tbody tr th {\n",
       "        vertical-align: top;\n",
       "    }\n",
       "\n",
       "    .dataframe thead th {\n",
       "        text-align: right;\n",
       "    }\n",
       "</style>\n",
       "<table border=\"1\" class=\"dataframe\">\n",
       "  <thead>\n",
       "    <tr style=\"text-align: right;\">\n",
       "      <th></th>\n",
       "      <th>topic</th>\n",
       "      <th>avg_speed</th>\n",
       "      <th>max_speed</th>\n",
       "    </tr>\n",
       "  </thead>\n",
       "  <tbody>\n",
       "    <tr>\n",
       "      <th>0</th>\n",
       "      <td>london_routes</td>\n",
       "      <td>16197.486922</td>\n",
       "      <td>18746.986090</td>\n",
       "    </tr>\n",
       "    <tr>\n",
       "      <th>1</th>\n",
       "      <td>delhi_routes</td>\n",
       "      <td>23724.910913</td>\n",
       "      <td>29536.670839</td>\n",
       "    </tr>\n",
       "    <tr>\n",
       "      <th>2</th>\n",
       "      <td>berlin_routes</td>\n",
       "      <td>24814.668659</td>\n",
       "      <td>42049.510490</td>\n",
       "    </tr>\n",
       "  </tbody>\n",
       "</table>\n",
       "</div>"
      ],
      "text/plain": [
       "           topic     avg_speed     max_speed\n",
       "0  london_routes  16197.486922  18746.986090\n",
       "1   delhi_routes  23724.910913  29536.670839\n",
       "2  berlin_routes  24814.668659  42049.510490"
      ]
     },
     "execution_count": 51,
     "metadata": {},
     "output_type": "execute_result"
    }
   ],
   "source": [
    "df_speed = df_exploded.withColumn(\"speed\", col(\"length\") / (col(\"duration\") / 3600)) \\\n",
    "    .groupBy(\"topic\").agg(\n",
    "        avg(\"speed\").alias(\"avg_speed\"),\n",
    "        max(\"speed\").alias(\"max_speed\")\n",
    "    )\n",
    "df_speed.show()\n",
    "df_speed.toPandas()\n"
   ]
  },
  {
   "cell_type": "markdown",
   "id": "abde1886-c9eb-48b2-88b7-78805cfbeb67",
   "metadata": {},
   "source": [
    "Das Vorgehen umfasst die Berechnung und Analyse von Verkehrsdatendauer und -längen. Zunächst wird das Spark DataFrame in ein Pandas DataFrame konvertiert, um weitere Analysen durchzuführen.\n",
    "\n",
    "Der Median der Dauer pro Stadt wird berechnet, indem die Funktion **percentile_approx** verwendet wird. Das Ergebnis wird in ein Pandas DataFrame **pdf_median_duration** konvertiert.\n",
    "\n",
    "Die Standardabweichung der Dauer und Länge wird für jede Stadt berechnet. Die Ergebnisse werden ebenfalls in ein Pandas DataFrame **pdf_stddev_duration_length** konvertiert.\n",
    "\n",
    "Zusätzlich wird das Verhältnis von Dauer zu Länge berechnet. Für jede Stadt werden der durchschnittliche, maximale und minimale Wert dieses Verhältnisses bestimmt und in ein Pandas DataFrame **pdf_ratio** konvertiert.\n",
    "\n",
    "Schließlich werden die Ergebnisse der Berechnungen angezeigt."
   ]
  },
  {
   "cell_type": "code",
   "execution_count": 52,
   "id": "1af64b1f-8d0d-4f2b-ba59-73650123b7ba",
   "metadata": {},
   "outputs": [
    {
     "name": "stdout",
     "output_type": "stream",
     "text": [
      "Median Duration per City\n",
      "           topic  median_duration\n",
      "0  london_routes             2910\n",
      "1   delhi_routes             2285\n",
      "2  berlin_routes             1974\n",
      "\n",
      "Standard Deviation of Duration and Length\n",
      "           topic  stddev_duration  stddev_length\n",
      "0  london_routes       345.244899     980.738536\n",
      "1   delhi_routes       399.758831    1648.492485\n",
      "2  berlin_routes       207.057665    1626.250493\n",
      "\n",
      "Duration/Length Ratio\n",
      "           topic  avg_duration_length_ratio  max_duration_length_ratio  \\\n",
      "0  london_routes                   0.223934                   0.257531   \n",
      "1   delhi_routes                   0.153955                   0.185767   \n",
      "2  berlin_routes                   0.148639                   0.177348   \n",
      "\n",
      "   min_duration_length_ratio  \n",
      "0                   0.192031  \n",
      "1                   0.121882  \n",
      "2                   0.085613  \n"
     ]
    }
   ],
   "source": [
    "import pandas as pd\n",
    "from pyspark.sql.functions import stddev, median\n",
    "\n",
    "# Aggregation of data is still done in Spark and subsquently Spark DataFrame  \n",
    "# is converted to Pandas DataFrame for further analysis and visualisation\n",
    "\n",
    "pdf_exploded = df_exploded.toPandas()\n",
    "\n",
    "# Median Duration per City\n",
    "median_duration = df_exploded.groupBy(\"topic\").agg(expr(\"percentile_approx(duration, 0.5)\").alias(\"median_duration\"))\n",
    "pdf_median_duration = median_duration.toPandas()\n",
    "\n",
    "# Standard Deviation of Duration and Length\n",
    "stddev_duration_length = df_exploded.groupBy(\"topic\").agg(\n",
    "    stddev(\"duration\").alias(\"stddev_duration\"),\n",
    "    stddev(\"length\").alias(\"stddev_length\")\n",
    ")\n",
    "pdf_stddev_duration_length = stddev_duration_length.toPandas()\n",
    "\n",
    "# Duration/Length Ratio\n",
    "df_ratio = df_exploded.withColumn(\"duration_length_ratio\", col(\"duration\") / col(\"length\"))\n",
    "pdf_ratio = df_ratio.groupBy(\"topic\").agg(\n",
    "    avg(\"duration_length_ratio\").alias(\"avg_duration_length_ratio\"),\n",
    "    max(\"duration_length_ratio\").alias(\"max_duration_length_ratio\"),\n",
    "    min(\"duration_length_ratio\").alias(\"min_duration_length_ratio\")\n",
    ").toPandas()\n",
    "\n",
    "# Visualize the results using Pandas DataFrames\n",
    "print(\"Median Duration per City\")\n",
    "print(pdf_median_duration)\n",
    "\n",
    "print(\"\\nStandard Deviation of Duration and Length\")\n",
    "print(pdf_stddev_duration_length)\n",
    "\n",
    "print(\"\\nDuration/Length Ratio\")\n",
    "print(pdf_ratio)"
   ]
  },
  {
   "cell_type": "markdown",
   "id": "6b2cdf74-ea4f-4cc4-b0f2-eacd9b6e9d26",
   "metadata": {},
   "source": [
    "Es werden drei Diagramme erstellt, um die berechneten Metriken für verschiedene Städte zu visualisieren.\n",
    "\n",
    "Zuerst wird ein Balkendiagramm erstellt, das die Median-Dauer pro Stadt zeigt. Die X-Achse stellt die Städte dar, während die Y-Achse die Median-Dauer in Sekunden anzeigt.\n",
    "\n",
    "Dann wird ein Balkendiagramm erstellt, das die Standardabweichung der Dauer und Länge für jede Stadt zeigt. Die X-Achse stellt die Städte dar, und die Y-Achse zeigt die Standardabweichung für Dauer und Länge, wobei die Längenabweichung auf einer sekundären Y-Achse dargestellt wird.\n",
    "\n",
    "Schließlich wird ein weiteres Balkendiagramm erstellt, das das durchschnittliche Verhältnis von Dauer zu Länge pro Stadt zeigt. Die X-Achse stellt die Städte dar, und die Y-Achse zeigt das durchschnittliche Verhältnis von Dauer zu Länge.\n",
    "\n",
    "Diese Visualisierungen bieten eine anschauliche Darstellung der berechneten Metriken und ermöglichen den Vergleich zwischen den verschiedenen Städten."
   ]
  },
  {
   "cell_type": "code",
   "execution_count": 53,
   "id": "09cbfe99-6391-4bf1-a793-4b9c2fc9c8b8",
   "metadata": {},
   "outputs": [
    {
     "data": {
      "image/png": "[encoded data removed]",
      "text/plain": [
       "<Figure size 1000x600 with 1 Axes>"
      ]
     },
     "metadata": {},
     "output_type": "display_data"
    },
    {
     "data": {
      "text/plain": [
       "<Figure size 1000x600 with 0 Axes>"
      ]
     },
     "metadata": {},
     "output_type": "display_data"
    },
    {
     "data": {
      "image/png": "[encoded data removed]",
      "text/plain": [
       "<Figure size 640x480 with 2 Axes>"
      ]
     },
     "metadata": {},
     "output_type": "display_data"
    },
    {
     "data": {
      "image/png": "[encoded data removed]",
      "text/plain": [
       "<Figure size 1000x600 with 1 Axes>"
      ]
     },
     "metadata": {},
     "output_type": "display_data"
    }
   ],
   "source": [
    "import matplotlib.pyplot as plt\n",
    "import seaborn as sns\n",
    "# Visualisierung: Median Duration per City\n",
    "plt.figure(figsize=(10, 6))\n",
    "sns.barplot(x='topic', y='median_duration', data=pdf_median_duration)\n",
    "plt.title('Median Duration per City')\n",
    "plt.xlabel('City')\n",
    "plt.ylabel('Median Duration (seconds)')\n",
    "plt.show()\n",
    "\n",
    "# Visualisierung: Standard Deviation of Duration and Length\n",
    "plt.figure(figsize=(10, 6))\n",
    "pdf_stddev_duration_length.plot(kind='bar', x='topic', secondary_y=['stddev_length'], rot=0)\n",
    "plt.title('Standard Deviation of Duration and Length per City')\n",
    "plt.xlabel('City')\n",
    "plt.show()\n",
    "\n",
    "\n",
    "# Visualisierung: Duration/Length Ratio\n",
    "plt.figure(figsize=(10, 6))\n",
    "sns.barplot(x='topic', y='avg_duration_length_ratio', data=pdf_ratio)\n",
    "plt.title('Average Duration/Length Ratio per City')\n",
    "plt.xlabel('City')\n",
    "plt.ylabel('Average Duration/Length Ratio')\n",
    "plt.show()\n"
   ]
  },
  {
   "cell_type": "markdown",
   "id": "6442f734-e7f7-447d-ab6a-545348db8268",
   "metadata": {},
   "source": [
    "Die drei Diagramme vergleichen verschiedene Verkehrsmetriken für die Städte London, New Delhi und Berlin.\n",
    "\n",
    "**Standardabweichung der Dauer und Länge pro Stadt**:\n",
    "\n",
    "London: Die Standardabweichung der Dauer (blaue Balken) liegt bei etwa 1000 Sekunden, während die Standardabweichung der Länge (orange Balken) bei etwa 900 Einheiten liegt.\n",
    "\n",
    "New Delhi: Die Standardabweichung der Dauer liegt bei etwa 800 Sekunden, während die Standardabweichung der Länge bei etwa 1000 Einheiten liegt.\n",
    "\n",
    "Berlin: Die Standardabweichung der Dauer liegt bei etwa 700 Sekunden, während die Standardabweichung der Länge bei etwa 5000 Einheiten liegt.\n",
    "\n",
    "Dieses Diagramm zeigt, dass London die größte Variabilität in der Dauer und eine hohe Variabilität in der Länge aufweist. Berlin hat die größte Variabilität in der Länge, während New Delhi eine moderate Variabilität in beiden Metriken aufweist.\n",
    "\n",
    "**Median-Dauer pro Stadt**:\n",
    "\n",
    "London: Die mittlere Dauer der Routen beträgt etwa 1750 Sekunden.\n",
    "\n",
    "New Delhi: Die mittlere Dauer der Routen beträgt etwa 1600 Sekunden.\n",
    "\n",
    "Berlin: Die mittlere Dauer der Routen beträgt etwa 1200 Sekunden.\n",
    "\n",
    "Dieses Diagramm zeigt, dass London die längste mittlere Routenzeit hat, gefolgt von New Delhi und Berlin.\n",
    "\n",
    "**Durchschnittliches Verhältnis von Dauer zu Länge pro Stadt**:\n",
    "\n",
    "London: Hat das höchste durchschnittliche Verhältnis von Dauer zu Länge mit etwa 0,19.\n",
    "\n",
    "New Delhi: Hat ein durchschnittliches Verhältnis von etwa 0,14.\n",
    "\n",
    "Berlin: Hat ein durchschnittliches Verhältnis von etwa 0,15.\n",
    "\n",
    "Dieses Diagramm zeigt, dass London das höchste Verhältnis von Routenzeit zu Streckenlänge hat, was auf einen höheren Verkehrsstauniveau oder ineffizientere Verkehrssysteme hinweisen könnte.\n",
    "\n",
    "\n",
    "Zusammenfassend zeigen die Diagramme, dass London im Vergleich zu New Delhi und Berlin sowohl in Bezug auf die Variabilität der Routenlänge und -dauer als auch auf die durchschnittliche Routenzeit und das Verhältnis von Dauer zu Länge die höchsten Werte aufweist. Dies deutet darauf hin, dass der Verkehr in London tendenziell unberechenbarer und zeitaufwendiger ist. Berlin zeigt die größte Variabilität in der Routenlänge, während New Delhi in beiden Metriken moderate Werte aufweist."
   ]
  },
  {
   "cell_type": "markdown",
   "id": "26db15d1-81dc-4ddb-834b-3d639cdb5f19",
   "metadata": {},
   "source": [
    "Zuerst werden die Pandas DataFrames **pdf_median_duration**, **pdf_stddev_duration_length**, **pdf_transport_mode_proportions** und **pdf_ratio** in Spark DataFrames konvertiert. Anschließend wird das Pandas DataFrame **pdf_median_duration** in einer HDF5-Datei gespeichert."
   ]
  },
  {
   "cell_type": "code",
   "execution_count": 54,
   "id": "be1813f8-e955-4e9b-8208-a7841d929c95",
   "metadata": {},
   "outputs": [],
   "source": [
    "df_median_duration = spark.createDataFrame(pdf_median_duration)\n",
    "df_stddev_duration_length = spark.createDataFrame(pdf_stddev_duration_length)\n",
    "#df_transport_mode_proportions = spark.createDataFrame(pdf_transport_mode_proportions)\n",
    "df_ratio = spark.createDataFrame(pdf_ratio)"
   ]
  },
  {
   "cell_type": "markdown",
   "id": "9c31c763-3277-4c3d-8beb-d0e9ce1fc9ca",
   "metadata": {},
   "source": [
    "Zuerst wird das Pandas DataFrame **pdf_median_duration** in einer HDF5-Datei unter dem Verzeichnis **flat_files** gespeichert. Anschließend wird das Spark DataFrame **df_median_duration** im Parquet-Format im gleichen Verzeichnis gespeichert. Schließlich werden die Inhalte des Spark DataFrame **df_median_duration** angezeigt."
   ]
  },
  {
   "cell_type": "code",
   "execution_count": 55,
   "id": "803d8539-2b6e-4b6f-b507-a58e5ecae360",
   "metadata": {},
   "outputs": [],
   "source": [
    "# Save Dataframe to HDF5 using Pandas\n",
    "pdf_median_duration.to_hdf(\"flat_files/median_duration.h5\", key='median_duration', mode='w')"
   ]
  },
  {
   "cell_type": "code",
   "execution_count": 56,
   "id": "332fca1c-29c4-4a04-ae8a-5b3f81968bca",
   "metadata": {},
   "outputs": [],
   "source": [
    "# Save Dataframe to parquet file\n",
    "df_median_duration.write.parquet(\"flat_files/median_duration.parquet\")"
   ]
  },
  {
   "cell_type": "code",
   "execution_count": 57,
   "id": "119670ab-6951-4979-98ef-e70459c8db90",
   "metadata": {},
   "outputs": [
    {
     "name": "stdout",
     "output_type": "stream",
     "text": [
      "+-------------+---------------+\n",
      "|        topic|median_duration|\n",
      "+-------------+---------------+\n",
      "|london_routes|           2910|\n",
      "| delhi_routes|           2285|\n",
      "|berlin_routes|           1974|\n",
      "+-------------+---------------+\n",
      "\n"
     ]
    }
   ],
   "source": [
    "df_median_duration.show()"
   ]
  },
  {
   "cell_type": "code",
   "execution_count": null,
   "id": "14f896fc-609a-4808-aadf-b9e562a0b7ac",
   "metadata": {},
   "outputs": [],
   "source": [
    "# Stop Spark session\n",
    "spark.stop()"
   ]
  }
 ],
 "metadata": {
  "kernelspec": {
   "display_name": "Python 3 (ipykernel)",
   "language": "python",
   "name": "python3"
  },
  "language_info": {
   "codemirror_mode": {
    "name": "ipython",
    "version": 3
   },
   "file_extension": ".py",
   "mimetype": "text/x-python",
   "name": "python",
   "nbconvert_exporter": "python",
   "pygments_lexer": "ipython3",
   "version": "3.11.6"
  }
 },
 "nbformat": 4,
 "nbformat_minor": 5
}
